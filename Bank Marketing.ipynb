{
  "cells": [
    {
      "cell_type": "markdown",
      "source": [
        "# **Load data set**"
      ],
      "metadata": {
        "id": "AK8odXy-RRou"
      },
      "id": "AK8odXy-RRou"
    },
    {
      "cell_type": "code",
      "execution_count": 26,
      "id": "ff76077a-7b8b-4945-b675-5eeb8bc59bf6",
      "metadata": {
        "id": "ff76077a-7b8b-4945-b675-5eeb8bc59bf6"
      },
      "outputs": [],
      "source": [
        "import pandas as pd\n",
        "\n",
        "\n",
        "data = pd.read_csv(\"https://raw.githubusercontent.com/vihanga-induwara/CM2604-CW-Bank-Marketing/refs/heads/main/bank%2Bmarketing/bank-additional/bank-additional/bank-additional-full.csv\", sep=\";\")\n"
      ]
    },
    {
      "cell_type": "code",
      "source": [
        "data.head()"
      ],
      "metadata": {
        "colab": {
          "base_uri": "https://localhost:8080/",
          "height": 0
        },
        "id": "Ir96EaSmYorx",
        "outputId": "4181414c-f442-4423-87e4-a4aa72c8afd1"
      },
      "id": "Ir96EaSmYorx",
      "execution_count": 27,
      "outputs": [
        {
          "output_type": "execute_result",
          "data": {
            "text/plain": [
              "   age        job  marital    education  default housing loan    contact  \\\n",
              "0   56  housemaid  married     basic.4y       no      no   no  telephone   \n",
              "1   57   services  married  high.school  unknown      no   no  telephone   \n",
              "2   37   services  married  high.school       no     yes   no  telephone   \n",
              "3   40     admin.  married     basic.6y       no      no   no  telephone   \n",
              "4   56   services  married  high.school       no      no  yes  telephone   \n",
              "\n",
              "  month day_of_week  ...  campaign  pdays  previous     poutcome emp.var.rate  \\\n",
              "0   may         mon  ...         1    999         0  nonexistent          1.1   \n",
              "1   may         mon  ...         1    999         0  nonexistent          1.1   \n",
              "2   may         mon  ...         1    999         0  nonexistent          1.1   \n",
              "3   may         mon  ...         1    999         0  nonexistent          1.1   \n",
              "4   may         mon  ...         1    999         0  nonexistent          1.1   \n",
              "\n",
              "   cons.price.idx  cons.conf.idx  euribor3m  nr.employed   y  \n",
              "0          93.994          -36.4      4.857       5191.0  no  \n",
              "1          93.994          -36.4      4.857       5191.0  no  \n",
              "2          93.994          -36.4      4.857       5191.0  no  \n",
              "3          93.994          -36.4      4.857       5191.0  no  \n",
              "4          93.994          -36.4      4.857       5191.0  no  \n",
              "\n",
              "[5 rows x 21 columns]"
            ],
            "text/html": [
              "\n",
              "  <div id=\"df-01e8b429-9da2-4d36-94b8-2801fb174adf\" class=\"colab-df-container\">\n",
              "    <div>\n",
              "<style scoped>\n",
              "    .dataframe tbody tr th:only-of-type {\n",
              "        vertical-align: middle;\n",
              "    }\n",
              "\n",
              "    .dataframe tbody tr th {\n",
              "        vertical-align: top;\n",
              "    }\n",
              "\n",
              "    .dataframe thead th {\n",
              "        text-align: right;\n",
              "    }\n",
              "</style>\n",
              "<table border=\"1\" class=\"dataframe\">\n",
              "  <thead>\n",
              "    <tr style=\"text-align: right;\">\n",
              "      <th></th>\n",
              "      <th>age</th>\n",
              "      <th>job</th>\n",
              "      <th>marital</th>\n",
              "      <th>education</th>\n",
              "      <th>default</th>\n",
              "      <th>housing</th>\n",
              "      <th>loan</th>\n",
              "      <th>contact</th>\n",
              "      <th>month</th>\n",
              "      <th>day_of_week</th>\n",
              "      <th>...</th>\n",
              "      <th>campaign</th>\n",
              "      <th>pdays</th>\n",
              "      <th>previous</th>\n",
              "      <th>poutcome</th>\n",
              "      <th>emp.var.rate</th>\n",
              "      <th>cons.price.idx</th>\n",
              "      <th>cons.conf.idx</th>\n",
              "      <th>euribor3m</th>\n",
              "      <th>nr.employed</th>\n",
              "      <th>y</th>\n",
              "    </tr>\n",
              "  </thead>\n",
              "  <tbody>\n",
              "    <tr>\n",
              "      <th>0</th>\n",
              "      <td>56</td>\n",
              "      <td>housemaid</td>\n",
              "      <td>married</td>\n",
              "      <td>basic.4y</td>\n",
              "      <td>no</td>\n",
              "      <td>no</td>\n",
              "      <td>no</td>\n",
              "      <td>telephone</td>\n",
              "      <td>may</td>\n",
              "      <td>mon</td>\n",
              "      <td>...</td>\n",
              "      <td>1</td>\n",
              "      <td>999</td>\n",
              "      <td>0</td>\n",
              "      <td>nonexistent</td>\n",
              "      <td>1.1</td>\n",
              "      <td>93.994</td>\n",
              "      <td>-36.4</td>\n",
              "      <td>4.857</td>\n",
              "      <td>5191.0</td>\n",
              "      <td>no</td>\n",
              "    </tr>\n",
              "    <tr>\n",
              "      <th>1</th>\n",
              "      <td>57</td>\n",
              "      <td>services</td>\n",
              "      <td>married</td>\n",
              "      <td>high.school</td>\n",
              "      <td>unknown</td>\n",
              "      <td>no</td>\n",
              "      <td>no</td>\n",
              "      <td>telephone</td>\n",
              "      <td>may</td>\n",
              "      <td>mon</td>\n",
              "      <td>...</td>\n",
              "      <td>1</td>\n",
              "      <td>999</td>\n",
              "      <td>0</td>\n",
              "      <td>nonexistent</td>\n",
              "      <td>1.1</td>\n",
              "      <td>93.994</td>\n",
              "      <td>-36.4</td>\n",
              "      <td>4.857</td>\n",
              "      <td>5191.0</td>\n",
              "      <td>no</td>\n",
              "    </tr>\n",
              "    <tr>\n",
              "      <th>2</th>\n",
              "      <td>37</td>\n",
              "      <td>services</td>\n",
              "      <td>married</td>\n",
              "      <td>high.school</td>\n",
              "      <td>no</td>\n",
              "      <td>yes</td>\n",
              "      <td>no</td>\n",
              "      <td>telephone</td>\n",
              "      <td>may</td>\n",
              "      <td>mon</td>\n",
              "      <td>...</td>\n",
              "      <td>1</td>\n",
              "      <td>999</td>\n",
              "      <td>0</td>\n",
              "      <td>nonexistent</td>\n",
              "      <td>1.1</td>\n",
              "      <td>93.994</td>\n",
              "      <td>-36.4</td>\n",
              "      <td>4.857</td>\n",
              "      <td>5191.0</td>\n",
              "      <td>no</td>\n",
              "    </tr>\n",
              "    <tr>\n",
              "      <th>3</th>\n",
              "      <td>40</td>\n",
              "      <td>admin.</td>\n",
              "      <td>married</td>\n",
              "      <td>basic.6y</td>\n",
              "      <td>no</td>\n",
              "      <td>no</td>\n",
              "      <td>no</td>\n",
              "      <td>telephone</td>\n",
              "      <td>may</td>\n",
              "      <td>mon</td>\n",
              "      <td>...</td>\n",
              "      <td>1</td>\n",
              "      <td>999</td>\n",
              "      <td>0</td>\n",
              "      <td>nonexistent</td>\n",
              "      <td>1.1</td>\n",
              "      <td>93.994</td>\n",
              "      <td>-36.4</td>\n",
              "      <td>4.857</td>\n",
              "      <td>5191.0</td>\n",
              "      <td>no</td>\n",
              "    </tr>\n",
              "    <tr>\n",
              "      <th>4</th>\n",
              "      <td>56</td>\n",
              "      <td>services</td>\n",
              "      <td>married</td>\n",
              "      <td>high.school</td>\n",
              "      <td>no</td>\n",
              "      <td>no</td>\n",
              "      <td>yes</td>\n",
              "      <td>telephone</td>\n",
              "      <td>may</td>\n",
              "      <td>mon</td>\n",
              "      <td>...</td>\n",
              "      <td>1</td>\n",
              "      <td>999</td>\n",
              "      <td>0</td>\n",
              "      <td>nonexistent</td>\n",
              "      <td>1.1</td>\n",
              "      <td>93.994</td>\n",
              "      <td>-36.4</td>\n",
              "      <td>4.857</td>\n",
              "      <td>5191.0</td>\n",
              "      <td>no</td>\n",
              "    </tr>\n",
              "  </tbody>\n",
              "</table>\n",
              "<p>5 rows × 21 columns</p>\n",
              "</div>\n",
              "    <div class=\"colab-df-buttons\">\n",
              "\n",
              "  <div class=\"colab-df-container\">\n",
              "    <button class=\"colab-df-convert\" onclick=\"convertToInteractive('df-01e8b429-9da2-4d36-94b8-2801fb174adf')\"\n",
              "            title=\"Convert this dataframe to an interactive table.\"\n",
              "            style=\"display:none;\">\n",
              "\n",
              "  <svg xmlns=\"http://www.w3.org/2000/svg\" height=\"24px\" viewBox=\"0 -960 960 960\">\n",
              "    <path d=\"M120-120v-720h720v720H120Zm60-500h600v-160H180v160Zm220 220h160v-160H400v160Zm0 220h160v-160H400v160ZM180-400h160v-160H180v160Zm440 0h160v-160H620v160ZM180-180h160v-160H180v160Zm440 0h160v-160H620v160Z\"/>\n",
              "  </svg>\n",
              "    </button>\n",
              "\n",
              "  <style>\n",
              "    .colab-df-container {\n",
              "      display:flex;\n",
              "      gap: 12px;\n",
              "    }\n",
              "\n",
              "    .colab-df-convert {\n",
              "      background-color: #E8F0FE;\n",
              "      border: none;\n",
              "      border-radius: 50%;\n",
              "      cursor: pointer;\n",
              "      display: none;\n",
              "      fill: #1967D2;\n",
              "      height: 32px;\n",
              "      padding: 0 0 0 0;\n",
              "      width: 32px;\n",
              "    }\n",
              "\n",
              "    .colab-df-convert:hover {\n",
              "      background-color: #E2EBFA;\n",
              "      box-shadow: 0px 1px 2px rgba(60, 64, 67, 0.3), 0px 1px 3px 1px rgba(60, 64, 67, 0.15);\n",
              "      fill: #174EA6;\n",
              "    }\n",
              "\n",
              "    .colab-df-buttons div {\n",
              "      margin-bottom: 4px;\n",
              "    }\n",
              "\n",
              "    [theme=dark] .colab-df-convert {\n",
              "      background-color: #3B4455;\n",
              "      fill: #D2E3FC;\n",
              "    }\n",
              "\n",
              "    [theme=dark] .colab-df-convert:hover {\n",
              "      background-color: #434B5C;\n",
              "      box-shadow: 0px 1px 3px 1px rgba(0, 0, 0, 0.15);\n",
              "      filter: drop-shadow(0px 1px 2px rgba(0, 0, 0, 0.3));\n",
              "      fill: #FFFFFF;\n",
              "    }\n",
              "  </style>\n",
              "\n",
              "    <script>\n",
              "      const buttonEl =\n",
              "        document.querySelector('#df-01e8b429-9da2-4d36-94b8-2801fb174adf button.colab-df-convert');\n",
              "      buttonEl.style.display =\n",
              "        google.colab.kernel.accessAllowed ? 'block' : 'none';\n",
              "\n",
              "      async function convertToInteractive(key) {\n",
              "        const element = document.querySelector('#df-01e8b429-9da2-4d36-94b8-2801fb174adf');\n",
              "        const dataTable =\n",
              "          await google.colab.kernel.invokeFunction('convertToInteractive',\n",
              "                                                    [key], {});\n",
              "        if (!dataTable) return;\n",
              "\n",
              "        const docLinkHtml = 'Like what you see? Visit the ' +\n",
              "          '<a target=\"_blank\" href=https://colab.research.google.com/notebooks/data_table.ipynb>data table notebook</a>'\n",
              "          + ' to learn more about interactive tables.';\n",
              "        element.innerHTML = '';\n",
              "        dataTable['output_type'] = 'display_data';\n",
              "        await google.colab.output.renderOutput(dataTable, element);\n",
              "        const docLink = document.createElement('div');\n",
              "        docLink.innerHTML = docLinkHtml;\n",
              "        element.appendChild(docLink);\n",
              "      }\n",
              "    </script>\n",
              "  </div>\n",
              "\n",
              "\n",
              "<div id=\"df-b2654d94-1e60-4ed0-bcd0-e65d757fefc7\">\n",
              "  <button class=\"colab-df-quickchart\" onclick=\"quickchart('df-b2654d94-1e60-4ed0-bcd0-e65d757fefc7')\"\n",
              "            title=\"Suggest charts\"\n",
              "            style=\"display:none;\">\n",
              "\n",
              "<svg xmlns=\"http://www.w3.org/2000/svg\" height=\"24px\"viewBox=\"0 0 24 24\"\n",
              "     width=\"24px\">\n",
              "    <g>\n",
              "        <path d=\"M19 3H5c-1.1 0-2 .9-2 2v14c0 1.1.9 2 2 2h14c1.1 0 2-.9 2-2V5c0-1.1-.9-2-2-2zM9 17H7v-7h2v7zm4 0h-2V7h2v10zm4 0h-2v-4h2v4z\"/>\n",
              "    </g>\n",
              "</svg>\n",
              "  </button>\n",
              "\n",
              "<style>\n",
              "  .colab-df-quickchart {\n",
              "      --bg-color: #E8F0FE;\n",
              "      --fill-color: #1967D2;\n",
              "      --hover-bg-color: #E2EBFA;\n",
              "      --hover-fill-color: #174EA6;\n",
              "      --disabled-fill-color: #AAA;\n",
              "      --disabled-bg-color: #DDD;\n",
              "  }\n",
              "\n",
              "  [theme=dark] .colab-df-quickchart {\n",
              "      --bg-color: #3B4455;\n",
              "      --fill-color: #D2E3FC;\n",
              "      --hover-bg-color: #434B5C;\n",
              "      --hover-fill-color: #FFFFFF;\n",
              "      --disabled-bg-color: #3B4455;\n",
              "      --disabled-fill-color: #666;\n",
              "  }\n",
              "\n",
              "  .colab-df-quickchart {\n",
              "    background-color: var(--bg-color);\n",
              "    border: none;\n",
              "    border-radius: 50%;\n",
              "    cursor: pointer;\n",
              "    display: none;\n",
              "    fill: var(--fill-color);\n",
              "    height: 32px;\n",
              "    padding: 0;\n",
              "    width: 32px;\n",
              "  }\n",
              "\n",
              "  .colab-df-quickchart:hover {\n",
              "    background-color: var(--hover-bg-color);\n",
              "    box-shadow: 0 1px 2px rgba(60, 64, 67, 0.3), 0 1px 3px 1px rgba(60, 64, 67, 0.15);\n",
              "    fill: var(--button-hover-fill-color);\n",
              "  }\n",
              "\n",
              "  .colab-df-quickchart-complete:disabled,\n",
              "  .colab-df-quickchart-complete:disabled:hover {\n",
              "    background-color: var(--disabled-bg-color);\n",
              "    fill: var(--disabled-fill-color);\n",
              "    box-shadow: none;\n",
              "  }\n",
              "\n",
              "  .colab-df-spinner {\n",
              "    border: 2px solid var(--fill-color);\n",
              "    border-color: transparent;\n",
              "    border-bottom-color: var(--fill-color);\n",
              "    animation:\n",
              "      spin 1s steps(1) infinite;\n",
              "  }\n",
              "\n",
              "  @keyframes spin {\n",
              "    0% {\n",
              "      border-color: transparent;\n",
              "      border-bottom-color: var(--fill-color);\n",
              "      border-left-color: var(--fill-color);\n",
              "    }\n",
              "    20% {\n",
              "      border-color: transparent;\n",
              "      border-left-color: var(--fill-color);\n",
              "      border-top-color: var(--fill-color);\n",
              "    }\n",
              "    30% {\n",
              "      border-color: transparent;\n",
              "      border-left-color: var(--fill-color);\n",
              "      border-top-color: var(--fill-color);\n",
              "      border-right-color: var(--fill-color);\n",
              "    }\n",
              "    40% {\n",
              "      border-color: transparent;\n",
              "      border-right-color: var(--fill-color);\n",
              "      border-top-color: var(--fill-color);\n",
              "    }\n",
              "    60% {\n",
              "      border-color: transparent;\n",
              "      border-right-color: var(--fill-color);\n",
              "    }\n",
              "    80% {\n",
              "      border-color: transparent;\n",
              "      border-right-color: var(--fill-color);\n",
              "      border-bottom-color: var(--fill-color);\n",
              "    }\n",
              "    90% {\n",
              "      border-color: transparent;\n",
              "      border-bottom-color: var(--fill-color);\n",
              "    }\n",
              "  }\n",
              "</style>\n",
              "\n",
              "  <script>\n",
              "    async function quickchart(key) {\n",
              "      const quickchartButtonEl =\n",
              "        document.querySelector('#' + key + ' button');\n",
              "      quickchartButtonEl.disabled = true;  // To prevent multiple clicks.\n",
              "      quickchartButtonEl.classList.add('colab-df-spinner');\n",
              "      try {\n",
              "        const charts = await google.colab.kernel.invokeFunction(\n",
              "            'suggestCharts', [key], {});\n",
              "      } catch (error) {\n",
              "        console.error('Error during call to suggestCharts:', error);\n",
              "      }\n",
              "      quickchartButtonEl.classList.remove('colab-df-spinner');\n",
              "      quickchartButtonEl.classList.add('colab-df-quickchart-complete');\n",
              "    }\n",
              "    (() => {\n",
              "      let quickchartButtonEl =\n",
              "        document.querySelector('#df-b2654d94-1e60-4ed0-bcd0-e65d757fefc7 button');\n",
              "      quickchartButtonEl.style.display =\n",
              "        google.colab.kernel.accessAllowed ? 'block' : 'none';\n",
              "    })();\n",
              "  </script>\n",
              "</div>\n",
              "\n",
              "    </div>\n",
              "  </div>\n"
            ],
            "application/vnd.google.colaboratory.intrinsic+json": {
              "type": "dataframe",
              "variable_name": "data"
            }
          },
          "metadata": {},
          "execution_count": 27
        }
      ]
    },
    {
      "cell_type": "code",
      "source": [
        "# Check column names and data types\n",
        "print(data.info())"
      ],
      "metadata": {
        "colab": {
          "base_uri": "https://localhost:8080/"
        },
        "id": "4oBXyK8pZQ0O",
        "outputId": "39676773-3cad-4b30-927b-9c37386aaf15"
      },
      "id": "4oBXyK8pZQ0O",
      "execution_count": 28,
      "outputs": [
        {
          "output_type": "stream",
          "name": "stdout",
          "text": [
            "<class 'pandas.core.frame.DataFrame'>\n",
            "RangeIndex: 41188 entries, 0 to 41187\n",
            "Data columns (total 21 columns):\n",
            " #   Column          Non-Null Count  Dtype  \n",
            "---  ------          --------------  -----  \n",
            " 0   age             41188 non-null  int64  \n",
            " 1   job             41188 non-null  object \n",
            " 2   marital         41188 non-null  object \n",
            " 3   education       41188 non-null  object \n",
            " 4   default         41188 non-null  object \n",
            " 5   housing         41188 non-null  object \n",
            " 6   loan            41188 non-null  object \n",
            " 7   contact         41188 non-null  object \n",
            " 8   month           41188 non-null  object \n",
            " 9   day_of_week     41188 non-null  object \n",
            " 10  duration        41188 non-null  int64  \n",
            " 11  campaign        41188 non-null  int64  \n",
            " 12  pdays           41188 non-null  int64  \n",
            " 13  previous        41188 non-null  int64  \n",
            " 14  poutcome        41188 non-null  object \n",
            " 15  emp.var.rate    41188 non-null  float64\n",
            " 16  cons.price.idx  41188 non-null  float64\n",
            " 17  cons.conf.idx   41188 non-null  float64\n",
            " 18  euribor3m       41188 non-null  float64\n",
            " 19  nr.employed     41188 non-null  float64\n",
            " 20  y               41188 non-null  object \n",
            "dtypes: float64(5), int64(5), object(11)\n",
            "memory usage: 6.6+ MB\n",
            "None\n"
          ]
        }
      ]
    },
    {
      "cell_type": "code",
      "source": [
        "# Check for missing values\n",
        "print(data.isnull().sum())"
      ],
      "metadata": {
        "colab": {
          "base_uri": "https://localhost:8080/"
        },
        "id": "80Kzfqa0ZRae",
        "outputId": "d5ffee60-3648-44e3-86a3-57194aa794e7"
      },
      "id": "80Kzfqa0ZRae",
      "execution_count": 29,
      "outputs": [
        {
          "output_type": "stream",
          "name": "stdout",
          "text": [
            "age               0\n",
            "job               0\n",
            "marital           0\n",
            "education         0\n",
            "default           0\n",
            "housing           0\n",
            "loan              0\n",
            "contact           0\n",
            "month             0\n",
            "day_of_week       0\n",
            "duration          0\n",
            "campaign          0\n",
            "pdays             0\n",
            "previous          0\n",
            "poutcome          0\n",
            "emp.var.rate      0\n",
            "cons.price.idx    0\n",
            "cons.conf.idx     0\n",
            "euribor3m         0\n",
            "nr.employed       0\n",
            "y                 0\n",
            "dtype: int64\n"
          ]
        }
      ]
    },
    {
      "cell_type": "code",
      "source": [
        "# Summary statistics\n",
        "print(data.describe())"
      ],
      "metadata": {
        "colab": {
          "base_uri": "https://localhost:8080/"
        },
        "id": "CTeNslycZRrG",
        "outputId": "d2dde422-c402-4146-d018-4ce637f546c4"
      },
      "id": "CTeNslycZRrG",
      "execution_count": 30,
      "outputs": [
        {
          "output_type": "stream",
          "name": "stdout",
          "text": [
            "               age      duration      campaign         pdays      previous  \\\n",
            "count  41188.00000  41188.000000  41188.000000  41188.000000  41188.000000   \n",
            "mean      40.02406    258.285010      2.567593    962.475454      0.172963   \n",
            "std       10.42125    259.279249      2.770014    186.910907      0.494901   \n",
            "min       17.00000      0.000000      1.000000      0.000000      0.000000   \n",
            "25%       32.00000    102.000000      1.000000    999.000000      0.000000   \n",
            "50%       38.00000    180.000000      2.000000    999.000000      0.000000   \n",
            "75%       47.00000    319.000000      3.000000    999.000000      0.000000   \n",
            "max       98.00000   4918.000000     56.000000    999.000000      7.000000   \n",
            "\n",
            "       emp.var.rate  cons.price.idx  cons.conf.idx     euribor3m   nr.employed  \n",
            "count  41188.000000    41188.000000   41188.000000  41188.000000  41188.000000  \n",
            "mean       0.081886       93.575664     -40.502600      3.621291   5167.035911  \n",
            "std        1.570960        0.578840       4.628198      1.734447     72.251528  \n",
            "min       -3.400000       92.201000     -50.800000      0.634000   4963.600000  \n",
            "25%       -1.800000       93.075000     -42.700000      1.344000   5099.100000  \n",
            "50%        1.100000       93.749000     -41.800000      4.857000   5191.000000  \n",
            "75%        1.400000       93.994000     -36.400000      4.961000   5228.100000  \n",
            "max        1.400000       94.767000     -26.900000      5.045000   5228.100000  \n"
          ]
        }
      ]
    },
    {
      "cell_type": "code",
      "source": [
        "import matplotlib.pyplot as plt\n",
        "import seaborn as sns\n",
        "\n",
        "# Age distribution\n",
        "sns.histplot(data['age'], bins=20, kde=True, color='blue')\n",
        "plt.title('Age Distribution')\n",
        "plt.xlabel('Age')\n",
        "plt.ylabel('Frequency')\n",
        "plt.show()"
      ],
      "metadata": {
        "colab": {
          "base_uri": "https://localhost:8080/",
          "height": 0
        },
        "id": "sGAf0l6baKpL",
        "outputId": "276eb408-9f6d-47e9-dbdf-5d3a78d33063"
      },
      "id": "sGAf0l6baKpL",
      "execution_count": 31,
      "outputs": [
        {
          "output_type": "display_data",
          "data": {
            "text/plain": [
              "<Figure size 640x480 with 1 Axes>"
            ],
            "image/png": "[encoded data removed]"
          },
          "metadata": {}
        }
      ]
    },
    {
      "cell_type": "code",
      "source": [
        "import matplotlib.pyplot as plt\n",
        "import seaborn as sns\n",
        "\n",
        "# Countplot for target variable\n",
        "sns.countplot(x='y', data=data, palette='pastel')\n",
        "plt.title('Distribution of Campaign Outcome (Balanced vs. Imbalanced)')\n",
        "plt.xlabel('Outcome')\n",
        "plt.ylabel('Count')\n",
        "plt.show()\n"
      ],
      "metadata": {
        "colab": {
          "base_uri": "https://localhost:8080/",
          "height": 0
        },
        "id": "ammVD5TmaYzU",
        "outputId": "0f0542c3-7adb-4fa1-9773-acd95d065e5b"
      },
      "id": "ammVD5TmaYzU",
      "execution_count": 32,
      "outputs": [
        {
          "output_type": "stream",
          "name": "stderr",
          "text": [
            "<ipython-input-32-1dfeb1f79179>:5: FutureWarning: \n",
            "\n",
            "Passing `palette` without assigning `hue` is deprecated and will be removed in v0.14.0. Assign the `x` variable to `hue` and set `legend=False` for the same effect.\n",
            "\n",
            "  sns.countplot(x='y', data=data, palette='pastel')\n"
          ]
        },
        {
          "output_type": "display_data",
          "data": {
            "text/plain": [
              "<Figure size 640x480 with 1 Axes>"
            ],
            "image/png": "[encoded data removed]"
          },
          "metadata": {}
        }
      ]
    },
    {
      "cell_type": "code",
      "source": [
        "# Calculate percentage distribution\n",
        "outcome_counts = data['y'].value_counts(normalize=True) * 100\n",
        "print(outcome_counts)\n",
        "\n",
        "# Visualize as a pie chart\n",
        "outcome_counts.plot.pie(autopct='%1.1f%%', labels=['No', 'Yes'], colors=['lightblue', 'orange'])\n",
        "plt.title('Percentage Distribution of Campaign Outcome')\n",
        "plt.ylabel('')  # Remove y-axis label\n",
        "plt.show()\n"
      ],
      "metadata": {
        "colab": {
          "base_uri": "https://localhost:8080/",
          "height": 0
        },
        "id": "O-b9-n3gbAE1",
        "outputId": "a6477354-c2c4-4d82-f309-948f755ee95f"
      },
      "id": "O-b9-n3gbAE1",
      "execution_count": 33,
      "outputs": [
        {
          "output_type": "stream",
          "name": "stdout",
          "text": [
            "y\n",
            "no     88.734583\n",
            "yes    11.265417\n",
            "Name: proportion, dtype: float64\n"
          ]
        },
        {
          "output_type": "display_data",
          "data": {
            "text/plain": [
              "<Figure size 640x480 with 1 Axes>"
            ],
            "image/png": "[encoded data removed]"
          },
          "metadata": {}
        }
      ]
    },
    {
      "cell_type": "markdown",
      "source": [
        "# **Preprocess Data**"
      ],
      "metadata": {
        "id": "MzquUa1FUL4p"
      },
      "id": "MzquUa1FUL4p"
    },
    {
      "cell_type": "code",
      "source": [
        "\n",
        "# Display column details: type and number of unique categories\n",
        "for column in data.columns:\n",
        "    print(f\"Column: {column}\")\n",
        "    print(f\"Type: {data[column].dtype}\")\n",
        "    print(f\"Number of unique values: {data[column].nunique()}\")\n",
        "\n",
        "    # If the column is categorical, print the unique values (categories)\n",
        "    if data[column].dtype == 'object':\n",
        "        print(f\"Categories: {data[column].unique()}\")\n",
        "    print(\"-\" * 40)\n"
      ],
      "metadata": {
        "id": "NoXOg4zAidLN",
        "outputId": "1db07bf0-db0a-407e-f0db-e45127cff5a7",
        "colab": {
          "base_uri": "https://localhost:8080/"
        }
      },
      "id": "NoXOg4zAidLN",
      "execution_count": 61,
      "outputs": [
        {
          "output_type": "stream",
          "name": "stdout",
          "text": [
            "Column: age\n",
            "Type: int64\n",
            "Number of unique values: 78\n",
            "----------------------------------------\n",
            "Column: job\n",
            "Type: object\n",
            "Number of unique values: 12\n",
            "Categories: ['housemaid' 'services' 'admin.' 'blue-collar' 'technician' 'retired'\n",
            " 'management' 'unemployed' 'self-employed' 'unknown' 'entrepreneur'\n",
            " 'student']\n",
            "----------------------------------------\n",
            "Column: marital\n",
            "Type: object\n",
            "Number of unique values: 4\n",
            "Categories: ['married' 'single' 'divorced' 'unknown']\n",
            "----------------------------------------\n",
            "Column: education\n",
            "Type: object\n",
            "Number of unique values: 8\n",
            "Categories: ['basic.4y' 'high.school' 'basic.6y' 'basic.9y' 'professional.course'\n",
            " 'unknown' 'university.degree' 'illiterate']\n",
            "----------------------------------------\n",
            "Column: default\n",
            "Type: object\n",
            "Number of unique values: 3\n",
            "Categories: ['no' 'unknown' 'yes']\n",
            "----------------------------------------\n",
            "Column: housing\n",
            "Type: object\n",
            "Number of unique values: 3\n",
            "Categories: ['no' 'yes' 'unknown']\n",
            "----------------------------------------\n",
            "Column: loan\n",
            "Type: object\n",
            "Number of unique values: 3\n",
            "Categories: ['no' 'yes' 'unknown']\n",
            "----------------------------------------\n",
            "Column: contact\n",
            "Type: object\n",
            "Number of unique values: 2\n",
            "Categories: ['telephone' 'cellular']\n",
            "----------------------------------------\n",
            "Column: month\n",
            "Type: object\n",
            "Number of unique values: 10\n",
            "Categories: ['may' 'jun' 'jul' 'aug' 'oct' 'nov' 'dec' 'mar' 'apr' 'sep']\n",
            "----------------------------------------\n",
            "Column: day_of_week\n",
            "Type: object\n",
            "Number of unique values: 5\n",
            "Categories: ['mon' 'tue' 'wed' 'thu' 'fri']\n",
            "----------------------------------------\n",
            "Column: duration\n",
            "Type: int64\n",
            "Number of unique values: 1544\n",
            "----------------------------------------\n",
            "Column: campaign\n",
            "Type: int64\n",
            "Number of unique values: 42\n",
            "----------------------------------------\n",
            "Column: pdays\n",
            "Type: int64\n",
            "Number of unique values: 27\n",
            "----------------------------------------\n",
            "Column: previous\n",
            "Type: int64\n",
            "Number of unique values: 8\n",
            "----------------------------------------\n",
            "Column: poutcome\n",
            "Type: object\n",
            "Number of unique values: 3\n",
            "Categories: ['nonexistent' 'failure' 'success']\n",
            "----------------------------------------\n",
            "Column: emp.var.rate\n",
            "Type: float64\n",
            "Number of unique values: 10\n",
            "----------------------------------------\n",
            "Column: cons.price.idx\n",
            "Type: float64\n",
            "Number of unique values: 26\n",
            "----------------------------------------\n",
            "Column: cons.conf.idx\n",
            "Type: float64\n",
            "Number of unique values: 26\n",
            "----------------------------------------\n",
            "Column: euribor3m\n",
            "Type: float64\n",
            "Number of unique values: 316\n",
            "----------------------------------------\n",
            "Column: nr.employed\n",
            "Type: float64\n",
            "Number of unique values: 11\n",
            "----------------------------------------\n",
            "Column: y\n",
            "Type: object\n",
            "Number of unique values: 2\n",
            "Categories: ['no' 'yes']\n",
            "----------------------------------------\n"
          ]
        }
      ]
    },
    {
      "cell_type": "markdown",
      "source": [
        "age"
      ],
      "metadata": {
        "id": "XjlOHsa1tER3"
      },
      "id": "XjlOHsa1tER3"
    },
    {
      "cell_type": "code",
      "source": [
        "data[\"age\"].dtype\n",
        "data[\"age\"].nunique()\n",
        "data[\"age\"].unique()\n",
        "data[\"age\"].value_counts()"
      ],
      "metadata": {
        "id": "hNGjtmwYQomK",
        "outputId": "12a86c93-bab9-43e6-f4ef-f31c6f78060f",
        "colab": {
          "base_uri": "https://localhost:8080/",
          "height": 490
        }
      },
      "id": "hNGjtmwYQomK",
      "execution_count": 34,
      "outputs": [
        {
          "output_type": "execute_result",
          "data": {
            "text/plain": [
              "age\n",
              "31    1947\n",
              "32    1846\n",
              "33    1833\n",
              "36    1780\n",
              "35    1759\n",
              "      ... \n",
              "89       2\n",
              "91       2\n",
              "94       1\n",
              "87       1\n",
              "95       1\n",
              "Name: count, Length: 78, dtype: int64"
            ],
            "text/html": [
              "<div>\n",
              "<style scoped>\n",
              "    .dataframe tbody tr th:only-of-type {\n",
              "        vertical-align: middle;\n",
              "    }\n",
              "\n",
              "    .dataframe tbody tr th {\n",
              "        vertical-align: top;\n",
              "    }\n",
              "\n",
              "    .dataframe thead th {\n",
              "        text-align: right;\n",
              "    }\n",
              "</style>\n",
              "<table border=\"1\" class=\"dataframe\">\n",
              "  <thead>\n",
              "    <tr style=\"text-align: right;\">\n",
              "      <th></th>\n",
              "      <th>count</th>\n",
              "    </tr>\n",
              "    <tr>\n",
              "      <th>age</th>\n",
              "      <th></th>\n",
              "    </tr>\n",
              "  </thead>\n",
              "  <tbody>\n",
              "    <tr>\n",
              "      <th>31</th>\n",
              "      <td>1947</td>\n",
              "    </tr>\n",
              "    <tr>\n",
              "      <th>32</th>\n",
              "      <td>1846</td>\n",
              "    </tr>\n",
              "    <tr>\n",
              "      <th>33</th>\n",
              "      <td>1833</td>\n",
              "    </tr>\n",
              "    <tr>\n",
              "      <th>36</th>\n",
              "      <td>1780</td>\n",
              "    </tr>\n",
              "    <tr>\n",
              "      <th>35</th>\n",
              "      <td>1759</td>\n",
              "    </tr>\n",
              "    <tr>\n",
              "      <th>...</th>\n",
              "      <td>...</td>\n",
              "    </tr>\n",
              "    <tr>\n",
              "      <th>89</th>\n",
              "      <td>2</td>\n",
              "    </tr>\n",
              "    <tr>\n",
              "      <th>91</th>\n",
              "      <td>2</td>\n",
              "    </tr>\n",
              "    <tr>\n",
              "      <th>94</th>\n",
              "      <td>1</td>\n",
              "    </tr>\n",
              "    <tr>\n",
              "      <th>87</th>\n",
              "      <td>1</td>\n",
              "    </tr>\n",
              "    <tr>\n",
              "      <th>95</th>\n",
              "      <td>1</td>\n",
              "    </tr>\n",
              "  </tbody>\n",
              "</table>\n",
              "<p>78 rows × 1 columns</p>\n",
              "</div><br><label><b>dtype:</b> int64</label>"
            ]
          },
          "metadata": {},
          "execution_count": 34
        }
      ]
    },
    {
      "cell_type": "code",
      "source": [
        "data[\"age\"].describe()"
      ],
      "metadata": {
        "id": "cL3ytqpwSVHr",
        "outputId": "33b6f0a3-bc90-4438-b6a6-174976fe3f56",
        "colab": {
          "base_uri": "https://localhost:8080/",
          "height": 335
        }
      },
      "id": "cL3ytqpwSVHr",
      "execution_count": 35,
      "outputs": [
        {
          "output_type": "execute_result",
          "data": {
            "text/plain": [
              "count    41188.00000\n",
              "mean        40.02406\n",
              "std         10.42125\n",
              "min         17.00000\n",
              "25%         32.00000\n",
              "50%         38.00000\n",
              "75%         47.00000\n",
              "max         98.00000\n",
              "Name: age, dtype: float64"
            ],
            "text/html": [
              "<div>\n",
              "<style scoped>\n",
              "    .dataframe tbody tr th:only-of-type {\n",
              "        vertical-align: middle;\n",
              "    }\n",
              "\n",
              "    .dataframe tbody tr th {\n",
              "        vertical-align: top;\n",
              "    }\n",
              "\n",
              "    .dataframe thead th {\n",
              "        text-align: right;\n",
              "    }\n",
              "</style>\n",
              "<table border=\"1\" class=\"dataframe\">\n",
              "  <thead>\n",
              "    <tr style=\"text-align: right;\">\n",
              "      <th></th>\n",
              "      <th>age</th>\n",
              "    </tr>\n",
              "  </thead>\n",
              "  <tbody>\n",
              "    <tr>\n",
              "      <th>count</th>\n",
              "      <td>41188.00000</td>\n",
              "    </tr>\n",
              "    <tr>\n",
              "      <th>mean</th>\n",
              "      <td>40.02406</td>\n",
              "    </tr>\n",
              "    <tr>\n",
              "      <th>std</th>\n",
              "      <td>10.42125</td>\n",
              "    </tr>\n",
              "    <tr>\n",
              "      <th>min</th>\n",
              "      <td>17.00000</td>\n",
              "    </tr>\n",
              "    <tr>\n",
              "      <th>25%</th>\n",
              "      <td>32.00000</td>\n",
              "    </tr>\n",
              "    <tr>\n",
              "      <th>50%</th>\n",
              "      <td>38.00000</td>\n",
              "    </tr>\n",
              "    <tr>\n",
              "      <th>75%</th>\n",
              "      <td>47.00000</td>\n",
              "    </tr>\n",
              "    <tr>\n",
              "      <th>max</th>\n",
              "      <td>98.00000</td>\n",
              "    </tr>\n",
              "  </tbody>\n",
              "</table>\n",
              "</div><br><label><b>dtype:</b> float64</label>"
            ]
          },
          "metadata": {},
          "execution_count": 35
        }
      ]
    },
    {
      "cell_type": "code",
      "source": [
        "import matplotlib.pyplot as plt\n",
        "\n",
        "plt.figure(figsize=(8, 6))\n",
        "plt.hist(data[\"age\"], bins=30, color='skyblue', edgecolor='black')\n",
        "plt.title(\"Distribution of Age\", fontsize=16)\n",
        "plt.xlabel(\"Age\", fontsize=12)\n",
        "plt.ylabel(\"Frequency\", fontsize=12)\n",
        "plt.grid(axis='y', linestyle='--', alpha=0.7)\n",
        "plt.show()\n"
      ],
      "metadata": {
        "id": "ABdl_pjGSszc",
        "outputId": "9921799d-c67b-47bf-bad8-ddb7d65211d6",
        "colab": {
          "base_uri": "https://localhost:8080/",
          "height": 570
        }
      },
      "id": "ABdl_pjGSszc",
      "execution_count": 42,
      "outputs": [
        {
          "output_type": "display_data",
          "data": {
            "text/plain": [
              "<Figure size 800x600 with 1 Axes>"
            ],
            "image/png": "[encoded data removed]"
          },
          "metadata": {}
        }
      ]
    },
    {
      "cell_type": "code",
      "source": [
        "import pandas as pd\n",
        "\n",
        "# Calculate Q1 (25th percentile), Q3 (75th percentile), and IQR\n",
        "Q1 = data['age'].quantile(0.25)\n",
        "Q3 = data['age'].quantile(0.75)\n",
        "IQR = Q3 - Q1\n",
        "\n",
        "# Define the lower and upper bounds\n",
        "lower_bound = Q1 - 1.5 * IQR\n",
        "upper_bound = Q3 + 1.5 * IQR\n",
        "\n",
        "print(f\"Lower Bound: {lower_bound}, Upper Bound: {upper_bound}\")\n",
        "\n",
        "# Filter the data to exclude outliers\n",
        "data = data[(data['age'] >= lower_bound) & (data['age'] <= upper_bound)]\n",
        "\n",
        "# Print the shape of the dataset before and after removing outliers\n",
        "print(f\"Original data shape: {data.shape}\")\n",
        "print(f\"Data shape after removing outliers: {data_no_outliers.shape}\")\n"
      ],
      "metadata": {
        "id": "NwaD3HhqUMY2",
        "outputId": "2e8318fb-273e-4d18-9f0f-75d399bfb44c",
        "colab": {
          "base_uri": "https://localhost:8080/"
        }
      },
      "id": "NwaD3HhqUMY2",
      "execution_count": 43,
      "outputs": [
        {
          "output_type": "stream",
          "name": "stdout",
          "text": [
            "Lower Bound: 9.5, Upper Bound: 69.5\n",
            "Original data shape: (40719, 21)\n",
            "Data shape after removing outliers: (40719, 21)\n"
          ]
        }
      ]
    },
    {
      "cell_type": "code",
      "source": [
        "import matplotlib.pyplot as plt\n",
        "\n",
        "plt.figure(figsize=(8, 6))\n",
        "plt.hist(data[\"age\"], bins=30, color='skyblue', edgecolor='black')\n",
        "plt.title(\"Distribution of Age\", fontsize=16)\n",
        "plt.xlabel(\"Age\", fontsize=12)\n",
        "plt.ylabel(\"Frequency\", fontsize=12)\n",
        "plt.grid(axis='y', linestyle='--', alpha=0.7)\n",
        "plt.show()\n"
      ],
      "metadata": {
        "id": "bkDWiI5tURyt",
        "outputId": "059d5f78-a912-4add-a3e9-7cd902695961",
        "colab": {
          "base_uri": "https://localhost:8080/",
          "height": 570
        }
      },
      "id": "bkDWiI5tURyt",
      "execution_count": 44,
      "outputs": [
        {
          "output_type": "display_data",
          "data": {
            "text/plain": [
              "<Figure size 800x600 with 1 Axes>"
            ],
            "image/png": "[encoded data removed]"
          },
          "metadata": {}
        }
      ]
    },
    {
      "cell_type": "code",
      "source": [
        "from sklearn.preprocessing import MinMaxScaler\n",
        "\n",
        "# Create a scaler instance\n",
        "scaler = MinMaxScaler()\n",
        "\n",
        "# Normalize the 'age' column\n",
        "data['age'] = scaler.fit_transform(data[['age']])\n",
        "\n",
        "# Display the first few rows of the normalized column\n",
        "print(data[['age']].head())\n"
      ],
      "metadata": {
        "id": "FQm2MwCPYswE",
        "outputId": "3e99f147-c463-407f-90d0-2533cf87a3d0",
        "colab": {
          "base_uri": "https://localhost:8080/"
        }
      },
      "id": "FQm2MwCPYswE",
      "execution_count": 51,
      "outputs": [
        {
          "output_type": "stream",
          "name": "stdout",
          "text": [
            "        age\n",
            "0  0.750000\n",
            "1  0.769231\n",
            "2  0.384615\n",
            "3  0.442308\n",
            "4  0.750000\n"
          ]
        }
      ]
    },
    {
      "cell_type": "code",
      "source": [
        "import matplotlib.pyplot as plt\n",
        "\n",
        "plt.figure(figsize=(8, 6))\n",
        "plt.hist(data[\"age\"], bins=30, color='skyblue', edgecolor='black')\n",
        "plt.title(\"Distribution of Age\", fontsize=16)\n",
        "plt.xlabel(\"Age\", fontsize=12)\n",
        "plt.ylabel(\"Frequency\", fontsize=12)\n",
        "plt.grid(axis='y', linestyle='--', alpha=0.7)\n",
        "plt.show()\n"
      ],
      "metadata": {
        "id": "0_h6V4IaY7m5",
        "outputId": "641f45bd-288c-4efc-da71-b9a9d6fd6ddb",
        "colab": {
          "base_uri": "https://localhost:8080/",
          "height": 570
        }
      },
      "id": "0_h6V4IaY7m5",
      "execution_count": 52,
      "outputs": [
        {
          "output_type": "display_data",
          "data": {
            "text/plain": [
              "<Figure size 800x600 with 1 Axes>"
            ],
            "image/png": "[encoded data removed]"
          },
          "metadata": {}
        }
      ]
    },
    {
      "cell_type": "markdown",
      "source": [
        "job\n"
      ],
      "metadata": {
        "id": "jaQ4JuV1tMk2"
      },
      "id": "jaQ4JuV1tMk2"
    },
    {
      "cell_type": "code",
      "source": [
        "data[\"job\"].dtype\n",
        "data[\"job\"].nunique()\n",
        "data[\"job\"].unique()\n",
        "data[\"job\"].value_counts()"
      ],
      "metadata": {
        "id": "vHPzn99ZQp42",
        "outputId": "9876b190-fd79-4fdf-ea65-039f84499642",
        "colab": {
          "base_uri": "https://localhost:8080/",
          "height": 492
        }
      },
      "id": "vHPzn99ZQp42",
      "execution_count": 46,
      "outputs": [
        {
          "output_type": "execute_result",
          "data": {
            "text/plain": [
              "job\n",
              "admin.           10414\n",
              "blue-collar       9251\n",
              "technician        6742\n",
              "services          3969\n",
              "management        2918\n",
              "entrepreneur      1456\n",
              "self-employed     1420\n",
              "retired           1301\n",
              "housemaid         1035\n",
              "unemployed        1014\n",
              "student            875\n",
              "unknown            324\n",
              "Name: count, dtype: int64"
            ],
            "text/html": [
              "<div>\n",
              "<style scoped>\n",
              "    .dataframe tbody tr th:only-of-type {\n",
              "        vertical-align: middle;\n",
              "    }\n",
              "\n",
              "    .dataframe tbody tr th {\n",
              "        vertical-align: top;\n",
              "    }\n",
              "\n",
              "    .dataframe thead th {\n",
              "        text-align: right;\n",
              "    }\n",
              "</style>\n",
              "<table border=\"1\" class=\"dataframe\">\n",
              "  <thead>\n",
              "    <tr style=\"text-align: right;\">\n",
              "      <th></th>\n",
              "      <th>count</th>\n",
              "    </tr>\n",
              "    <tr>\n",
              "      <th>job</th>\n",
              "      <th></th>\n",
              "    </tr>\n",
              "  </thead>\n",
              "  <tbody>\n",
              "    <tr>\n",
              "      <th>admin.</th>\n",
              "      <td>10414</td>\n",
              "    </tr>\n",
              "    <tr>\n",
              "      <th>blue-collar</th>\n",
              "      <td>9251</td>\n",
              "    </tr>\n",
              "    <tr>\n",
              "      <th>technician</th>\n",
              "      <td>6742</td>\n",
              "    </tr>\n",
              "    <tr>\n",
              "      <th>services</th>\n",
              "      <td>3969</td>\n",
              "    </tr>\n",
              "    <tr>\n",
              "      <th>management</th>\n",
              "      <td>2918</td>\n",
              "    </tr>\n",
              "    <tr>\n",
              "      <th>entrepreneur</th>\n",
              "      <td>1456</td>\n",
              "    </tr>\n",
              "    <tr>\n",
              "      <th>self-employed</th>\n",
              "      <td>1420</td>\n",
              "    </tr>\n",
              "    <tr>\n",
              "      <th>retired</th>\n",
              "      <td>1301</td>\n",
              "    </tr>\n",
              "    <tr>\n",
              "      <th>housemaid</th>\n",
              "      <td>1035</td>\n",
              "    </tr>\n",
              "    <tr>\n",
              "      <th>unemployed</th>\n",
              "      <td>1014</td>\n",
              "    </tr>\n",
              "    <tr>\n",
              "      <th>student</th>\n",
              "      <td>875</td>\n",
              "    </tr>\n",
              "    <tr>\n",
              "      <th>unknown</th>\n",
              "      <td>324</td>\n",
              "    </tr>\n",
              "  </tbody>\n",
              "</table>\n",
              "</div><br><label><b>dtype:</b> int64</label>"
            ]
          },
          "metadata": {},
          "execution_count": 46
        }
      ]
    },
    {
      "cell_type": "code",
      "source": [
        "data[\"job\"].describe()"
      ],
      "metadata": {
        "id": "8hqsMYkCV5K4",
        "outputId": "ccef4885-e91f-493a-a7c5-8872d9682d2c",
        "colab": {
          "base_uri": "https://localhost:8080/",
          "height": 210
        }
      },
      "id": "8hqsMYkCV5K4",
      "execution_count": 47,
      "outputs": [
        {
          "output_type": "execute_result",
          "data": {
            "text/plain": [
              "count      40719\n",
              "unique        12\n",
              "top       admin.\n",
              "freq       10414\n",
              "Name: job, dtype: object"
            ],
            "text/html": [
              "<div>\n",
              "<style scoped>\n",
              "    .dataframe tbody tr th:only-of-type {\n",
              "        vertical-align: middle;\n",
              "    }\n",
              "\n",
              "    .dataframe tbody tr th {\n",
              "        vertical-align: top;\n",
              "    }\n",
              "\n",
              "    .dataframe thead th {\n",
              "        text-align: right;\n",
              "    }\n",
              "</style>\n",
              "<table border=\"1\" class=\"dataframe\">\n",
              "  <thead>\n",
              "    <tr style=\"text-align: right;\">\n",
              "      <th></th>\n",
              "      <th>job</th>\n",
              "    </tr>\n",
              "  </thead>\n",
              "  <tbody>\n",
              "    <tr>\n",
              "      <th>count</th>\n",
              "      <td>40719</td>\n",
              "    </tr>\n",
              "    <tr>\n",
              "      <th>unique</th>\n",
              "      <td>12</td>\n",
              "    </tr>\n",
              "    <tr>\n",
              "      <th>top</th>\n",
              "      <td>admin.</td>\n",
              "    </tr>\n",
              "    <tr>\n",
              "      <th>freq</th>\n",
              "      <td>10414</td>\n",
              "    </tr>\n",
              "  </tbody>\n",
              "</table>\n",
              "</div><br><label><b>dtype:</b> object</label>"
            ]
          },
          "metadata": {},
          "execution_count": 47
        }
      ]
    },
    {
      "cell_type": "code",
      "source": [
        "# One-hot encoding for the 'job' column\n",
        "job_encoded = pd.get_dummies(data['job'], prefix='job')\n",
        "\n",
        "# Add the encoded columns to the original dataframe\n",
        "data = pd.concat([data, job_encoded], axis=1)\n",
        "\n",
        "# Display the first few rows of the updated dataframe\n",
        "print(data.head())\n"
      ],
      "metadata": {
        "id": "nyJsGJ2bZS1F",
        "outputId": "2d440ea1-92d6-443f-8f3c-175d357cfef4",
        "colab": {
          "base_uri": "https://localhost:8080/"
        }
      },
      "id": "nyJsGJ2bZS1F",
      "execution_count": 53,
      "outputs": [
        {
          "output_type": "stream",
          "name": "stdout",
          "text": [
            "        age        job  marital    education  default housing loan    contact  \\\n",
            "0  0.750000  housemaid  married     basic.4y       no      no   no  telephone   \n",
            "1  0.769231   services  married  high.school  unknown      no   no  telephone   \n",
            "2  0.384615   services  married  high.school       no     yes   no  telephone   \n",
            "3  0.442308     admin.  married     basic.6y       no      no   no  telephone   \n",
            "4  0.750000   services  married  high.school       no      no  yes  telephone   \n",
            "\n",
            "  month day_of_week  ...  job_entrepreneur  job_housemaid  job_management  \\\n",
            "0   may         mon  ...             False           True           False   \n",
            "1   may         mon  ...             False          False           False   \n",
            "2   may         mon  ...             False          False           False   \n",
            "3   may         mon  ...             False          False           False   \n",
            "4   may         mon  ...             False          False           False   \n",
            "\n",
            "   job_retired job_self-employed  job_services  job_student  job_technician  \\\n",
            "0        False             False         False        False           False   \n",
            "1        False             False          True        False           False   \n",
            "2        False             False          True        False           False   \n",
            "3        False             False         False        False           False   \n",
            "4        False             False          True        False           False   \n",
            "\n",
            "   job_unemployed  job_unknown  \n",
            "0           False        False  \n",
            "1           False        False  \n",
            "2           False        False  \n",
            "3           False        False  \n",
            "4           False        False  \n",
            "\n",
            "[5 rows x 34 columns]\n"
          ]
        }
      ]
    },
    {
      "cell_type": "markdown",
      "source": [
        "marital\n"
      ],
      "metadata": {
        "id": "B9xIWeqdtM3T"
      },
      "id": "B9xIWeqdtM3T"
    },
    {
      "cell_type": "code",
      "source": [
        "data[\"marital\"].dtype\n",
        "data[\"marital\"].nunique()\n",
        "data[\"marital\"].unique()\n",
        "data[\"marital\"].value_counts()"
      ],
      "metadata": {
        "id": "058STPsgQq2F",
        "outputId": "f33a4ca5-7891-4f01-c7e9-543fd60c60c1",
        "colab": {
          "base_uri": "https://localhost:8080/",
          "height": 241
        }
      },
      "id": "058STPsgQq2F",
      "execution_count": 58,
      "outputs": [
        {
          "output_type": "execute_result",
          "data": {
            "text/plain": [
              "marital\n",
              "married     24610\n",
              "single      11553\n",
              "divorced     4476\n",
              "unknown        80\n",
              "Name: count, dtype: int64"
            ],
            "text/html": [
              "<div>\n",
              "<style scoped>\n",
              "    .dataframe tbody tr th:only-of-type {\n",
              "        vertical-align: middle;\n",
              "    }\n",
              "\n",
              "    .dataframe tbody tr th {\n",
              "        vertical-align: top;\n",
              "    }\n",
              "\n",
              "    .dataframe thead th {\n",
              "        text-align: right;\n",
              "    }\n",
              "</style>\n",
              "<table border=\"1\" class=\"dataframe\">\n",
              "  <thead>\n",
              "    <tr style=\"text-align: right;\">\n",
              "      <th></th>\n",
              "      <th>count</th>\n",
              "    </tr>\n",
              "    <tr>\n",
              "      <th>marital</th>\n",
              "      <th></th>\n",
              "    </tr>\n",
              "  </thead>\n",
              "  <tbody>\n",
              "    <tr>\n",
              "      <th>married</th>\n",
              "      <td>24610</td>\n",
              "    </tr>\n",
              "    <tr>\n",
              "      <th>single</th>\n",
              "      <td>11553</td>\n",
              "    </tr>\n",
              "    <tr>\n",
              "      <th>divorced</th>\n",
              "      <td>4476</td>\n",
              "    </tr>\n",
              "    <tr>\n",
              "      <th>unknown</th>\n",
              "      <td>80</td>\n",
              "    </tr>\n",
              "  </tbody>\n",
              "</table>\n",
              "</div><br><label><b>dtype:</b> int64</label>"
            ]
          },
          "metadata": {},
          "execution_count": 58
        }
      ]
    },
    {
      "cell_type": "code",
      "source": [
        "# Replace unknown with the most frequent category\n",
        "most_frequent_marital = data['marital'].mode()[0]\n",
        "data['marital'].replace('unknown', most_frequent_marital, inplace=True)\n"
      ],
      "metadata": {
        "id": "OiecgPuIZ1uJ",
        "outputId": "d00c6eb8-9cad-4638-f463-3fdc5d2e79b0",
        "colab": {
          "base_uri": "https://localhost:8080/"
        }
      },
      "id": "OiecgPuIZ1uJ",
      "execution_count": 61,
      "outputs": [
        {
          "output_type": "stream",
          "name": "stderr",
          "text": [
            "<ipython-input-61-e089c0016540>:3: FutureWarning: A value is trying to be set on a copy of a DataFrame or Series through chained assignment using an inplace method.\n",
            "The behavior will change in pandas 3.0. This inplace method will never work because the intermediate object on which we are setting values always behaves as a copy.\n",
            "\n",
            "For example, when doing 'df[col].method(value, inplace=True)', try using 'df.method({col: value}, inplace=True)' or df[col] = df[col].method(value) instead, to perform the operation inplace on the original object.\n",
            "\n",
            "\n",
            "  data['marital'].replace('unknown', most_frequent_marital, inplace=True)\n"
          ]
        }
      ]
    },
    {
      "cell_type": "code",
      "source": [
        "data[\"marital\"].value_counts()"
      ],
      "metadata": {
        "id": "7kfsZMoYaqx9",
        "outputId": "26104c49-d3db-44b0-d75d-cbcda04284d1",
        "colab": {
          "base_uri": "https://localhost:8080/",
          "height": 210
        }
      },
      "id": "7kfsZMoYaqx9",
      "execution_count": 62,
      "outputs": [
        {
          "output_type": "execute_result",
          "data": {
            "text/plain": [
              "marital\n",
              "married     24690\n",
              "single      11553\n",
              "divorced     4476\n",
              "Name: count, dtype: int64"
            ],
            "text/html": [
              "<div>\n",
              "<style scoped>\n",
              "    .dataframe tbody tr th:only-of-type {\n",
              "        vertical-align: middle;\n",
              "    }\n",
              "\n",
              "    .dataframe tbody tr th {\n",
              "        vertical-align: top;\n",
              "    }\n",
              "\n",
              "    .dataframe thead th {\n",
              "        text-align: right;\n",
              "    }\n",
              "</style>\n",
              "<table border=\"1\" class=\"dataframe\">\n",
              "  <thead>\n",
              "    <tr style=\"text-align: right;\">\n",
              "      <th></th>\n",
              "      <th>count</th>\n",
              "    </tr>\n",
              "    <tr>\n",
              "      <th>marital</th>\n",
              "      <th></th>\n",
              "    </tr>\n",
              "  </thead>\n",
              "  <tbody>\n",
              "    <tr>\n",
              "      <th>married</th>\n",
              "      <td>24690</td>\n",
              "    </tr>\n",
              "    <tr>\n",
              "      <th>single</th>\n",
              "      <td>11553</td>\n",
              "    </tr>\n",
              "    <tr>\n",
              "      <th>divorced</th>\n",
              "      <td>4476</td>\n",
              "    </tr>\n",
              "  </tbody>\n",
              "</table>\n",
              "</div><br><label><b>dtype:</b> int64</label>"
            ]
          },
          "metadata": {},
          "execution_count": 62
        }
      ]
    },
    {
      "cell_type": "code",
      "source": [
        "# One-hot encode the 'marital' column\n",
        "data = pd.get_dummies(data, columns=['marital'], drop_first=False)\n",
        "\n",
        "# Check the result\n",
        "print(data.head())\n"
      ],
      "metadata": {
        "id": "c6RCK1ZYa9t2",
        "outputId": "c304a95b-01f4-4821-90d8-f812fd23ec10",
        "colab": {
          "base_uri": "https://localhost:8080/"
        }
      },
      "id": "c6RCK1ZYa9t2",
      "execution_count": 63,
      "outputs": [
        {
          "output_type": "stream",
          "name": "stdout",
          "text": [
            "        age        job    education  default housing loan    contact month  \\\n",
            "0  0.750000  housemaid     basic.4y       no      no   no  telephone   may   \n",
            "1  0.769231   services  high.school  unknown      no   no  telephone   may   \n",
            "2  0.384615   services  high.school       no     yes   no  telephone   may   \n",
            "3  0.442308     admin.     basic.6y       no      no   no  telephone   may   \n",
            "4  0.750000   services  high.school       no      no  yes  telephone   may   \n",
            "\n",
            "  day_of_week  duration  ...  job_retired  job_self-employed  job_services  \\\n",
            "0         mon       261  ...        False              False         False   \n",
            "1         mon       149  ...        False              False          True   \n",
            "2         mon       226  ...        False              False          True   \n",
            "3         mon       151  ...        False              False         False   \n",
            "4         mon       307  ...        False              False          True   \n",
            "\n",
            "  job_student  job_technician  job_unemployed  job_unknown  marital_divorced  \\\n",
            "0       False           False           False        False             False   \n",
            "1       False           False           False        False             False   \n",
            "2       False           False           False        False             False   \n",
            "3       False           False           False        False             False   \n",
            "4       False           False           False        False             False   \n",
            "\n",
            "   marital_married marital_single  \n",
            "0             True          False  \n",
            "1             True          False  \n",
            "2             True          False  \n",
            "3             True          False  \n",
            "4             True          False  \n",
            "\n",
            "[5 rows x 36 columns]\n"
          ]
        }
      ]
    },
    {
      "cell_type": "markdown",
      "source": [
        "education\n"
      ],
      "metadata": {
        "id": "oeqGS5RetNGK"
      },
      "id": "oeqGS5RetNGK"
    },
    {
      "cell_type": "code",
      "source": [
        "\n",
        "data[\"education\"].value_counts()"
      ],
      "metadata": {
        "id": "5fYGrRZuQsC7",
        "outputId": "13ffaedf-4bb1-4fd7-8e70-f95391c637b6",
        "colab": {
          "base_uri": "https://localhost:8080/",
          "height": 366
        }
      },
      "id": "5fYGrRZuQsC7",
      "execution_count": 65,
      "outputs": [
        {
          "output_type": "execute_result",
          "data": {
            "text/plain": [
              "education\n",
              "university.degree      12105\n",
              "high.school             9481\n",
              "basic.9y                6018\n",
              "professional.course     5201\n",
              "basic.4y                3935\n",
              "basic.6y                2279\n",
              "unknown                 1683\n",
              "illiterate                17\n",
              "Name: count, dtype: int64"
            ],
            "text/html": [
              "<div>\n",
              "<style scoped>\n",
              "    .dataframe tbody tr th:only-of-type {\n",
              "        vertical-align: middle;\n",
              "    }\n",
              "\n",
              "    .dataframe tbody tr th {\n",
              "        vertical-align: top;\n",
              "    }\n",
              "\n",
              "    .dataframe thead th {\n",
              "        text-align: right;\n",
              "    }\n",
              "</style>\n",
              "<table border=\"1\" class=\"dataframe\">\n",
              "  <thead>\n",
              "    <tr style=\"text-align: right;\">\n",
              "      <th></th>\n",
              "      <th>count</th>\n",
              "    </tr>\n",
              "    <tr>\n",
              "      <th>education</th>\n",
              "      <th></th>\n",
              "    </tr>\n",
              "  </thead>\n",
              "  <tbody>\n",
              "    <tr>\n",
              "      <th>university.degree</th>\n",
              "      <td>12105</td>\n",
              "    </tr>\n",
              "    <tr>\n",
              "      <th>high.school</th>\n",
              "      <td>9481</td>\n",
              "    </tr>\n",
              "    <tr>\n",
              "      <th>basic.9y</th>\n",
              "      <td>6018</td>\n",
              "    </tr>\n",
              "    <tr>\n",
              "      <th>professional.course</th>\n",
              "      <td>5201</td>\n",
              "    </tr>\n",
              "    <tr>\n",
              "      <th>basic.4y</th>\n",
              "      <td>3935</td>\n",
              "    </tr>\n",
              "    <tr>\n",
              "      <th>basic.6y</th>\n",
              "      <td>2279</td>\n",
              "    </tr>\n",
              "    <tr>\n",
              "      <th>unknown</th>\n",
              "      <td>1683</td>\n",
              "    </tr>\n",
              "    <tr>\n",
              "      <th>illiterate</th>\n",
              "      <td>17</td>\n",
              "    </tr>\n",
              "  </tbody>\n",
              "</table>\n",
              "</div><br><label><b>dtype:</b> int64</label>"
            ]
          },
          "metadata": {},
          "execution_count": 65
        }
      ]
    },
    {
      "cell_type": "code",
      "source": [
        "# Find the most frequent category in the 'education' column\n",
        "most_frequent_education = data['education'].mode()[0]\n",
        "\n",
        "# Replace 'illiterate' with the most frequent category\n",
        "data['education'] = data['education'].replace('illiterate', most_frequent_education)\n",
        "\n",
        "\n"
      ],
      "metadata": {
        "id": "k4_ZoudhZpl0"
      },
      "id": "k4_ZoudhZpl0",
      "execution_count": 68,
      "outputs": []
    },
    {
      "cell_type": "code",
      "source": [
        "# Check the value counts after replacement\n",
        "print(data['education'].value_counts())"
      ],
      "metadata": {
        "id": "yQL50iQKb10_",
        "outputId": "93ae113c-17e1-4b12-a2f5-f4a5f2116699",
        "colab": {
          "base_uri": "https://localhost:8080/"
        }
      },
      "id": "yQL50iQKb10_",
      "execution_count": 69,
      "outputs": [
        {
          "output_type": "stream",
          "name": "stdout",
          "text": [
            "education\n",
            "university.degree      12122\n",
            "high.school             9481\n",
            "basic.9y                6018\n",
            "professional.course     5201\n",
            "basic.4y                3935\n",
            "basic.6y                2279\n",
            "unknown                 1683\n",
            "Name: count, dtype: int64\n"
          ]
        }
      ]
    },
    {
      "cell_type": "markdown",
      "source": [
        "default\n"
      ],
      "metadata": {
        "id": "6jhCoi0EtNVh"
      },
      "id": "6jhCoi0EtNVh"
    },
    {
      "cell_type": "code",
      "source": [
        "\n",
        "data[\"default\"].value_counts()"
      ],
      "metadata": {
        "id": "i0TGikmZQtM2",
        "outputId": "619f9fe9-2751-4f86-da2e-68b0ab03dac6",
        "colab": {
          "base_uri": "https://localhost:8080/",
          "height": 210
        }
      },
      "id": "i0TGikmZQtM2",
      "execution_count": 70,
      "outputs": [
        {
          "output_type": "execute_result",
          "data": {
            "text/plain": [
              "default\n",
              "no         32162\n",
              "unknown     8554\n",
              "yes            3\n",
              "Name: count, dtype: int64"
            ],
            "text/html": [
              "<div>\n",
              "<style scoped>\n",
              "    .dataframe tbody tr th:only-of-type {\n",
              "        vertical-align: middle;\n",
              "    }\n",
              "\n",
              "    .dataframe tbody tr th {\n",
              "        vertical-align: top;\n",
              "    }\n",
              "\n",
              "    .dataframe thead th {\n",
              "        text-align: right;\n",
              "    }\n",
              "</style>\n",
              "<table border=\"1\" class=\"dataframe\">\n",
              "  <thead>\n",
              "    <tr style=\"text-align: right;\">\n",
              "      <th></th>\n",
              "      <th>count</th>\n",
              "    </tr>\n",
              "    <tr>\n",
              "      <th>default</th>\n",
              "      <th></th>\n",
              "    </tr>\n",
              "  </thead>\n",
              "  <tbody>\n",
              "    <tr>\n",
              "      <th>no</th>\n",
              "      <td>32162</td>\n",
              "    </tr>\n",
              "    <tr>\n",
              "      <th>unknown</th>\n",
              "      <td>8554</td>\n",
              "    </tr>\n",
              "    <tr>\n",
              "      <th>yes</th>\n",
              "      <td>3</td>\n",
              "    </tr>\n",
              "  </tbody>\n",
              "</table>\n",
              "</div><br><label><b>dtype:</b> int64</label>"
            ]
          },
          "metadata": {},
          "execution_count": 70
        }
      ]
    },
    {
      "cell_type": "code",
      "source": [
        "# Drop the 'default' column if it doesn't provide useful information\n",
        "data = data.drop('default', axis=1)\n",
        "\n",
        "# Check the remaining columns\n",
        "print(data.columns)\n"
      ],
      "metadata": {
        "id": "ngCSOClycpE9",
        "outputId": "8055efa0-0dce-4c0a-a2da-20fb7843fc04",
        "colab": {
          "base_uri": "https://localhost:8080/"
        }
      },
      "id": "ngCSOClycpE9",
      "execution_count": 71,
      "outputs": [
        {
          "output_type": "stream",
          "name": "stdout",
          "text": [
            "Index(['age', 'job', 'education', 'housing', 'loan', 'contact', 'month',\n",
            "       'day_of_week', 'duration', 'campaign', 'pdays', 'previous', 'poutcome',\n",
            "       'emp.var.rate', 'cons.price.idx', 'cons.conf.idx', 'euribor3m',\n",
            "       'nr.employed', 'y', 'age_normalized', 'job_admin.', 'job_blue-collar',\n",
            "       'job_entrepreneur', 'job_housemaid', 'job_management', 'job_retired',\n",
            "       'job_self-employed', 'job_services', 'job_student', 'job_technician',\n",
            "       'job_unemployed', 'job_unknown', 'marital_divorced', 'marital_married',\n",
            "       'marital_single'],\n",
            "      dtype='object')\n"
          ]
        }
      ]
    },
    {
      "cell_type": "markdown",
      "source": [
        "housing\n"
      ],
      "metadata": {
        "id": "ndAcQb_EtNjp"
      },
      "id": "ndAcQb_EtNjp"
    },
    {
      "cell_type": "code",
      "source": [
        "\n",
        "data[\"housing\"].value_counts()"
      ],
      "metadata": {
        "id": "CHqchYbvQt_I",
        "outputId": "52f07923-90ca-476d-d68f-2f1f2f7a5623",
        "colab": {
          "base_uri": "https://localhost:8080/",
          "height": 210
        }
      },
      "id": "CHqchYbvQt_I",
      "execution_count": 73,
      "outputs": [
        {
          "output_type": "execute_result",
          "data": {
            "text/plain": [
              "housing\n",
              "yes        21319\n",
              "no         18419\n",
              "unknown      981\n",
              "Name: count, dtype: int64"
            ],
            "text/html": [
              "<div>\n",
              "<style scoped>\n",
              "    .dataframe tbody tr th:only-of-type {\n",
              "        vertical-align: middle;\n",
              "    }\n",
              "\n",
              "    .dataframe tbody tr th {\n",
              "        vertical-align: top;\n",
              "    }\n",
              "\n",
              "    .dataframe thead th {\n",
              "        text-align: right;\n",
              "    }\n",
              "</style>\n",
              "<table border=\"1\" class=\"dataframe\">\n",
              "  <thead>\n",
              "    <tr style=\"text-align: right;\">\n",
              "      <th></th>\n",
              "      <th>count</th>\n",
              "    </tr>\n",
              "    <tr>\n",
              "      <th>housing</th>\n",
              "      <th></th>\n",
              "    </tr>\n",
              "  </thead>\n",
              "  <tbody>\n",
              "    <tr>\n",
              "      <th>yes</th>\n",
              "      <td>21319</td>\n",
              "    </tr>\n",
              "    <tr>\n",
              "      <th>no</th>\n",
              "      <td>18419</td>\n",
              "    </tr>\n",
              "    <tr>\n",
              "      <th>unknown</th>\n",
              "      <td>981</td>\n",
              "    </tr>\n",
              "  </tbody>\n",
              "</table>\n",
              "</div><br><label><b>dtype:</b> int64</label>"
            ]
          },
          "metadata": {},
          "execution_count": 73
        }
      ]
    },
    {
      "cell_type": "code",
      "source": [
        "# Replace 'unknown' with the most frequent value ('yes')\n",
        "data['housing'] = data['housing'].replace('unknown', 'yes')\n",
        "\n",
        "# Check the updated value counts\n",
        "print(data['housing'].value_counts())\n"
      ],
      "metadata": {
        "id": "tNuf-HlCdV3r",
        "outputId": "77ec2fc4-cfba-45c2-fda8-e1e57e134ed5",
        "colab": {
          "base_uri": "https://localhost:8080/"
        }
      },
      "id": "tNuf-HlCdV3r",
      "execution_count": 74,
      "outputs": [
        {
          "output_type": "stream",
          "name": "stdout",
          "text": [
            "housing\n",
            "yes    22300\n",
            "no     18419\n",
            "Name: count, dtype: int64\n"
          ]
        }
      ]
    },
    {
      "cell_type": "code",
      "source": [
        "# One-hot encode the 'housing' column\n",
        "housing_encoded = pd.get_dummies(data['housing'], prefix='housing')\n",
        "\n",
        "# Join the encoded columns back to the original dataframe\n",
        "data = pd.concat([data, housing_encoded], axis=1)\n",
        "\n",
        "# Drop the original 'housing' column if it's no longer needed\n",
        "data = data.drop(columns=['housing'])\n",
        "\n",
        "# Check the updated dataframe\n",
        "print(data.head())\n"
      ],
      "metadata": {
        "id": "1sm0sSNjdZmk",
        "outputId": "5b1c2964-f6a2-4cf2-92a0-87e1aebe9de3",
        "colab": {
          "base_uri": "https://localhost:8080/"
        }
      },
      "id": "1sm0sSNjdZmk",
      "execution_count": 75,
      "outputs": [
        {
          "output_type": "stream",
          "name": "stdout",
          "text": [
            "        age        job    education loan    contact month day_of_week  \\\n",
            "0  0.750000  housemaid     basic.4y   no  telephone   may         mon   \n",
            "1  0.769231   services  high.school   no  telephone   may         mon   \n",
            "2  0.384615   services  high.school   no  telephone   may         mon   \n",
            "3  0.442308     admin.     basic.6y   no  telephone   may         mon   \n",
            "4  0.750000   services  high.school  yes  telephone   may         mon   \n",
            "\n",
            "   duration  campaign  pdays  ...  job_services job_student  job_technician  \\\n",
            "0       261         1    999  ...         False       False           False   \n",
            "1       149         1    999  ...          True       False           False   \n",
            "2       226         1    999  ...          True       False           False   \n",
            "3       151         1    999  ...         False       False           False   \n",
            "4       307         1    999  ...          True       False           False   \n",
            "\n",
            "   job_unemployed  job_unknown  marital_divorced  marital_married  \\\n",
            "0           False        False             False             True   \n",
            "1           False        False             False             True   \n",
            "2           False        False             False             True   \n",
            "3           False        False             False             True   \n",
            "4           False        False             False             True   \n",
            "\n",
            "  marital_single  housing_no  housing_yes  \n",
            "0          False        True        False  \n",
            "1          False        True        False  \n",
            "2          False       False         True  \n",
            "3          False        True        False  \n",
            "4          False        True        False  \n",
            "\n",
            "[5 rows x 36 columns]\n"
          ]
        }
      ]
    },
    {
      "cell_type": "markdown",
      "source": [
        "loan\n"
      ],
      "metadata": {
        "id": "bZNoOjEhtNyK"
      },
      "id": "bZNoOjEhtNyK"
    },
    {
      "cell_type": "code",
      "source": [
        "\n",
        "data[\"loan\"].value_counts()"
      ],
      "metadata": {
        "id": "zP8fSOZcQvCK",
        "outputId": "e41b897a-b583-49e4-9661-a743b15c3b19",
        "colab": {
          "base_uri": "https://localhost:8080/",
          "height": 210
        }
      },
      "id": "zP8fSOZcQvCK",
      "execution_count": 76,
      "outputs": [
        {
          "output_type": "execute_result",
          "data": {
            "text/plain": [
              "loan\n",
              "no         33560\n",
              "yes         6178\n",
              "unknown      981\n",
              "Name: count, dtype: int64"
            ],
            "text/html": [
              "<div>\n",
              "<style scoped>\n",
              "    .dataframe tbody tr th:only-of-type {\n",
              "        vertical-align: middle;\n",
              "    }\n",
              "\n",
              "    .dataframe tbody tr th {\n",
              "        vertical-align: top;\n",
              "    }\n",
              "\n",
              "    .dataframe thead th {\n",
              "        text-align: right;\n",
              "    }\n",
              "</style>\n",
              "<table border=\"1\" class=\"dataframe\">\n",
              "  <thead>\n",
              "    <tr style=\"text-align: right;\">\n",
              "      <th></th>\n",
              "      <th>count</th>\n",
              "    </tr>\n",
              "    <tr>\n",
              "      <th>loan</th>\n",
              "      <th></th>\n",
              "    </tr>\n",
              "  </thead>\n",
              "  <tbody>\n",
              "    <tr>\n",
              "      <th>no</th>\n",
              "      <td>33560</td>\n",
              "    </tr>\n",
              "    <tr>\n",
              "      <th>yes</th>\n",
              "      <td>6178</td>\n",
              "    </tr>\n",
              "    <tr>\n",
              "      <th>unknown</th>\n",
              "      <td>981</td>\n",
              "    </tr>\n",
              "  </tbody>\n",
              "</table>\n",
              "</div><br><label><b>dtype:</b> int64</label>"
            ]
          },
          "metadata": {},
          "execution_count": 76
        }
      ]
    },
    {
      "cell_type": "code",
      "source": [
        "# Replace 'unknown' with the most frequent value ('yes')\n",
        "data['loan'] = data['loan'].replace('unknown', 'yes')\n",
        "\n",
        "# Check the updated value counts\n",
        "print(data['loan'].value_counts())\n"
      ],
      "metadata": {
        "id": "zj7FvrVqdvMf",
        "outputId": "fe077f3c-5ae6-440d-85c6-c1a7910de9dd",
        "colab": {
          "base_uri": "https://localhost:8080/"
        }
      },
      "id": "zj7FvrVqdvMf",
      "execution_count": 77,
      "outputs": [
        {
          "output_type": "stream",
          "name": "stdout",
          "text": [
            "loan\n",
            "no     33560\n",
            "yes     7159\n",
            "Name: count, dtype: int64\n"
          ]
        }
      ]
    },
    {
      "cell_type": "code",
      "source": [
        "# One-hot encode the 'loan' column\n",
        "loan_encoded = pd.get_dummies(data['loan'], prefix='loan')\n",
        "\n",
        "# Join the encoded columns back to the original dataframe\n",
        "data = pd.concat([data, loan_encoded], axis=1)\n",
        "\n",
        "# Drop the original 'loan' column if it's no longer needed\n",
        "data = data.drop(columns=['loan'])\n",
        "\n",
        "# Check the updated dataframe\n",
        "print(data.head())\n"
      ],
      "metadata": {
        "id": "jKnommj4eCto",
        "outputId": "e19fa447-1ff7-4648-a78b-c166cf8e720b",
        "colab": {
          "base_uri": "https://localhost:8080/"
        }
      },
      "id": "jKnommj4eCto",
      "execution_count": 78,
      "outputs": [
        {
          "output_type": "stream",
          "name": "stdout",
          "text": [
            "        age        job    education    contact month day_of_week  duration  \\\n",
            "0  0.750000  housemaid     basic.4y  telephone   may         mon       261   \n",
            "1  0.769231   services  high.school  telephone   may         mon       149   \n",
            "2  0.384615   services  high.school  telephone   may         mon       226   \n",
            "3  0.442308     admin.     basic.6y  telephone   may         mon       151   \n",
            "4  0.750000   services  high.school  telephone   may         mon       307   \n",
            "\n",
            "   campaign  pdays  previous  ... job_technician  job_unemployed  job_unknown  \\\n",
            "0         1    999         0  ...          False           False        False   \n",
            "1         1    999         0  ...          False           False        False   \n",
            "2         1    999         0  ...          False           False        False   \n",
            "3         1    999         0  ...          False           False        False   \n",
            "4         1    999         0  ...          False           False        False   \n",
            "\n",
            "   marital_divorced  marital_married  marital_single housing_no  housing_yes  \\\n",
            "0             False             True           False       True        False   \n",
            "1             False             True           False       True        False   \n",
            "2             False             True           False      False         True   \n",
            "3             False             True           False       True        False   \n",
            "4             False             True           False       True        False   \n",
            "\n",
            "   loan_no  loan_yes  \n",
            "0     True     False  \n",
            "1     True     False  \n",
            "2     True     False  \n",
            "3     True     False  \n",
            "4    False      True  \n",
            "\n",
            "[5 rows x 37 columns]\n"
          ]
        }
      ]
    },
    {
      "cell_type": "markdown",
      "source": [
        "contact\n"
      ],
      "metadata": {
        "id": "GhEGYwg2tN_0"
      },
      "id": "GhEGYwg2tN_0"
    },
    {
      "cell_type": "code",
      "source": [
        "\n",
        "data[\"contact\"].value_counts()"
      ],
      "metadata": {
        "id": "d2q-NZoWQv_a",
        "outputId": "24fb6abd-7e14-4438-c325-a9e4fb356088",
        "colab": {
          "base_uri": "https://localhost:8080/",
          "height": 178
        }
      },
      "id": "d2q-NZoWQv_a",
      "execution_count": 79,
      "outputs": [
        {
          "output_type": "execute_result",
          "data": {
            "text/plain": [
              "contact\n",
              "cellular     25724\n",
              "telephone    14995\n",
              "Name: count, dtype: int64"
            ],
            "text/html": [
              "<div>\n",
              "<style scoped>\n",
              "    .dataframe tbody tr th:only-of-type {\n",
              "        vertical-align: middle;\n",
              "    }\n",
              "\n",
              "    .dataframe tbody tr th {\n",
              "        vertical-align: top;\n",
              "    }\n",
              "\n",
              "    .dataframe thead th {\n",
              "        text-align: right;\n",
              "    }\n",
              "</style>\n",
              "<table border=\"1\" class=\"dataframe\">\n",
              "  <thead>\n",
              "    <tr style=\"text-align: right;\">\n",
              "      <th></th>\n",
              "      <th>count</th>\n",
              "    </tr>\n",
              "    <tr>\n",
              "      <th>contact</th>\n",
              "      <th></th>\n",
              "    </tr>\n",
              "  </thead>\n",
              "  <tbody>\n",
              "    <tr>\n",
              "      <th>cellular</th>\n",
              "      <td>25724</td>\n",
              "    </tr>\n",
              "    <tr>\n",
              "      <th>telephone</th>\n",
              "      <td>14995</td>\n",
              "    </tr>\n",
              "  </tbody>\n",
              "</table>\n",
              "</div><br><label><b>dtype:</b> int64</label>"
            ]
          },
          "metadata": {},
          "execution_count": 79
        }
      ]
    },
    {
      "cell_type": "code",
      "source": [
        "# Drop the 'contact' column\n",
        "data = data.drop(columns=['contact'])\n",
        "\n",
        "# Check the updated dataframe\n",
        "print(data.head())\n"
      ],
      "metadata": {
        "id": "H1LMJzKreWti",
        "outputId": "41cb5d6e-b198-430f-9cc9-dd4bf2766b19",
        "colab": {
          "base_uri": "https://localhost:8080/"
        }
      },
      "id": "H1LMJzKreWti",
      "execution_count": 80,
      "outputs": [
        {
          "output_type": "stream",
          "name": "stdout",
          "text": [
            "        age        job    education month day_of_week  duration  campaign  \\\n",
            "0  0.750000  housemaid     basic.4y   may         mon       261         1   \n",
            "1  0.769231   services  high.school   may         mon       149         1   \n",
            "2  0.384615   services  high.school   may         mon       226         1   \n",
            "3  0.442308     admin.     basic.6y   may         mon       151         1   \n",
            "4  0.750000   services  high.school   may         mon       307         1   \n",
            "\n",
            "   pdays  previous     poutcome  ...  job_technician  job_unemployed  \\\n",
            "0    999         0  nonexistent  ...           False           False   \n",
            "1    999         0  nonexistent  ...           False           False   \n",
            "2    999         0  nonexistent  ...           False           False   \n",
            "3    999         0  nonexistent  ...           False           False   \n",
            "4    999         0  nonexistent  ...           False           False   \n",
            "\n",
            "   job_unknown  marital_divorced  marital_married marital_single  housing_no  \\\n",
            "0        False             False             True          False        True   \n",
            "1        False             False             True          False        True   \n",
            "2        False             False             True          False       False   \n",
            "3        False             False             True          False        True   \n",
            "4        False             False             True          False        True   \n",
            "\n",
            "   housing_yes  loan_no  loan_yes  \n",
            "0        False     True     False  \n",
            "1        False     True     False  \n",
            "2         True     True     False  \n",
            "3        False     True     False  \n",
            "4        False    False      True  \n",
            "\n",
            "[5 rows x 36 columns]\n"
          ]
        }
      ]
    },
    {
      "cell_type": "markdown",
      "source": [
        "month\n"
      ],
      "metadata": {
        "id": "2SEbsCAFtONy"
      },
      "id": "2SEbsCAFtONy"
    },
    {
      "cell_type": "code",
      "source": [
        "\n",
        "data[\"month\"].value_counts()"
      ],
      "metadata": {
        "id": "NxYQbubPQ6BO",
        "outputId": "6614264d-2730-47bf-ce61-831456e2817b",
        "colab": {
          "base_uri": "https://localhost:8080/",
          "height": 429
        }
      },
      "id": "NxYQbubPQ6BO",
      "execution_count": 81,
      "outputs": [
        {
          "output_type": "execute_result",
          "data": {
            "text/plain": [
              "month\n",
              "may    13736\n",
              "jul     7141\n",
              "aug     6091\n",
              "jun     5301\n",
              "nov     4064\n",
              "apr     2562\n",
              "oct      648\n",
              "sep      513\n",
              "mar      503\n",
              "dec      160\n",
              "Name: count, dtype: int64"
            ],
            "text/html": [
              "<div>\n",
              "<style scoped>\n",
              "    .dataframe tbody tr th:only-of-type {\n",
              "        vertical-align: middle;\n",
              "    }\n",
              "\n",
              "    .dataframe tbody tr th {\n",
              "        vertical-align: top;\n",
              "    }\n",
              "\n",
              "    .dataframe thead th {\n",
              "        text-align: right;\n",
              "    }\n",
              "</style>\n",
              "<table border=\"1\" class=\"dataframe\">\n",
              "  <thead>\n",
              "    <tr style=\"text-align: right;\">\n",
              "      <th></th>\n",
              "      <th>count</th>\n",
              "    </tr>\n",
              "    <tr>\n",
              "      <th>month</th>\n",
              "      <th></th>\n",
              "    </tr>\n",
              "  </thead>\n",
              "  <tbody>\n",
              "    <tr>\n",
              "      <th>may</th>\n",
              "      <td>13736</td>\n",
              "    </tr>\n",
              "    <tr>\n",
              "      <th>jul</th>\n",
              "      <td>7141</td>\n",
              "    </tr>\n",
              "    <tr>\n",
              "      <th>aug</th>\n",
              "      <td>6091</td>\n",
              "    </tr>\n",
              "    <tr>\n",
              "      <th>jun</th>\n",
              "      <td>5301</td>\n",
              "    </tr>\n",
              "    <tr>\n",
              "      <th>nov</th>\n",
              "      <td>4064</td>\n",
              "    </tr>\n",
              "    <tr>\n",
              "      <th>apr</th>\n",
              "      <td>2562</td>\n",
              "    </tr>\n",
              "    <tr>\n",
              "      <th>oct</th>\n",
              "      <td>648</td>\n",
              "    </tr>\n",
              "    <tr>\n",
              "      <th>sep</th>\n",
              "      <td>513</td>\n",
              "    </tr>\n",
              "    <tr>\n",
              "      <th>mar</th>\n",
              "      <td>503</td>\n",
              "    </tr>\n",
              "    <tr>\n",
              "      <th>dec</th>\n",
              "      <td>160</td>\n",
              "    </tr>\n",
              "  </tbody>\n",
              "</table>\n",
              "</div><br><label><b>dtype:</b> int64</label>"
            ]
          },
          "metadata": {},
          "execution_count": 81
        }
      ]
    },
    {
      "cell_type": "code",
      "source": [
        "import matplotlib.pyplot as plt\n",
        "\n",
        "# Plot the value counts of the 'month' column\n",
        "data['month'].value_counts().plot(kind='bar', color='skyblue')\n",
        "\n",
        "# Set labels and title\n",
        "plt.title('Distribution of Month Values')\n",
        "plt.xlabel('Month')\n",
        "plt.ylabel('Frequency')\n",
        "\n",
        "# Show the plot\n",
        "plt.xticks(rotation=45)\n",
        "plt.show()\n"
      ],
      "metadata": {
        "id": "vcp80AaRe2ym",
        "outputId": "ff2f9f60-5b97-443c-f0ab-c373bb22eb4f",
        "colab": {
          "base_uri": "https://localhost:8080/",
          "height": 489
        }
      },
      "id": "vcp80AaRe2ym",
      "execution_count": 82,
      "outputs": [
        {
          "output_type": "display_data",
          "data": {
            "text/plain": [
              "<Figure size 640x480 with 1 Axes>"
            ],
            "image/png": "[encoded data removed]"
          },
          "metadata": {}
        }
      ]
    },
    {
      "cell_type": "code",
      "source": [
        "# One-hot encode the 'month' column\n",
        "data_encoded = pd.get_dummies(data, columns=['month'], drop_first=False)\n",
        "\n",
        "# Check the result\n",
        "print(data_encoded.head())"
      ],
      "metadata": {
        "id": "dnRMoP0Bfgz0",
        "outputId": "91be788a-07a5-4379-f293-53fde6d9c700",
        "colab": {
          "base_uri": "https://localhost:8080/"
        }
      },
      "id": "dnRMoP0Bfgz0",
      "execution_count": 83,
      "outputs": [
        {
          "output_type": "stream",
          "name": "stdout",
          "text": [
            "        age        job    education day_of_week  duration  campaign  pdays  \\\n",
            "0  0.750000  housemaid     basic.4y         mon       261         1    999   \n",
            "1  0.769231   services  high.school         mon       149         1    999   \n",
            "2  0.384615   services  high.school         mon       226         1    999   \n",
            "3  0.442308     admin.     basic.6y         mon       151         1    999   \n",
            "4  0.750000   services  high.school         mon       307         1    999   \n",
            "\n",
            "   previous     poutcome  emp.var.rate  ...  month_apr  month_aug  month_dec  \\\n",
            "0         0  nonexistent           1.1  ...      False      False      False   \n",
            "1         0  nonexistent           1.1  ...      False      False      False   \n",
            "2         0  nonexistent           1.1  ...      False      False      False   \n",
            "3         0  nonexistent           1.1  ...      False      False      False   \n",
            "4         0  nonexistent           1.1  ...      False      False      False   \n",
            "\n",
            "   month_jul month_jun  month_mar  month_may  month_nov  month_oct  month_sep  \n",
            "0      False     False      False       True      False      False      False  \n",
            "1      False     False      False       True      False      False      False  \n",
            "2      False     False      False       True      False      False      False  \n",
            "3      False     False      False       True      False      False      False  \n",
            "4      False     False      False       True      False      False      False  \n",
            "\n",
            "[5 rows x 45 columns]\n"
          ]
        }
      ]
    },
    {
      "cell_type": "markdown",
      "source": [
        "day_of_week\n"
      ],
      "metadata": {
        "id": "drybQXXxtOea"
      },
      "id": "drybQXXxtOea"
    },
    {
      "cell_type": "code",
      "source": [
        "\n",
        "data[\"day_of_week\"].value_counts()"
      ],
      "metadata": {
        "id": "JzYN5_fMQ5VR",
        "outputId": "40038223-275a-4ba9-87dc-8f4ed9b4d698",
        "colab": {
          "base_uri": "https://localhost:8080/",
          "height": 272
        }
      },
      "id": "JzYN5_fMQ5VR",
      "execution_count": 84,
      "outputs": [
        {
          "output_type": "execute_result",
          "data": {
            "text/plain": [
              "day_of_week\n",
              "thu    8522\n",
              "mon    8426\n",
              "wed    8052\n",
              "tue    7980\n",
              "fri    7739\n",
              "Name: count, dtype: int64"
            ],
            "text/html": [
              "<div>\n",
              "<style scoped>\n",
              "    .dataframe tbody tr th:only-of-type {\n",
              "        vertical-align: middle;\n",
              "    }\n",
              "\n",
              "    .dataframe tbody tr th {\n",
              "        vertical-align: top;\n",
              "    }\n",
              "\n",
              "    .dataframe thead th {\n",
              "        text-align: right;\n",
              "    }\n",
              "</style>\n",
              "<table border=\"1\" class=\"dataframe\">\n",
              "  <thead>\n",
              "    <tr style=\"text-align: right;\">\n",
              "      <th></th>\n",
              "      <th>count</th>\n",
              "    </tr>\n",
              "    <tr>\n",
              "      <th>day_of_week</th>\n",
              "      <th></th>\n",
              "    </tr>\n",
              "  </thead>\n",
              "  <tbody>\n",
              "    <tr>\n",
              "      <th>thu</th>\n",
              "      <td>8522</td>\n",
              "    </tr>\n",
              "    <tr>\n",
              "      <th>mon</th>\n",
              "      <td>8426</td>\n",
              "    </tr>\n",
              "    <tr>\n",
              "      <th>wed</th>\n",
              "      <td>8052</td>\n",
              "    </tr>\n",
              "    <tr>\n",
              "      <th>tue</th>\n",
              "      <td>7980</td>\n",
              "    </tr>\n",
              "    <tr>\n",
              "      <th>fri</th>\n",
              "      <td>7739</td>\n",
              "    </tr>\n",
              "  </tbody>\n",
              "</table>\n",
              "</div><br><label><b>dtype:</b> int64</label>"
            ]
          },
          "metadata": {},
          "execution_count": 84
        }
      ]
    },
    {
      "cell_type": "code",
      "source": [
        "import matplotlib.pyplot as plt\n",
        "\n",
        "# Plot the value counts of the 'day_of_week' column\n",
        "data['day_of_week'].value_counts().plot(kind='bar', color='skyblue')\n",
        "\n",
        "# Set labels and title\n",
        "plt.title('Distribution of Days')\n",
        "plt.xlabel('Day')\n",
        "plt.ylabel('Frequency')\n",
        "\n",
        "# Show the plot\n",
        "plt.xticks(rotation=45)\n",
        "plt.show()\n"
      ],
      "metadata": {
        "id": "xo9BgHcBfwsC",
        "outputId": "1a8eb0d1-cd9c-4119-cba9-bb5f7f60792f",
        "colab": {
          "base_uri": "https://localhost:8080/",
          "height": 489
        }
      },
      "id": "xo9BgHcBfwsC",
      "execution_count": 85,
      "outputs": [
        {
          "output_type": "display_data",
          "data": {
            "text/plain": [
              "<Figure size 640x480 with 1 Axes>"
            ],
            "image/png": "[encoded data removed]"
          },
          "metadata": {}
        }
      ]
    },
    {
      "cell_type": "code",
      "source": [
        "# One-hot encode the 'day_of_week' column\n",
        "data_encoded = pd.get_dummies(data, columns=['day_of_week'], drop_first=False)\n",
        "\n",
        "# Check the result\n",
        "print(data_encoded.head())\n"
      ],
      "metadata": {
        "id": "EDroX9AEgIEL",
        "outputId": "821c4adb-be8f-418f-bfdc-89329d36f0f5",
        "colab": {
          "base_uri": "https://localhost:8080/"
        }
      },
      "id": "EDroX9AEgIEL",
      "execution_count": 86,
      "outputs": [
        {
          "output_type": "stream",
          "name": "stdout",
          "text": [
            "        age        job    education month  duration  campaign  pdays  \\\n",
            "0  0.750000  housemaid     basic.4y   may       261         1    999   \n",
            "1  0.769231   services  high.school   may       149         1    999   \n",
            "2  0.384615   services  high.school   may       226         1    999   \n",
            "3  0.442308     admin.     basic.6y   may       151         1    999   \n",
            "4  0.750000   services  high.school   may       307         1    999   \n",
            "\n",
            "   previous     poutcome  emp.var.rate  ...  marital_single  housing_no  \\\n",
            "0         0  nonexistent           1.1  ...           False        True   \n",
            "1         0  nonexistent           1.1  ...           False        True   \n",
            "2         0  nonexistent           1.1  ...           False       False   \n",
            "3         0  nonexistent           1.1  ...           False        True   \n",
            "4         0  nonexistent           1.1  ...           False        True   \n",
            "\n",
            "   housing_yes  loan_no loan_yes  day_of_week_fri  day_of_week_mon  \\\n",
            "0        False     True    False            False             True   \n",
            "1        False     True    False            False             True   \n",
            "2         True     True    False            False             True   \n",
            "3        False     True    False            False             True   \n",
            "4        False    False     True            False             True   \n",
            "\n",
            "   day_of_week_thu  day_of_week_tue  day_of_week_wed  \n",
            "0            False            False            False  \n",
            "1            False            False            False  \n",
            "2            False            False            False  \n",
            "3            False            False            False  \n",
            "4            False            False            False  \n",
            "\n",
            "[5 rows x 40 columns]\n"
          ]
        }
      ]
    },
    {
      "cell_type": "markdown",
      "source": [
        "duration"
      ],
      "metadata": {
        "id": "geqiSWLFtOtB"
      },
      "id": "geqiSWLFtOtB"
    },
    {
      "cell_type": "code",
      "source": [
        "\n",
        "data[\"duration\"].value_counts()"
      ],
      "metadata": {
        "id": "O7OkIReJQ4qy",
        "outputId": "fc634cda-4820-4c75-9fd5-36b475e90cc0",
        "colab": {
          "base_uri": "https://localhost:8080/",
          "height": 490
        }
      },
      "id": "O7OkIReJQ4qy",
      "execution_count": 87,
      "outputs": [
        {
          "output_type": "execute_result",
          "data": {
            "text/plain": [
              "duration\n",
              "85      168\n",
              "136     167\n",
              "90      167\n",
              "73      166\n",
              "124     163\n",
              "       ... \n",
              "1275      1\n",
              "1473      1\n",
              "1432      1\n",
              "1412      1\n",
              "1868      1\n",
              "Name: count, Length: 1542, dtype: int64"
            ],
            "text/html": [
              "<div>\n",
              "<style scoped>\n",
              "    .dataframe tbody tr th:only-of-type {\n",
              "        vertical-align: middle;\n",
              "    }\n",
              "\n",
              "    .dataframe tbody tr th {\n",
              "        vertical-align: top;\n",
              "    }\n",
              "\n",
              "    .dataframe thead th {\n",
              "        text-align: right;\n",
              "    }\n",
              "</style>\n",
              "<table border=\"1\" class=\"dataframe\">\n",
              "  <thead>\n",
              "    <tr style=\"text-align: right;\">\n",
              "      <th></th>\n",
              "      <th>count</th>\n",
              "    </tr>\n",
              "    <tr>\n",
              "      <th>duration</th>\n",
              "      <th></th>\n",
              "    </tr>\n",
              "  </thead>\n",
              "  <tbody>\n",
              "    <tr>\n",
              "      <th>85</th>\n",
              "      <td>168</td>\n",
              "    </tr>\n",
              "    <tr>\n",
              "      <th>136</th>\n",
              "      <td>167</td>\n",
              "    </tr>\n",
              "    <tr>\n",
              "      <th>90</th>\n",
              "      <td>167</td>\n",
              "    </tr>\n",
              "    <tr>\n",
              "      <th>73</th>\n",
              "      <td>166</td>\n",
              "    </tr>\n",
              "    <tr>\n",
              "      <th>124</th>\n",
              "      <td>163</td>\n",
              "    </tr>\n",
              "    <tr>\n",
              "      <th>...</th>\n",
              "      <td>...</td>\n",
              "    </tr>\n",
              "    <tr>\n",
              "      <th>1275</th>\n",
              "      <td>1</td>\n",
              "    </tr>\n",
              "    <tr>\n",
              "      <th>1473</th>\n",
              "      <td>1</td>\n",
              "    </tr>\n",
              "    <tr>\n",
              "      <th>1432</th>\n",
              "      <td>1</td>\n",
              "    </tr>\n",
              "    <tr>\n",
              "      <th>1412</th>\n",
              "      <td>1</td>\n",
              "    </tr>\n",
              "    <tr>\n",
              "      <th>1868</th>\n",
              "      <td>1</td>\n",
              "    </tr>\n",
              "  </tbody>\n",
              "</table>\n",
              "<p>1542 rows × 1 columns</p>\n",
              "</div><br><label><b>dtype:</b> int64</label>"
            ]
          },
          "metadata": {},
          "execution_count": 87
        }
      ]
    },
    {
      "cell_type": "markdown",
      "source": [
        "campaign\n"
      ],
      "metadata": {
        "id": "3QNlm1sbtO7W"
      },
      "id": "3QNlm1sbtO7W"
    },
    {
      "cell_type": "code",
      "source": [
        "\n",
        "data[\"education\"].value_counts()"
      ],
      "metadata": {
        "id": "OdJ8KosDQ3ie"
      },
      "id": "OdJ8KosDQ3ie",
      "execution_count": null,
      "outputs": []
    },
    {
      "cell_type": "markdown",
      "source": [
        "pdays"
      ],
      "metadata": {
        "id": "sbeuhMU5tPLM"
      },
      "id": "sbeuhMU5tPLM"
    },
    {
      "cell_type": "code",
      "source": [
        "\n",
        "data[\"education\"].value_counts()"
      ],
      "metadata": {
        "id": "VpABvvV6Q2kK"
      },
      "id": "VpABvvV6Q2kK",
      "execution_count": null,
      "outputs": []
    },
    {
      "cell_type": "markdown",
      "source": [
        "previous\n"
      ],
      "metadata": {
        "id": "0LogaybPtPYd"
      },
      "id": "0LogaybPtPYd"
    },
    {
      "cell_type": "code",
      "source": [
        "\n",
        "data[\"education\"].value_counts()"
      ],
      "metadata": {
        "id": "Q3Cq0TqUQ197"
      },
      "id": "Q3Cq0TqUQ197",
      "execution_count": null,
      "outputs": []
    },
    {
      "cell_type": "markdown",
      "source": [
        "poutcome\n"
      ],
      "metadata": {
        "id": "kTPg3vl1tPlB"
      },
      "id": "kTPg3vl1tPlB"
    },
    {
      "cell_type": "code",
      "source": [
        "\n",
        "data[\"education\"].value_counts()"
      ],
      "metadata": {
        "id": "n324Tz3jQ1SY"
      },
      "id": "n324Tz3jQ1SY",
      "execution_count": null,
      "outputs": []
    },
    {
      "cell_type": "markdown",
      "source": [
        "emp.var.rate\n"
      ],
      "metadata": {
        "id": "jR4ftpdPtPyv"
      },
      "id": "jR4ftpdPtPyv"
    },
    {
      "cell_type": "code",
      "source": [
        "\n",
        "data[\"education\"].value_counts()"
      ],
      "metadata": {
        "id": "KZld2TpMQ0Lp"
      },
      "id": "KZld2TpMQ0Lp",
      "execution_count": null,
      "outputs": []
    },
    {
      "cell_type": "markdown",
      "source": [
        "cons.price.idx"
      ],
      "metadata": {
        "id": "KE8DKYmutQBa"
      },
      "id": "KE8DKYmutQBa"
    },
    {
      "cell_type": "code",
      "source": [
        "\n",
        "data[\"education\"].value_counts()"
      ],
      "metadata": {
        "id": "mqDmFgAJQzmC"
      },
      "id": "mqDmFgAJQzmC",
      "execution_count": null,
      "outputs": []
    },
    {
      "cell_type": "markdown",
      "source": [
        "cons.conf.idx\n"
      ],
      "metadata": {
        "id": "JS22y4rLtQPY"
      },
      "id": "JS22y4rLtQPY"
    },
    {
      "cell_type": "code",
      "source": [
        "\n",
        "data[\"education\"].value_counts()"
      ],
      "metadata": {
        "id": "UJVpKduPQy1c"
      },
      "id": "UJVpKduPQy1c",
      "execution_count": null,
      "outputs": []
    },
    {
      "cell_type": "markdown",
      "source": [
        "euribor3m\n"
      ],
      "metadata": {
        "id": "_XRKTvivtQeh"
      },
      "id": "_XRKTvivtQeh"
    },
    {
      "cell_type": "code",
      "source": [
        "\n",
        "data[\"education\"].value_counts()"
      ],
      "metadata": {
        "id": "kEEcn3ApQyO7"
      },
      "id": "kEEcn3ApQyO7",
      "execution_count": null,
      "outputs": []
    },
    {
      "cell_type": "markdown",
      "source": [
        "nr.employed"
      ],
      "metadata": {
        "id": "OHZAXLtguISd"
      },
      "id": "OHZAXLtguISd"
    },
    {
      "cell_type": "code",
      "source": [
        "\n",
        "data[\"education\"].value_counts()"
      ],
      "metadata": {
        "id": "6by_DflYQxkC"
      },
      "id": "6by_DflYQxkC",
      "execution_count": null,
      "outputs": []
    },
    {
      "cell_type": "markdown",
      "source": [
        "# **Feature Engineering**"
      ],
      "metadata": {
        "id": "4Sg3caIOUY3e"
      },
      "id": "4Sg3caIOUY3e"
    },
    {
      "cell_type": "markdown",
      "source": [
        "# **Train Model**"
      ],
      "metadata": {
        "id": "PlMFav0CUZMu"
      },
      "id": "PlMFav0CUZMu"
    },
    {
      "cell_type": "markdown",
      "source": [
        "# **Evaluate the Model**"
      ],
      "metadata": {
        "id": "qbv5L_h8UsV-"
      },
      "id": "qbv5L_h8UsV-"
    },
    {
      "cell_type": "markdown",
      "source": [
        "# **Optimize the Model**"
      ],
      "metadata": {
        "id": "__7JTigRUskz"
      },
      "id": "__7JTigRUskz"
    },
    {
      "cell_type": "markdown",
      "source": [
        "# **Evaluate the Model**"
      ],
      "metadata": {
        "id": "tzcCkGi8VBVf"
      },
      "id": "tzcCkGi8VBVf"
    },
    {
      "cell_type": "markdown",
      "source": [
        "# **Deploy the Mode**"
      ],
      "metadata": {
        "id": "BojrpM-cVRNf"
      },
      "id": "BojrpM-cVRNf"
    }
  ],
  "metadata": {
    "kernelspec": {
      "display_name": "",
      "name": ""
    },
    "language_info": {
      "name": ""
    },
    "colab": {
      "provenance": []
    }
  },
  "nbformat": 4,
  "nbformat_minor": 5
}