{
  "cells": [
    {
      "cell_type": "markdown",
      "source": [
        "# **Load data set & Get idea**"
      ],
      "metadata": {
        "id": "AK8odXy-RRou"
      },
      "id": "AK8odXy-RRou"
    },
    {
      "cell_type": "code",
      "execution_count": 4,
      "id": "ff76077a-7b8b-4945-b675-5eeb8bc59bf6",
      "metadata": {
        "id": "ff76077a-7b8b-4945-b675-5eeb8bc59bf6"
      },
      "outputs": [],
      "source": [
        "import pandas as pd\n",
        "\n",
        "\n",
        "data = pd.read_csv(\"https://raw.githubusercontent.com/vihanga-induwara/CM2604-CW-Bank-Marketing/refs/heads/main/bank%2Bmarketing/bank-additional/bank-additional/bank-additional-full.csv\", sep=\";\")\n"
      ]
    },
    {
      "cell_type": "code",
      "source": [
        "data.head()"
      ],
      "metadata": {
        "colab": {
          "base_uri": "https://localhost:8080/",
          "height": 0
        },
        "id": "Ir96EaSmYorx",
        "outputId": "0a8d4ed8-c676-41e2-beb8-95f696953dda"
      },
      "id": "Ir96EaSmYorx",
      "execution_count": 5,
      "outputs": [
        {
          "output_type": "execute_result",
          "data": {
            "text/plain": [
              "   age        job  marital    education  default housing loan    contact  \\\n",
              "0   56  housemaid  married     basic.4y       no      no   no  telephone   \n",
              "1   57   services  married  high.school  unknown      no   no  telephone   \n",
              "2   37   services  married  high.school       no     yes   no  telephone   \n",
              "3   40     admin.  married     basic.6y       no      no   no  telephone   \n",
              "4   56   services  married  high.school       no      no  yes  telephone   \n",
              "\n",
              "  month day_of_week  ...  campaign  pdays  previous     poutcome emp.var.rate  \\\n",
              "0   may         mon  ...         1    999         0  nonexistent          1.1   \n",
              "1   may         mon  ...         1    999         0  nonexistent          1.1   \n",
              "2   may         mon  ...         1    999         0  nonexistent          1.1   \n",
              "3   may         mon  ...         1    999         0  nonexistent          1.1   \n",
              "4   may         mon  ...         1    999         0  nonexistent          1.1   \n",
              "\n",
              "   cons.price.idx  cons.conf.idx  euribor3m  nr.employed   y  \n",
              "0          93.994          -36.4      4.857       5191.0  no  \n",
              "1          93.994          -36.4      4.857       5191.0  no  \n",
              "2          93.994          -36.4      4.857       5191.0  no  \n",
              "3          93.994          -36.4      4.857       5191.0  no  \n",
              "4          93.994          -36.4      4.857       5191.0  no  \n",
              "\n",
              "[5 rows x 21 columns]"
            ],
            "text/html": [
              "\n",
              "  <div id=\"df-b59b7c31-668e-41b0-821f-3000d387af7c\" class=\"colab-df-container\">\n",
              "    <div>\n",
              "<style scoped>\n",
              "    .dataframe tbody tr th:only-of-type {\n",
              "        vertical-align: middle;\n",
              "    }\n",
              "\n",
              "    .dataframe tbody tr th {\n",
              "        vertical-align: top;\n",
              "    }\n",
              "\n",
              "    .dataframe thead th {\n",
              "        text-align: right;\n",
              "    }\n",
              "</style>\n",
              "<table border=\"1\" class=\"dataframe\">\n",
              "  <thead>\n",
              "    <tr style=\"text-align: right;\">\n",
              "      <th></th>\n",
              "      <th>age</th>\n",
              "      <th>job</th>\n",
              "      <th>marital</th>\n",
              "      <th>education</th>\n",
              "      <th>default</th>\n",
              "      <th>housing</th>\n",
              "      <th>loan</th>\n",
              "      <th>contact</th>\n",
              "      <th>month</th>\n",
              "      <th>day_of_week</th>\n",
              "      <th>...</th>\n",
              "      <th>campaign</th>\n",
              "      <th>pdays</th>\n",
              "      <th>previous</th>\n",
              "      <th>poutcome</th>\n",
              "      <th>emp.var.rate</th>\n",
              "      <th>cons.price.idx</th>\n",
              "      <th>cons.conf.idx</th>\n",
              "      <th>euribor3m</th>\n",
              "      <th>nr.employed</th>\n",
              "      <th>y</th>\n",
              "    </tr>\n",
              "  </thead>\n",
              "  <tbody>\n",
              "    <tr>\n",
              "      <th>0</th>\n",
              "      <td>56</td>\n",
              "      <td>housemaid</td>\n",
              "      <td>married</td>\n",
              "      <td>basic.4y</td>\n",
              "      <td>no</td>\n",
              "      <td>no</td>\n",
              "      <td>no</td>\n",
              "      <td>telephone</td>\n",
              "      <td>may</td>\n",
              "      <td>mon</td>\n",
              "      <td>...</td>\n",
              "      <td>1</td>\n",
              "      <td>999</td>\n",
              "      <td>0</td>\n",
              "      <td>nonexistent</td>\n",
              "      <td>1.1</td>\n",
              "      <td>93.994</td>\n",
              "      <td>-36.4</td>\n",
              "      <td>4.857</td>\n",
              "      <td>5191.0</td>\n",
              "      <td>no</td>\n",
              "    </tr>\n",
              "    <tr>\n",
              "      <th>1</th>\n",
              "      <td>57</td>\n",
              "      <td>services</td>\n",
              "      <td>married</td>\n",
              "      <td>high.school</td>\n",
              "      <td>unknown</td>\n",
              "      <td>no</td>\n",
              "      <td>no</td>\n",
              "      <td>telephone</td>\n",
              "      <td>may</td>\n",
              "      <td>mon</td>\n",
              "      <td>...</td>\n",
              "      <td>1</td>\n",
              "      <td>999</td>\n",
              "      <td>0</td>\n",
              "      <td>nonexistent</td>\n",
              "      <td>1.1</td>\n",
              "      <td>93.994</td>\n",
              "      <td>-36.4</td>\n",
              "      <td>4.857</td>\n",
              "      <td>5191.0</td>\n",
              "      <td>no</td>\n",
              "    </tr>\n",
              "    <tr>\n",
              "      <th>2</th>\n",
              "      <td>37</td>\n",
              "      <td>services</td>\n",
              "      <td>married</td>\n",
              "      <td>high.school</td>\n",
              "      <td>no</td>\n",
              "      <td>yes</td>\n",
              "      <td>no</td>\n",
              "      <td>telephone</td>\n",
              "      <td>may</td>\n",
              "      <td>mon</td>\n",
              "      <td>...</td>\n",
              "      <td>1</td>\n",
              "      <td>999</td>\n",
              "      <td>0</td>\n",
              "      <td>nonexistent</td>\n",
              "      <td>1.1</td>\n",
              "      <td>93.994</td>\n",
              "      <td>-36.4</td>\n",
              "      <td>4.857</td>\n",
              "      <td>5191.0</td>\n",
              "      <td>no</td>\n",
              "    </tr>\n",
              "    <tr>\n",
              "      <th>3</th>\n",
              "      <td>40</td>\n",
              "      <td>admin.</td>\n",
              "      <td>married</td>\n",
              "      <td>basic.6y</td>\n",
              "      <td>no</td>\n",
              "      <td>no</td>\n",
              "      <td>no</td>\n",
              "      <td>telephone</td>\n",
              "      <td>may</td>\n",
              "      <td>mon</td>\n",
              "      <td>...</td>\n",
              "      <td>1</td>\n",
              "      <td>999</td>\n",
              "      <td>0</td>\n",
              "      <td>nonexistent</td>\n",
              "      <td>1.1</td>\n",
              "      <td>93.994</td>\n",
              "      <td>-36.4</td>\n",
              "      <td>4.857</td>\n",
              "      <td>5191.0</td>\n",
              "      <td>no</td>\n",
              "    </tr>\n",
              "    <tr>\n",
              "      <th>4</th>\n",
              "      <td>56</td>\n",
              "      <td>services</td>\n",
              "      <td>married</td>\n",
              "      <td>high.school</td>\n",
              "      <td>no</td>\n",
              "      <td>no</td>\n",
              "      <td>yes</td>\n",
              "      <td>telephone</td>\n",
              "      <td>may</td>\n",
              "      <td>mon</td>\n",
              "      <td>...</td>\n",
              "      <td>1</td>\n",
              "      <td>999</td>\n",
              "      <td>0</td>\n",
              "      <td>nonexistent</td>\n",
              "      <td>1.1</td>\n",
              "      <td>93.994</td>\n",
              "      <td>-36.4</td>\n",
              "      <td>4.857</td>\n",
              "      <td>5191.0</td>\n",
              "      <td>no</td>\n",
              "    </tr>\n",
              "  </tbody>\n",
              "</table>\n",
              "<p>5 rows × 21 columns</p>\n",
              "</div>\n",
              "    <div class=\"colab-df-buttons\">\n",
              "\n",
              "  <div class=\"colab-df-container\">\n",
              "    <button class=\"colab-df-convert\" onclick=\"convertToInteractive('df-b59b7c31-668e-41b0-821f-3000d387af7c')\"\n",
              "            title=\"Convert this dataframe to an interactive table.\"\n",
              "            style=\"display:none;\">\n",
              "\n",
              "  <svg xmlns=\"http://www.w3.org/2000/svg\" height=\"24px\" viewBox=\"0 -960 960 960\">\n",
              "    <path d=\"M120-120v-720h720v720H120Zm60-500h600v-160H180v160Zm220 220h160v-160H400v160Zm0 220h160v-160H400v160ZM180-400h160v-160H180v160Zm440 0h160v-160H620v160ZM180-180h160v-160H180v160Zm440 0h160v-160H620v160Z\"/>\n",
              "  </svg>\n",
              "    </button>\n",
              "\n",
              "  <style>\n",
              "    .colab-df-container {\n",
              "      display:flex;\n",
              "      gap: 12px;\n",
              "    }\n",
              "\n",
              "    .colab-df-convert {\n",
              "      background-color: #E8F0FE;\n",
              "      border: none;\n",
              "      border-radius: 50%;\n",
              "      cursor: pointer;\n",
              "      display: none;\n",
              "      fill: #1967D2;\n",
              "      height: 32px;\n",
              "      padding: 0 0 0 0;\n",
              "      width: 32px;\n",
              "    }\n",
              "\n",
              "    .colab-df-convert:hover {\n",
              "      background-color: #E2EBFA;\n",
              "      box-shadow: 0px 1px 2px rgba(60, 64, 67, 0.3), 0px 1px 3px 1px rgba(60, 64, 67, 0.15);\n",
              "      fill: #174EA6;\n",
              "    }\n",
              "\n",
              "    .colab-df-buttons div {\n",
              "      margin-bottom: 4px;\n",
              "    }\n",
              "\n",
              "    [theme=dark] .colab-df-convert {\n",
              "      background-color: #3B4455;\n",
              "      fill: #D2E3FC;\n",
              "    }\n",
              "\n",
              "    [theme=dark] .colab-df-convert:hover {\n",
              "      background-color: #434B5C;\n",
              "      box-shadow: 0px 1px 3px 1px rgba(0, 0, 0, 0.15);\n",
              "      filter: drop-shadow(0px 1px 2px rgba(0, 0, 0, 0.3));\n",
              "      fill: #FFFFFF;\n",
              "    }\n",
              "  </style>\n",
              "\n",
              "    <script>\n",
              "      const buttonEl =\n",
              "        document.querySelector('#df-b59b7c31-668e-41b0-821f-3000d387af7c button.colab-df-convert');\n",
              "      buttonEl.style.display =\n",
              "        google.colab.kernel.accessAllowed ? 'block' : 'none';\n",
              "\n",
              "      async function convertToInteractive(key) {\n",
              "        const element = document.querySelector('#df-b59b7c31-668e-41b0-821f-3000d387af7c');\n",
              "        const dataTable =\n",
              "          await google.colab.kernel.invokeFunction('convertToInteractive',\n",
              "                                                    [key], {});\n",
              "        if (!dataTable) return;\n",
              "\n",
              "        const docLinkHtml = 'Like what you see? Visit the ' +\n",
              "          '<a target=\"_blank\" href=https://colab.research.google.com/notebooks/data_table.ipynb>data table notebook</a>'\n",
              "          + ' to learn more about interactive tables.';\n",
              "        element.innerHTML = '';\n",
              "        dataTable['output_type'] = 'display_data';\n",
              "        await google.colab.output.renderOutput(dataTable, element);\n",
              "        const docLink = document.createElement('div');\n",
              "        docLink.innerHTML = docLinkHtml;\n",
              "        element.appendChild(docLink);\n",
              "      }\n",
              "    </script>\n",
              "  </div>\n",
              "\n",
              "\n",
              "<div id=\"df-756f6202-a580-466d-9f9c-3390d82cfe95\">\n",
              "  <button class=\"colab-df-quickchart\" onclick=\"quickchart('df-756f6202-a580-466d-9f9c-3390d82cfe95')\"\n",
              "            title=\"Suggest charts\"\n",
              "            style=\"display:none;\">\n",
              "\n",
              "<svg xmlns=\"http://www.w3.org/2000/svg\" height=\"24px\"viewBox=\"0 0 24 24\"\n",
              "     width=\"24px\">\n",
              "    <g>\n",
              "        <path d=\"M19 3H5c-1.1 0-2 .9-2 2v14c0 1.1.9 2 2 2h14c1.1 0 2-.9 2-2V5c0-1.1-.9-2-2-2zM9 17H7v-7h2v7zm4 0h-2V7h2v10zm4 0h-2v-4h2v4z\"/>\n",
              "    </g>\n",
              "</svg>\n",
              "  </button>\n",
              "\n",
              "<style>\n",
              "  .colab-df-quickchart {\n",
              "      --bg-color: #E8F0FE;\n",
              "      --fill-color: #1967D2;\n",
              "      --hover-bg-color: #E2EBFA;\n",
              "      --hover-fill-color: #174EA6;\n",
              "      --disabled-fill-color: #AAA;\n",
              "      --disabled-bg-color: #DDD;\n",
              "  }\n",
              "\n",
              "  [theme=dark] .colab-df-quickchart {\n",
              "      --bg-color: #3B4455;\n",
              "      --fill-color: #D2E3FC;\n",
              "      --hover-bg-color: #434B5C;\n",
              "      --hover-fill-color: #FFFFFF;\n",
              "      --disabled-bg-color: #3B4455;\n",
              "      --disabled-fill-color: #666;\n",
              "  }\n",
              "\n",
              "  .colab-df-quickchart {\n",
              "    background-color: var(--bg-color);\n",
              "    border: none;\n",
              "    border-radius: 50%;\n",
              "    cursor: pointer;\n",
              "    display: none;\n",
              "    fill: var(--fill-color);\n",
              "    height: 32px;\n",
              "    padding: 0;\n",
              "    width: 32px;\n",
              "  }\n",
              "\n",
              "  .colab-df-quickchart:hover {\n",
              "    background-color: var(--hover-bg-color);\n",
              "    box-shadow: 0 1px 2px rgba(60, 64, 67, 0.3), 0 1px 3px 1px rgba(60, 64, 67, 0.15);\n",
              "    fill: var(--button-hover-fill-color);\n",
              "  }\n",
              "\n",
              "  .colab-df-quickchart-complete:disabled,\n",
              "  .colab-df-quickchart-complete:disabled:hover {\n",
              "    background-color: var(--disabled-bg-color);\n",
              "    fill: var(--disabled-fill-color);\n",
              "    box-shadow: none;\n",
              "  }\n",
              "\n",
              "  .colab-df-spinner {\n",
              "    border: 2px solid var(--fill-color);\n",
              "    border-color: transparent;\n",
              "    border-bottom-color: var(--fill-color);\n",
              "    animation:\n",
              "      spin 1s steps(1) infinite;\n",
              "  }\n",
              "\n",
              "  @keyframes spin {\n",
              "    0% {\n",
              "      border-color: transparent;\n",
              "      border-bottom-color: var(--fill-color);\n",
              "      border-left-color: var(--fill-color);\n",
              "    }\n",
              "    20% {\n",
              "      border-color: transparent;\n",
              "      border-left-color: var(--fill-color);\n",
              "      border-top-color: var(--fill-color);\n",
              "    }\n",
              "    30% {\n",
              "      border-color: transparent;\n",
              "      border-left-color: var(--fill-color);\n",
              "      border-top-color: var(--fill-color);\n",
              "      border-right-color: var(--fill-color);\n",
              "    }\n",
              "    40% {\n",
              "      border-color: transparent;\n",
              "      border-right-color: var(--fill-color);\n",
              "      border-top-color: var(--fill-color);\n",
              "    }\n",
              "    60% {\n",
              "      border-color: transparent;\n",
              "      border-right-color: var(--fill-color);\n",
              "    }\n",
              "    80% {\n",
              "      border-color: transparent;\n",
              "      border-right-color: var(--fill-color);\n",
              "      border-bottom-color: var(--fill-color);\n",
              "    }\n",
              "    90% {\n",
              "      border-color: transparent;\n",
              "      border-bottom-color: var(--fill-color);\n",
              "    }\n",
              "  }\n",
              "</style>\n",
              "\n",
              "  <script>\n",
              "    async function quickchart(key) {\n",
              "      const quickchartButtonEl =\n",
              "        document.querySelector('#' + key + ' button');\n",
              "      quickchartButtonEl.disabled = true;  // To prevent multiple clicks.\n",
              "      quickchartButtonEl.classList.add('colab-df-spinner');\n",
              "      try {\n",
              "        const charts = await google.colab.kernel.invokeFunction(\n",
              "            'suggestCharts', [key], {});\n",
              "      } catch (error) {\n",
              "        console.error('Error during call to suggestCharts:', error);\n",
              "      }\n",
              "      quickchartButtonEl.classList.remove('colab-df-spinner');\n",
              "      quickchartButtonEl.classList.add('colab-df-quickchart-complete');\n",
              "    }\n",
              "    (() => {\n",
              "      let quickchartButtonEl =\n",
              "        document.querySelector('#df-756f6202-a580-466d-9f9c-3390d82cfe95 button');\n",
              "      quickchartButtonEl.style.display =\n",
              "        google.colab.kernel.accessAllowed ? 'block' : 'none';\n",
              "    })();\n",
              "  </script>\n",
              "</div>\n",
              "\n",
              "    </div>\n",
              "  </div>\n"
            ],
            "application/vnd.google.colaboratory.intrinsic+json": {
              "type": "dataframe",
              "variable_name": "data"
            }
          },
          "metadata": {},
          "execution_count": 5
        }
      ]
    },
    {
      "cell_type": "code",
      "source": [
        "# Check column names and data types\n",
        "print(data.info())"
      ],
      "metadata": {
        "colab": {
          "base_uri": "https://localhost:8080/"
        },
        "id": "4oBXyK8pZQ0O",
        "outputId": "ea341d4d-8eac-4078-930d-accb837e0a1c"
      },
      "id": "4oBXyK8pZQ0O",
      "execution_count": 6,
      "outputs": [
        {
          "output_type": "stream",
          "name": "stdout",
          "text": [
            "<class 'pandas.core.frame.DataFrame'>\n",
            "RangeIndex: 41188 entries, 0 to 41187\n",
            "Data columns (total 21 columns):\n",
            " #   Column          Non-Null Count  Dtype  \n",
            "---  ------          --------------  -----  \n",
            " 0   age             41188 non-null  int64  \n",
            " 1   job             41188 non-null  object \n",
            " 2   marital         41188 non-null  object \n",
            " 3   education       41188 non-null  object \n",
            " 4   default         41188 non-null  object \n",
            " 5   housing         41188 non-null  object \n",
            " 6   loan            41188 non-null  object \n",
            " 7   contact         41188 non-null  object \n",
            " 8   month           41188 non-null  object \n",
            " 9   day_of_week     41188 non-null  object \n",
            " 10  duration        41188 non-null  int64  \n",
            " 11  campaign        41188 non-null  int64  \n",
            " 12  pdays           41188 non-null  int64  \n",
            " 13  previous        41188 non-null  int64  \n",
            " 14  poutcome        41188 non-null  object \n",
            " 15  emp.var.rate    41188 non-null  float64\n",
            " 16  cons.price.idx  41188 non-null  float64\n",
            " 17  cons.conf.idx   41188 non-null  float64\n",
            " 18  euribor3m       41188 non-null  float64\n",
            " 19  nr.employed     41188 non-null  float64\n",
            " 20  y               41188 non-null  object \n",
            "dtypes: float64(5), int64(5), object(11)\n",
            "memory usage: 6.6+ MB\n",
            "None\n"
          ]
        }
      ]
    },
    {
      "cell_type": "code",
      "source": [
        "# Check for missing values\n",
        "print(data.isnull().sum())"
      ],
      "metadata": {
        "colab": {
          "base_uri": "https://localhost:8080/"
        },
        "id": "80Kzfqa0ZRae",
        "outputId": "7b3b5107-9ceb-4d42-c100-549141b869aa"
      },
      "id": "80Kzfqa0ZRae",
      "execution_count": 7,
      "outputs": [
        {
          "output_type": "stream",
          "name": "stdout",
          "text": [
            "age               0\n",
            "job               0\n",
            "marital           0\n",
            "education         0\n",
            "default           0\n",
            "housing           0\n",
            "loan              0\n",
            "contact           0\n",
            "month             0\n",
            "day_of_week       0\n",
            "duration          0\n",
            "campaign          0\n",
            "pdays             0\n",
            "previous          0\n",
            "poutcome          0\n",
            "emp.var.rate      0\n",
            "cons.price.idx    0\n",
            "cons.conf.idx     0\n",
            "euribor3m         0\n",
            "nr.employed       0\n",
            "y                 0\n",
            "dtype: int64\n"
          ]
        }
      ]
    },
    {
      "cell_type": "code",
      "source": [
        "# Summary statistics\n",
        "print(data.describe())"
      ],
      "metadata": {
        "colab": {
          "base_uri": "https://localhost:8080/"
        },
        "id": "CTeNslycZRrG",
        "outputId": "c8bf5ad0-a5a8-4521-9160-34e8680960d8"
      },
      "id": "CTeNslycZRrG",
      "execution_count": 8,
      "outputs": [
        {
          "output_type": "stream",
          "name": "stdout",
          "text": [
            "               age      duration      campaign         pdays      previous  \\\n",
            "count  41188.00000  41188.000000  41188.000000  41188.000000  41188.000000   \n",
            "mean      40.02406    258.285010      2.567593    962.475454      0.172963   \n",
            "std       10.42125    259.279249      2.770014    186.910907      0.494901   \n",
            "min       17.00000      0.000000      1.000000      0.000000      0.000000   \n",
            "25%       32.00000    102.000000      1.000000    999.000000      0.000000   \n",
            "50%       38.00000    180.000000      2.000000    999.000000      0.000000   \n",
            "75%       47.00000    319.000000      3.000000    999.000000      0.000000   \n",
            "max       98.00000   4918.000000     56.000000    999.000000      7.000000   \n",
            "\n",
            "       emp.var.rate  cons.price.idx  cons.conf.idx     euribor3m   nr.employed  \n",
            "count  41188.000000    41188.000000   41188.000000  41188.000000  41188.000000  \n",
            "mean       0.081886       93.575664     -40.502600      3.621291   5167.035911  \n",
            "std        1.570960        0.578840       4.628198      1.734447     72.251528  \n",
            "min       -3.400000       92.201000     -50.800000      0.634000   4963.600000  \n",
            "25%       -1.800000       93.075000     -42.700000      1.344000   5099.100000  \n",
            "50%        1.100000       93.749000     -41.800000      4.857000   5191.000000  \n",
            "75%        1.400000       93.994000     -36.400000      4.961000   5228.100000  \n",
            "max        1.400000       94.767000     -26.900000      5.045000   5228.100000  \n"
          ]
        }
      ]
    },
    {
      "cell_type": "code",
      "source": [
        "import matplotlib.pyplot as plt\n",
        "import seaborn as sns\n",
        "\n",
        "# Age distribution\n",
        "sns.histplot(data['age'], bins=20, kde=True, color='blue')\n",
        "plt.title('Age Distribution')\n",
        "plt.xlabel('Age')\n",
        "plt.ylabel('Frequency')\n",
        "plt.show()"
      ],
      "metadata": {
        "colab": {
          "base_uri": "https://localhost:8080/",
          "height": 0
        },
        "id": "sGAf0l6baKpL",
        "outputId": "a0e31ccf-ea26-48fa-efb7-536eab22bfd4"
      },
      "id": "sGAf0l6baKpL",
      "execution_count": 9,
      "outputs": [
        {
          "output_type": "display_data",
          "data": {
            "text/plain": [
              "<Figure size 640x480 with 1 Axes>"
            ],
            "image/png": "[encoded data removed]"
          },
          "metadata": {}
        }
      ]
    },
    {
      "cell_type": "code",
      "source": [
        "import matplotlib.pyplot as plt\n",
        "import seaborn as sns\n",
        "\n",
        "# Countplot for target variable\n",
        "sns.countplot(x='y', data=data, palette='pastel')\n",
        "plt.title('Distribution of Campaign Outcome (Balanced vs. Imbalanced)')\n",
        "plt.xlabel('Outcome')\n",
        "plt.ylabel('Count')\n",
        "plt.show()\n"
      ],
      "metadata": {
        "colab": {
          "base_uri": "https://localhost:8080/",
          "height": 0
        },
        "id": "ammVD5TmaYzU",
        "outputId": "4494d58a-10e7-4638-c46e-39786d181a58"
      },
      "id": "ammVD5TmaYzU",
      "execution_count": 10,
      "outputs": [
        {
          "output_type": "stream",
          "name": "stderr",
          "text": [
            "<ipython-input-10-1dfeb1f79179>:5: FutureWarning: \n",
            "\n",
            "Passing `palette` without assigning `hue` is deprecated and will be removed in v0.14.0. Assign the `x` variable to `hue` and set `legend=False` for the same effect.\n",
            "\n",
            "  sns.countplot(x='y', data=data, palette='pastel')\n"
          ]
        },
        {
          "output_type": "display_data",
          "data": {
            "text/plain": [
              "<Figure size 640x480 with 1 Axes>"
            ],
            "image/png": "[encoded data removed]"
          },
          "metadata": {}
        }
      ]
    },
    {
      "cell_type": "code",
      "source": [
        "# Calculate percentage distribution\n",
        "outcome_counts = data['y'].value_counts(normalize=True) * 100\n",
        "print(outcome_counts)\n",
        "\n",
        "# Visualize as a pie chart\n",
        "outcome_counts.plot.pie(autopct='%1.1f%%', labels=['No', 'Yes'], colors=['lightblue', 'orange'])\n",
        "plt.title('Percentage Distribution of Campaign Outcome')\n",
        "plt.ylabel('')  # Remove y-axis label\n",
        "plt.show()\n"
      ],
      "metadata": {
        "colab": {
          "base_uri": "https://localhost:8080/",
          "height": 0
        },
        "id": "O-b9-n3gbAE1",
        "outputId": "292611ab-5485-4277-8841-8fbc28832abb"
      },
      "id": "O-b9-n3gbAE1",
      "execution_count": 11,
      "outputs": [
        {
          "output_type": "stream",
          "name": "stdout",
          "text": [
            "y\n",
            "no     88.734583\n",
            "yes    11.265417\n",
            "Name: proportion, dtype: float64\n"
          ]
        },
        {
          "output_type": "display_data",
          "data": {
            "text/plain": [
              "<Figure size 640x480 with 1 Axes>"
            ],
            "image/png": "[encoded data removed]"
          },
          "metadata": {}
        }
      ]
    },
    {
      "cell_type": "markdown",
      "source": [
        "# **Preprocess Data**"
      ],
      "metadata": {
        "id": "MzquUa1FUL4p"
      },
      "id": "MzquUa1FUL4p"
    },
    {
      "cell_type": "markdown",
      "source": [
        "## **idea of data**"
      ],
      "metadata": {
        "id": "B49tFbde2jnK"
      },
      "id": "B49tFbde2jnK"
    },
    {
      "cell_type": "code",
      "source": [
        "\n",
        "# Display column details: type and number of unique categories\n",
        "for column in data.columns:\n",
        "    print(f\"Column: {column}\")\n",
        "    print(f\"Type: {data[column].dtype}\")\n",
        "    print(f\"Number of unique values: {data[column].nunique()}\")\n",
        "\n",
        "    # If the column is categorical, print the unique values (categories)\n",
        "    if data[column].dtype == 'object':\n",
        "        print(f\"Categories: {data[column].unique()}\")\n",
        "    print(\"-\" * 40)\n"
      ],
      "metadata": {
        "colab": {
          "base_uri": "https://localhost:8080/"
        },
        "id": "NoXOg4zAidLN",
        "outputId": "be40a94c-2377-40c5-9c71-481f87cf1316"
      },
      "id": "NoXOg4zAidLN",
      "execution_count": 12,
      "outputs": [
        {
          "output_type": "stream",
          "name": "stdout",
          "text": [
            "Column: age\n",
            "Type: int64\n",
            "Number of unique values: 78\n",
            "----------------------------------------\n",
            "Column: job\n",
            "Type: object\n",
            "Number of unique values: 12\n",
            "Categories: ['housemaid' 'services' 'admin.' 'blue-collar' 'technician' 'retired'\n",
            " 'management' 'unemployed' 'self-employed' 'unknown' 'entrepreneur'\n",
            " 'student']\n",
            "----------------------------------------\n",
            "Column: marital\n",
            "Type: object\n",
            "Number of unique values: 4\n",
            "Categories: ['married' 'single' 'divorced' 'unknown']\n",
            "----------------------------------------\n",
            "Column: education\n",
            "Type: object\n",
            "Number of unique values: 8\n",
            "Categories: ['basic.4y' 'high.school' 'basic.6y' 'basic.9y' 'professional.course'\n",
            " 'unknown' 'university.degree' 'illiterate']\n",
            "----------------------------------------\n",
            "Column: default\n",
            "Type: object\n",
            "Number of unique values: 3\n",
            "Categories: ['no' 'unknown' 'yes']\n",
            "----------------------------------------\n",
            "Column: housing\n",
            "Type: object\n",
            "Number of unique values: 3\n",
            "Categories: ['no' 'yes' 'unknown']\n",
            "----------------------------------------\n",
            "Column: loan\n",
            "Type: object\n",
            "Number of unique values: 3\n",
            "Categories: ['no' 'yes' 'unknown']\n",
            "----------------------------------------\n",
            "Column: contact\n",
            "Type: object\n",
            "Number of unique values: 2\n",
            "Categories: ['telephone' 'cellular']\n",
            "----------------------------------------\n",
            "Column: month\n",
            "Type: object\n",
            "Number of unique values: 10\n",
            "Categories: ['may' 'jun' 'jul' 'aug' 'oct' 'nov' 'dec' 'mar' 'apr' 'sep']\n",
            "----------------------------------------\n",
            "Column: day_of_week\n",
            "Type: object\n",
            "Number of unique values: 5\n",
            "Categories: ['mon' 'tue' 'wed' 'thu' 'fri']\n",
            "----------------------------------------\n",
            "Column: duration\n",
            "Type: int64\n",
            "Number of unique values: 1544\n",
            "----------------------------------------\n",
            "Column: campaign\n",
            "Type: int64\n",
            "Number of unique values: 42\n",
            "----------------------------------------\n",
            "Column: pdays\n",
            "Type: int64\n",
            "Number of unique values: 27\n",
            "----------------------------------------\n",
            "Column: previous\n",
            "Type: int64\n",
            "Number of unique values: 8\n",
            "----------------------------------------\n",
            "Column: poutcome\n",
            "Type: object\n",
            "Number of unique values: 3\n",
            "Categories: ['nonexistent' 'failure' 'success']\n",
            "----------------------------------------\n",
            "Column: emp.var.rate\n",
            "Type: float64\n",
            "Number of unique values: 10\n",
            "----------------------------------------\n",
            "Column: cons.price.idx\n",
            "Type: float64\n",
            "Number of unique values: 26\n",
            "----------------------------------------\n",
            "Column: cons.conf.idx\n",
            "Type: float64\n",
            "Number of unique values: 26\n",
            "----------------------------------------\n",
            "Column: euribor3m\n",
            "Type: float64\n",
            "Number of unique values: 316\n",
            "----------------------------------------\n",
            "Column: nr.employed\n",
            "Type: float64\n",
            "Number of unique values: 11\n",
            "----------------------------------------\n",
            "Column: y\n",
            "Type: object\n",
            "Number of unique values: 2\n",
            "Categories: ['no' 'yes']\n",
            "----------------------------------------\n"
          ]
        }
      ]
    },
    {
      "cell_type": "markdown",
      "source": [
        "## **age**"
      ],
      "metadata": {
        "id": "XjlOHsa1tER3"
      },
      "id": "XjlOHsa1tER3"
    },
    {
      "cell_type": "code",
      "source": [
        "\n",
        "data[\"age\"].value_counts()"
      ],
      "metadata": {
        "colab": {
          "base_uri": "https://localhost:8080/",
          "height": 0
        },
        "id": "hNGjtmwYQomK",
        "outputId": "abcc2044-6dfd-42df-e260-40102fec464f"
      },
      "id": "hNGjtmwYQomK",
      "execution_count": 13,
      "outputs": [
        {
          "output_type": "execute_result",
          "data": {
            "text/plain": [
              "age\n",
              "31    1947\n",
              "32    1846\n",
              "33    1833\n",
              "36    1780\n",
              "35    1759\n",
              "      ... \n",
              "89       2\n",
              "91       2\n",
              "94       1\n",
              "87       1\n",
              "95       1\n",
              "Name: count, Length: 78, dtype: int64"
            ],
            "text/html": [
              "<div>\n",
              "<style scoped>\n",
              "    .dataframe tbody tr th:only-of-type {\n",
              "        vertical-align: middle;\n",
              "    }\n",
              "\n",
              "    .dataframe tbody tr th {\n",
              "        vertical-align: top;\n",
              "    }\n",
              "\n",
              "    .dataframe thead th {\n",
              "        text-align: right;\n",
              "    }\n",
              "</style>\n",
              "<table border=\"1\" class=\"dataframe\">\n",
              "  <thead>\n",
              "    <tr style=\"text-align: right;\">\n",
              "      <th></th>\n",
              "      <th>count</th>\n",
              "    </tr>\n",
              "    <tr>\n",
              "      <th>age</th>\n",
              "      <th></th>\n",
              "    </tr>\n",
              "  </thead>\n",
              "  <tbody>\n",
              "    <tr>\n",
              "      <th>31</th>\n",
              "      <td>1947</td>\n",
              "    </tr>\n",
              "    <tr>\n",
              "      <th>32</th>\n",
              "      <td>1846</td>\n",
              "    </tr>\n",
              "    <tr>\n",
              "      <th>33</th>\n",
              "      <td>1833</td>\n",
              "    </tr>\n",
              "    <tr>\n",
              "      <th>36</th>\n",
              "      <td>1780</td>\n",
              "    </tr>\n",
              "    <tr>\n",
              "      <th>35</th>\n",
              "      <td>1759</td>\n",
              "    </tr>\n",
              "    <tr>\n",
              "      <th>...</th>\n",
              "      <td>...</td>\n",
              "    </tr>\n",
              "    <tr>\n",
              "      <th>89</th>\n",
              "      <td>2</td>\n",
              "    </tr>\n",
              "    <tr>\n",
              "      <th>91</th>\n",
              "      <td>2</td>\n",
              "    </tr>\n",
              "    <tr>\n",
              "      <th>94</th>\n",
              "      <td>1</td>\n",
              "    </tr>\n",
              "    <tr>\n",
              "      <th>87</th>\n",
              "      <td>1</td>\n",
              "    </tr>\n",
              "    <tr>\n",
              "      <th>95</th>\n",
              "      <td>1</td>\n",
              "    </tr>\n",
              "  </tbody>\n",
              "</table>\n",
              "<p>78 rows × 1 columns</p>\n",
              "</div><br><label><b>dtype:</b> int64</label>"
            ]
          },
          "metadata": {},
          "execution_count": 13
        }
      ]
    },
    {
      "cell_type": "code",
      "source": [
        "import matplotlib.pyplot as plt\n",
        "\n",
        "plt.figure(figsize=(8, 6))\n",
        "plt.hist(data[\"age\"], bins=30, color='skyblue', edgecolor='black')\n",
        "plt.title(\"Distribution of Age\", fontsize=16)\n",
        "plt.xlabel(\"Age\", fontsize=12)\n",
        "plt.ylabel(\"Frequency\", fontsize=12)\n",
        "plt.grid(axis='y', linestyle='--', alpha=0.7)\n",
        "plt.show()\n"
      ],
      "metadata": {
        "colab": {
          "base_uri": "https://localhost:8080/",
          "height": 0
        },
        "id": "ABdl_pjGSszc",
        "outputId": "9bc08718-dbfa-4f3e-f501-c8959e1eb13b"
      },
      "id": "ABdl_pjGSszc",
      "execution_count": 14,
      "outputs": [
        {
          "output_type": "display_data",
          "data": {
            "text/plain": [
              "<Figure size 800x600 with 1 Axes>"
            ],
            "image/png": "[encoded data removed]"
          },
          "metadata": {}
        }
      ]
    },
    {
      "cell_type": "code",
      "source": [
        "import pandas as pd\n",
        "\n",
        "# Calculate Q1 (25th percentile), Q3 (75th percentile), and IQR\n",
        "Q1 = data['age'].quantile(0.25)\n",
        "Q3 = data['age'].quantile(0.75)\n",
        "IQR = Q3 - Q1\n",
        "\n",
        "# Define the lower and upper bounds\n",
        "lower_bound = Q1 - 1.5 * IQR\n",
        "upper_bound = Q3 + 1.5 * IQR\n",
        "\n",
        "print(f\"Lower Bound: {lower_bound}, Upper Bound: {upper_bound}\")\n",
        "\n",
        "# Filter the data to exclude outliers\n",
        "data = data[(data['age'] >= lower_bound) & (data['age'] <= upper_bound)]\n",
        "\n",
        "# Print the shape of the dataset before and after removing outliers\n",
        "print(f\"Original data shape: {data.shape}\")\n",
        "print(f\"Data shape after removing outliers: {data.shape}\")\n"
      ],
      "metadata": {
        "colab": {
          "base_uri": "https://localhost:8080/"
        },
        "id": "NwaD3HhqUMY2",
        "outputId": "ee347a2f-57f3-4625-d3ab-08d9d0bde7ee"
      },
      "id": "NwaD3HhqUMY2",
      "execution_count": 15,
      "outputs": [
        {
          "output_type": "stream",
          "name": "stdout",
          "text": [
            "Lower Bound: 9.5, Upper Bound: 69.5\n",
            "Original data shape: (40719, 21)\n",
            "Data shape after removing outliers: (40719, 21)\n"
          ]
        }
      ]
    },
    {
      "cell_type": "code",
      "source": [
        "import matplotlib.pyplot as plt\n",
        "\n",
        "plt.figure(figsize=(8, 6))\n",
        "plt.hist(data[\"age\"], bins=30, color='skyblue', edgecolor='black')\n",
        "plt.title(\"Distribution of Age\", fontsize=16)\n",
        "plt.xlabel(\"Age\", fontsize=12)\n",
        "plt.ylabel(\"Frequency\", fontsize=12)\n",
        "plt.grid(axis='y', linestyle='--', alpha=0.7)\n",
        "plt.show()\n"
      ],
      "metadata": {
        "colab": {
          "base_uri": "https://localhost:8080/",
          "height": 0
        },
        "id": "bkDWiI5tURyt",
        "outputId": "22550027-8f83-415c-9614-e5021ebda9af"
      },
      "id": "bkDWiI5tURyt",
      "execution_count": 16,
      "outputs": [
        {
          "output_type": "display_data",
          "data": {
            "text/plain": [
              "<Figure size 800x600 with 1 Axes>"
            ],
            "image/png": "[encoded data removed]"
          },
          "metadata": {}
        }
      ]
    },
    {
      "cell_type": "code",
      "source": [
        "from sklearn.preprocessing import MinMaxScaler\n",
        "\n",
        "# Create a scaler instance\n",
        "scaler = MinMaxScaler()\n",
        "\n",
        "# Normalize the 'age' column\n",
        "data['age'] = scaler.fit_transform(data[['age']])\n",
        "\n",
        "# Display the first few rows of the normalized column\n",
        "print(data[['age']].head())\n"
      ],
      "metadata": {
        "colab": {
          "base_uri": "https://localhost:8080/"
        },
        "id": "FQm2MwCPYswE",
        "outputId": "c24538bd-92b7-40ab-ec22-4c4abfe9b576"
      },
      "id": "FQm2MwCPYswE",
      "execution_count": 17,
      "outputs": [
        {
          "output_type": "stream",
          "name": "stdout",
          "text": [
            "        age\n",
            "0  0.750000\n",
            "1  0.769231\n",
            "2  0.384615\n",
            "3  0.442308\n",
            "4  0.750000\n"
          ]
        }
      ]
    },
    {
      "cell_type": "code",
      "source": [
        "import matplotlib.pyplot as plt\n",
        "\n",
        "plt.figure(figsize=(8, 6))\n",
        "plt.hist(data[\"age\"], bins=30, color='skyblue', edgecolor='black')\n",
        "plt.title(\"Distribution of Age\", fontsize=16)\n",
        "plt.xlabel(\"Age\", fontsize=12)\n",
        "plt.ylabel(\"Frequency\", fontsize=12)\n",
        "plt.grid(axis='y', linestyle='--', alpha=0.7)\n",
        "plt.show()\n"
      ],
      "metadata": {
        "colab": {
          "base_uri": "https://localhost:8080/",
          "height": 0
        },
        "id": "0_h6V4IaY7m5",
        "outputId": "3532bf44-0dbc-4f38-f015-038f4a31e009"
      },
      "id": "0_h6V4IaY7m5",
      "execution_count": 18,
      "outputs": [
        {
          "output_type": "display_data",
          "data": {
            "text/plain": [
              "<Figure size 800x600 with 1 Axes>"
            ],
            "image/png": "[encoded data removed]"
          },
          "metadata": {}
        }
      ]
    },
    {
      "cell_type": "markdown",
      "source": [
        "## **job**"
      ],
      "metadata": {
        "id": "jaQ4JuV1tMk2"
      },
      "id": "jaQ4JuV1tMk2"
    },
    {
      "cell_type": "code",
      "source": [
        "\n",
        "data[\"job\"].value_counts()"
      ],
      "metadata": {
        "colab": {
          "base_uri": "https://localhost:8080/",
          "height": 0
        },
        "id": "vHPzn99ZQp42",
        "outputId": "b20e1ee3-b855-4c03-f60d-d5fe5415c64c"
      },
      "id": "vHPzn99ZQp42",
      "execution_count": 19,
      "outputs": [
        {
          "output_type": "execute_result",
          "data": {
            "text/plain": [
              "job\n",
              "admin.           10414\n",
              "blue-collar       9251\n",
              "technician        6742\n",
              "services          3969\n",
              "management        2918\n",
              "entrepreneur      1456\n",
              "self-employed     1420\n",
              "retired           1301\n",
              "housemaid         1035\n",
              "unemployed        1014\n",
              "student            875\n",
              "unknown            324\n",
              "Name: count, dtype: int64"
            ],
            "text/html": [
              "<div>\n",
              "<style scoped>\n",
              "    .dataframe tbody tr th:only-of-type {\n",
              "        vertical-align: middle;\n",
              "    }\n",
              "\n",
              "    .dataframe tbody tr th {\n",
              "        vertical-align: top;\n",
              "    }\n",
              "\n",
              "    .dataframe thead th {\n",
              "        text-align: right;\n",
              "    }\n",
              "</style>\n",
              "<table border=\"1\" class=\"dataframe\">\n",
              "  <thead>\n",
              "    <tr style=\"text-align: right;\">\n",
              "      <th></th>\n",
              "      <th>count</th>\n",
              "    </tr>\n",
              "    <tr>\n",
              "      <th>job</th>\n",
              "      <th></th>\n",
              "    </tr>\n",
              "  </thead>\n",
              "  <tbody>\n",
              "    <tr>\n",
              "      <th>admin.</th>\n",
              "      <td>10414</td>\n",
              "    </tr>\n",
              "    <tr>\n",
              "      <th>blue-collar</th>\n",
              "      <td>9251</td>\n",
              "    </tr>\n",
              "    <tr>\n",
              "      <th>technician</th>\n",
              "      <td>6742</td>\n",
              "    </tr>\n",
              "    <tr>\n",
              "      <th>services</th>\n",
              "      <td>3969</td>\n",
              "    </tr>\n",
              "    <tr>\n",
              "      <th>management</th>\n",
              "      <td>2918</td>\n",
              "    </tr>\n",
              "    <tr>\n",
              "      <th>entrepreneur</th>\n",
              "      <td>1456</td>\n",
              "    </tr>\n",
              "    <tr>\n",
              "      <th>self-employed</th>\n",
              "      <td>1420</td>\n",
              "    </tr>\n",
              "    <tr>\n",
              "      <th>retired</th>\n",
              "      <td>1301</td>\n",
              "    </tr>\n",
              "    <tr>\n",
              "      <th>housemaid</th>\n",
              "      <td>1035</td>\n",
              "    </tr>\n",
              "    <tr>\n",
              "      <th>unemployed</th>\n",
              "      <td>1014</td>\n",
              "    </tr>\n",
              "    <tr>\n",
              "      <th>student</th>\n",
              "      <td>875</td>\n",
              "    </tr>\n",
              "    <tr>\n",
              "      <th>unknown</th>\n",
              "      <td>324</td>\n",
              "    </tr>\n",
              "  </tbody>\n",
              "</table>\n",
              "</div><br><label><b>dtype:</b> int64</label>"
            ]
          },
          "metadata": {},
          "execution_count": 19
        }
      ]
    },
    {
      "cell_type": "code",
      "source": [
        "import pandas as pd\n",
        "\n",
        "# Assuming you have a DataFrame called 'data'\n",
        "data_encoded = pd.get_dummies(data['job'], prefix='job', drop_first=False)\n",
        "\n",
        "# If you want to concatenate it with the original dataframe\n",
        "data = pd.concat([data, data_encoded], axis=1)\n",
        "\n",
        "# Display the first few rows of the updated dataframe\n",
        "print(data.head())\n"
      ],
      "metadata": {
        "colab": {
          "base_uri": "https://localhost:8080/"
        },
        "id": "nyJsGJ2bZS1F",
        "outputId": "9510f068-b1bd-4c6f-c959-d09f27928a8e"
      },
      "id": "nyJsGJ2bZS1F",
      "execution_count": 20,
      "outputs": [
        {
          "output_type": "stream",
          "name": "stdout",
          "text": [
            "        age        job  marital    education  default housing loan    contact  \\\n",
            "0  0.750000  housemaid  married     basic.4y       no      no   no  telephone   \n",
            "1  0.769231   services  married  high.school  unknown      no   no  telephone   \n",
            "2  0.384615   services  married  high.school       no     yes   no  telephone   \n",
            "3  0.442308     admin.  married     basic.6y       no      no   no  telephone   \n",
            "4  0.750000   services  married  high.school       no      no  yes  telephone   \n",
            "\n",
            "  month day_of_week  ...  job_entrepreneur  job_housemaid  job_management  \\\n",
            "0   may         mon  ...             False           True           False   \n",
            "1   may         mon  ...             False          False           False   \n",
            "2   may         mon  ...             False          False           False   \n",
            "3   may         mon  ...             False          False           False   \n",
            "4   may         mon  ...             False          False           False   \n",
            "\n",
            "   job_retired job_self-employed  job_services  job_student  job_technician  \\\n",
            "0        False             False         False        False           False   \n",
            "1        False             False          True        False           False   \n",
            "2        False             False          True        False           False   \n",
            "3        False             False         False        False           False   \n",
            "4        False             False          True        False           False   \n",
            "\n",
            "   job_unemployed  job_unknown  \n",
            "0           False        False  \n",
            "1           False        False  \n",
            "2           False        False  \n",
            "3           False        False  \n",
            "4           False        False  \n",
            "\n",
            "[5 rows x 33 columns]\n"
          ]
        }
      ]
    },
    {
      "cell_type": "code",
      "source": [
        "# Drop the 'job' column in-place\n",
        "data.drop(columns=['job'], inplace=True)\n",
        "\n",
        "# Verify if the column is removed\n",
        "print(data.head())\n"
      ],
      "metadata": {
        "id": "hZDNnf774zot",
        "outputId": "21e18033-b342-4146-be2e-aaf982742025",
        "colab": {
          "base_uri": "https://localhost:8080/"
        }
      },
      "id": "hZDNnf774zot",
      "execution_count": 21,
      "outputs": [
        {
          "output_type": "stream",
          "name": "stdout",
          "text": [
            "        age  marital    education  default housing loan    contact month  \\\n",
            "0  0.750000  married     basic.4y       no      no   no  telephone   may   \n",
            "1  0.769231  married  high.school  unknown      no   no  telephone   may   \n",
            "2  0.384615  married  high.school       no     yes   no  telephone   may   \n",
            "3  0.442308  married     basic.6y       no      no   no  telephone   may   \n",
            "4  0.750000  married  high.school       no      no  yes  telephone   may   \n",
            "\n",
            "  day_of_week  duration  ...  job_entrepreneur  job_housemaid  job_management  \\\n",
            "0         mon       261  ...             False           True           False   \n",
            "1         mon       149  ...             False          False           False   \n",
            "2         mon       226  ...             False          False           False   \n",
            "3         mon       151  ...             False          False           False   \n",
            "4         mon       307  ...             False          False           False   \n",
            "\n",
            "  job_retired  job_self-employed  job_services  job_student  job_technician  \\\n",
            "0       False              False         False        False           False   \n",
            "1       False              False          True        False           False   \n",
            "2       False              False          True        False           False   \n",
            "3       False              False         False        False           False   \n",
            "4       False              False          True        False           False   \n",
            "\n",
            "   job_unemployed job_unknown  \n",
            "0           False       False  \n",
            "1           False       False  \n",
            "2           False       False  \n",
            "3           False       False  \n",
            "4           False       False  \n",
            "\n",
            "[5 rows x 32 columns]\n"
          ]
        }
      ]
    },
    {
      "cell_type": "markdown",
      "source": [
        "## **marital**"
      ],
      "metadata": {
        "id": "B9xIWeqdtM3T"
      },
      "id": "B9xIWeqdtM3T"
    },
    {
      "cell_type": "code",
      "source": [
        "data[\"marital\"].value_counts()"
      ],
      "metadata": {
        "colab": {
          "base_uri": "https://localhost:8080/",
          "height": 0
        },
        "id": "058STPsgQq2F",
        "outputId": "893bd7f4-5b21-4af7-d41a-2be85e4c924c"
      },
      "id": "058STPsgQq2F",
      "execution_count": 22,
      "outputs": [
        {
          "output_type": "execute_result",
          "data": {
            "text/plain": [
              "marital\n",
              "married     24610\n",
              "single      11553\n",
              "divorced     4476\n",
              "unknown        80\n",
              "Name: count, dtype: int64"
            ],
            "text/html": [
              "<div>\n",
              "<style scoped>\n",
              "    .dataframe tbody tr th:only-of-type {\n",
              "        vertical-align: middle;\n",
              "    }\n",
              "\n",
              "    .dataframe tbody tr th {\n",
              "        vertical-align: top;\n",
              "    }\n",
              "\n",
              "    .dataframe thead th {\n",
              "        text-align: right;\n",
              "    }\n",
              "</style>\n",
              "<table border=\"1\" class=\"dataframe\">\n",
              "  <thead>\n",
              "    <tr style=\"text-align: right;\">\n",
              "      <th></th>\n",
              "      <th>count</th>\n",
              "    </tr>\n",
              "    <tr>\n",
              "      <th>marital</th>\n",
              "      <th></th>\n",
              "    </tr>\n",
              "  </thead>\n",
              "  <tbody>\n",
              "    <tr>\n",
              "      <th>married</th>\n",
              "      <td>24610</td>\n",
              "    </tr>\n",
              "    <tr>\n",
              "      <th>single</th>\n",
              "      <td>11553</td>\n",
              "    </tr>\n",
              "    <tr>\n",
              "      <th>divorced</th>\n",
              "      <td>4476</td>\n",
              "    </tr>\n",
              "    <tr>\n",
              "      <th>unknown</th>\n",
              "      <td>80</td>\n",
              "    </tr>\n",
              "  </tbody>\n",
              "</table>\n",
              "</div><br><label><b>dtype:</b> int64</label>"
            ]
          },
          "metadata": {},
          "execution_count": 22
        }
      ]
    },
    {
      "cell_type": "code",
      "source": [
        "# Replace unknown with the most frequent category\n",
        "most_frequent_marital = data['marital'].mode()[0]\n",
        "data['marital'].replace('unknown', most_frequent_marital, inplace=True)\n"
      ],
      "metadata": {
        "colab": {
          "base_uri": "https://localhost:8080/"
        },
        "id": "OiecgPuIZ1uJ",
        "outputId": "c89bc335-933d-4652-a81a-ca4fdff55c43"
      },
      "id": "OiecgPuIZ1uJ",
      "execution_count": 23,
      "outputs": [
        {
          "output_type": "stream",
          "name": "stderr",
          "text": [
            "<ipython-input-23-e089c0016540>:3: FutureWarning: A value is trying to be set on a copy of a DataFrame or Series through chained assignment using an inplace method.\n",
            "The behavior will change in pandas 3.0. This inplace method will never work because the intermediate object on which we are setting values always behaves as a copy.\n",
            "\n",
            "For example, when doing 'df[col].method(value, inplace=True)', try using 'df.method({col: value}, inplace=True)' or df[col] = df[col].method(value) instead, to perform the operation inplace on the original object.\n",
            "\n",
            "\n",
            "  data['marital'].replace('unknown', most_frequent_marital, inplace=True)\n"
          ]
        }
      ]
    },
    {
      "cell_type": "code",
      "source": [
        "data[\"marital\"].value_counts()"
      ],
      "metadata": {
        "colab": {
          "base_uri": "https://localhost:8080/",
          "height": 0
        },
        "id": "7kfsZMoYaqx9",
        "outputId": "6d7b11ab-91b4-4936-8c49-83bba47a0fc5"
      },
      "id": "7kfsZMoYaqx9",
      "execution_count": 24,
      "outputs": [
        {
          "output_type": "execute_result",
          "data": {
            "text/plain": [
              "marital\n",
              "married     24690\n",
              "single      11553\n",
              "divorced     4476\n",
              "Name: count, dtype: int64"
            ],
            "text/html": [
              "<div>\n",
              "<style scoped>\n",
              "    .dataframe tbody tr th:only-of-type {\n",
              "        vertical-align: middle;\n",
              "    }\n",
              "\n",
              "    .dataframe tbody tr th {\n",
              "        vertical-align: top;\n",
              "    }\n",
              "\n",
              "    .dataframe thead th {\n",
              "        text-align: right;\n",
              "    }\n",
              "</style>\n",
              "<table border=\"1\" class=\"dataframe\">\n",
              "  <thead>\n",
              "    <tr style=\"text-align: right;\">\n",
              "      <th></th>\n",
              "      <th>count</th>\n",
              "    </tr>\n",
              "    <tr>\n",
              "      <th>marital</th>\n",
              "      <th></th>\n",
              "    </tr>\n",
              "  </thead>\n",
              "  <tbody>\n",
              "    <tr>\n",
              "      <th>married</th>\n",
              "      <td>24690</td>\n",
              "    </tr>\n",
              "    <tr>\n",
              "      <th>single</th>\n",
              "      <td>11553</td>\n",
              "    </tr>\n",
              "    <tr>\n",
              "      <th>divorced</th>\n",
              "      <td>4476</td>\n",
              "    </tr>\n",
              "  </tbody>\n",
              "</table>\n",
              "</div><br><label><b>dtype:</b> int64</label>"
            ]
          },
          "metadata": {},
          "execution_count": 24
        }
      ]
    },
    {
      "cell_type": "code",
      "source": [
        "# One-hot encode the 'marital' column\n",
        "data = pd.get_dummies(data, columns=['marital'], drop_first=False)\n",
        "\n",
        "# Check the result\n",
        "print(data.head())\n"
      ],
      "metadata": {
        "colab": {
          "base_uri": "https://localhost:8080/"
        },
        "id": "c6RCK1ZYa9t2",
        "outputId": "25a12a6c-8bec-4a84-e496-c350856fe418"
      },
      "id": "c6RCK1ZYa9t2",
      "execution_count": 25,
      "outputs": [
        {
          "output_type": "stream",
          "name": "stdout",
          "text": [
            "        age    education  default housing loan    contact month day_of_week  \\\n",
            "0  0.750000     basic.4y       no      no   no  telephone   may         mon   \n",
            "1  0.769231  high.school  unknown      no   no  telephone   may         mon   \n",
            "2  0.384615  high.school       no     yes   no  telephone   may         mon   \n",
            "3  0.442308     basic.6y       no      no   no  telephone   may         mon   \n",
            "4  0.750000  high.school       no      no  yes  telephone   may         mon   \n",
            "\n",
            "   duration  campaign  ...  job_retired  job_self-employed job_services  \\\n",
            "0       261         1  ...        False              False        False   \n",
            "1       149         1  ...        False              False         True   \n",
            "2       226         1  ...        False              False         True   \n",
            "3       151         1  ...        False              False        False   \n",
            "4       307         1  ...        False              False         True   \n",
            "\n",
            "   job_student  job_technician  job_unemployed  job_unknown  marital_divorced  \\\n",
            "0        False           False           False        False             False   \n",
            "1        False           False           False        False             False   \n",
            "2        False           False           False        False             False   \n",
            "3        False           False           False        False             False   \n",
            "4        False           False           False        False             False   \n",
            "\n",
            "  marital_married  marital_single  \n",
            "0            True           False  \n",
            "1            True           False  \n",
            "2            True           False  \n",
            "3            True           False  \n",
            "4            True           False  \n",
            "\n",
            "[5 rows x 34 columns]\n"
          ]
        }
      ]
    },
    {
      "cell_type": "markdown",
      "source": [
        "## **education**"
      ],
      "metadata": {
        "id": "oeqGS5RetNGK"
      },
      "id": "oeqGS5RetNGK"
    },
    {
      "cell_type": "code",
      "source": [
        "\n",
        "data[\"education\"].value_counts()"
      ],
      "metadata": {
        "colab": {
          "base_uri": "https://localhost:8080/",
          "height": 0
        },
        "id": "5fYGrRZuQsC7",
        "outputId": "974f5c60-a3d0-4437-f649-c38d3ac7c075"
      },
      "id": "5fYGrRZuQsC7",
      "execution_count": 26,
      "outputs": [
        {
          "output_type": "execute_result",
          "data": {
            "text/plain": [
              "education\n",
              "university.degree      12105\n",
              "high.school             9481\n",
              "basic.9y                6018\n",
              "professional.course     5201\n",
              "basic.4y                3935\n",
              "basic.6y                2279\n",
              "unknown                 1683\n",
              "illiterate                17\n",
              "Name: count, dtype: int64"
            ],
            "text/html": [
              "<div>\n",
              "<style scoped>\n",
              "    .dataframe tbody tr th:only-of-type {\n",
              "        vertical-align: middle;\n",
              "    }\n",
              "\n",
              "    .dataframe tbody tr th {\n",
              "        vertical-align: top;\n",
              "    }\n",
              "\n",
              "    .dataframe thead th {\n",
              "        text-align: right;\n",
              "    }\n",
              "</style>\n",
              "<table border=\"1\" class=\"dataframe\">\n",
              "  <thead>\n",
              "    <tr style=\"text-align: right;\">\n",
              "      <th></th>\n",
              "      <th>count</th>\n",
              "    </tr>\n",
              "    <tr>\n",
              "      <th>education</th>\n",
              "      <th></th>\n",
              "    </tr>\n",
              "  </thead>\n",
              "  <tbody>\n",
              "    <tr>\n",
              "      <th>university.degree</th>\n",
              "      <td>12105</td>\n",
              "    </tr>\n",
              "    <tr>\n",
              "      <th>high.school</th>\n",
              "      <td>9481</td>\n",
              "    </tr>\n",
              "    <tr>\n",
              "      <th>basic.9y</th>\n",
              "      <td>6018</td>\n",
              "    </tr>\n",
              "    <tr>\n",
              "      <th>professional.course</th>\n",
              "      <td>5201</td>\n",
              "    </tr>\n",
              "    <tr>\n",
              "      <th>basic.4y</th>\n",
              "      <td>3935</td>\n",
              "    </tr>\n",
              "    <tr>\n",
              "      <th>basic.6y</th>\n",
              "      <td>2279</td>\n",
              "    </tr>\n",
              "    <tr>\n",
              "      <th>unknown</th>\n",
              "      <td>1683</td>\n",
              "    </tr>\n",
              "    <tr>\n",
              "      <th>illiterate</th>\n",
              "      <td>17</td>\n",
              "    </tr>\n",
              "  </tbody>\n",
              "</table>\n",
              "</div><br><label><b>dtype:</b> int64</label>"
            ]
          },
          "metadata": {},
          "execution_count": 26
        }
      ]
    },
    {
      "cell_type": "code",
      "source": [
        "# Find the most frequent category in the 'education' column\n",
        "most_frequent_education = data['education'].mode()[0]\n",
        "\n",
        "# Replace 'illiterate' with the most frequent category\n",
        "data['education'] = data['education'].replace('illiterate', most_frequent_education)\n",
        "\n",
        "\n"
      ],
      "metadata": {
        "id": "k4_ZoudhZpl0"
      },
      "id": "k4_ZoudhZpl0",
      "execution_count": 27,
      "outputs": []
    },
    {
      "cell_type": "code",
      "source": [
        "# Check the value counts after replacement\n",
        "print(data['education'].value_counts())"
      ],
      "metadata": {
        "colab": {
          "base_uri": "https://localhost:8080/"
        },
        "id": "yQL50iQKb10_",
        "outputId": "e2b48faf-2197-43dc-b07b-0b48dee52c06"
      },
      "id": "yQL50iQKb10_",
      "execution_count": 28,
      "outputs": [
        {
          "output_type": "stream",
          "name": "stdout",
          "text": [
            "education\n",
            "university.degree      12122\n",
            "high.school             9481\n",
            "basic.9y                6018\n",
            "professional.course     5201\n",
            "basic.4y                3935\n",
            "basic.6y                2279\n",
            "unknown                 1683\n",
            "Name: count, dtype: int64\n"
          ]
        }
      ]
    },
    {
      "cell_type": "code",
      "source": [
        "# One-hot encode the 'education' column\n",
        "education_encoded = pd.get_dummies(data['education'], prefix='education')\n",
        "\n",
        "# Join the one-hot encoded columns back to the original DataFrame\n",
        "data = pd.concat([data, education_encoded], axis=1)\n",
        "\n",
        "# Drop the original 'education' column\n",
        "data.drop('education', axis=1, inplace=True)\n",
        "\n",
        "# Print the updated DataFrame\n",
        "print(data.head())\n"
      ],
      "metadata": {
        "colab": {
          "base_uri": "https://localhost:8080/"
        },
        "id": "N5gjHOxuvSYF",
        "outputId": "7ff33564-fd9d-486a-ae90-09812d15dc37"
      },
      "id": "N5gjHOxuvSYF",
      "execution_count": 29,
      "outputs": [
        {
          "output_type": "stream",
          "name": "stdout",
          "text": [
            "        age  default housing loan    contact month day_of_week  duration  \\\n",
            "0  0.750000       no      no   no  telephone   may         mon       261   \n",
            "1  0.769231  unknown      no   no  telephone   may         mon       149   \n",
            "2  0.384615       no     yes   no  telephone   may         mon       226   \n",
            "3  0.442308       no      no   no  telephone   may         mon       151   \n",
            "4  0.750000       no      no  yes  telephone   may         mon       307   \n",
            "\n",
            "   campaign  pdays  ...  marital_divorced marital_married  marital_single  \\\n",
            "0         1    999  ...             False            True           False   \n",
            "1         1    999  ...             False            True           False   \n",
            "2         1    999  ...             False            True           False   \n",
            "3         1    999  ...             False            True           False   \n",
            "4         1    999  ...             False            True           False   \n",
            "\n",
            "   education_basic.4y  education_basic.6y  education_basic.9y  \\\n",
            "0                True               False               False   \n",
            "1               False               False               False   \n",
            "2               False               False               False   \n",
            "3               False                True               False   \n",
            "4               False               False               False   \n",
            "\n",
            "   education_high.school education_professional.course  \\\n",
            "0                  False                         False   \n",
            "1                   True                         False   \n",
            "2                   True                         False   \n",
            "3                  False                         False   \n",
            "4                   True                         False   \n",
            "\n",
            "   education_university.degree  education_unknown  \n",
            "0                        False              False  \n",
            "1                        False              False  \n",
            "2                        False              False  \n",
            "3                        False              False  \n",
            "4                        False              False  \n",
            "\n",
            "[5 rows x 40 columns]\n"
          ]
        }
      ]
    },
    {
      "cell_type": "markdown",
      "source": [
        "## **default**"
      ],
      "metadata": {
        "id": "6jhCoi0EtNVh"
      },
      "id": "6jhCoi0EtNVh"
    },
    {
      "cell_type": "code",
      "source": [
        "\n",
        "data[\"default\"].value_counts()"
      ],
      "metadata": {
        "colab": {
          "base_uri": "https://localhost:8080/",
          "height": 0
        },
        "id": "i0TGikmZQtM2",
        "outputId": "c5ea77ff-d755-4cb0-ab95-5b73989d203b"
      },
      "id": "i0TGikmZQtM2",
      "execution_count": 30,
      "outputs": [
        {
          "output_type": "execute_result",
          "data": {
            "text/plain": [
              "default\n",
              "no         32162\n",
              "unknown     8554\n",
              "yes            3\n",
              "Name: count, dtype: int64"
            ],
            "text/html": [
              "<div>\n",
              "<style scoped>\n",
              "    .dataframe tbody tr th:only-of-type {\n",
              "        vertical-align: middle;\n",
              "    }\n",
              "\n",
              "    .dataframe tbody tr th {\n",
              "        vertical-align: top;\n",
              "    }\n",
              "\n",
              "    .dataframe thead th {\n",
              "        text-align: right;\n",
              "    }\n",
              "</style>\n",
              "<table border=\"1\" class=\"dataframe\">\n",
              "  <thead>\n",
              "    <tr style=\"text-align: right;\">\n",
              "      <th></th>\n",
              "      <th>count</th>\n",
              "    </tr>\n",
              "    <tr>\n",
              "      <th>default</th>\n",
              "      <th></th>\n",
              "    </tr>\n",
              "  </thead>\n",
              "  <tbody>\n",
              "    <tr>\n",
              "      <th>no</th>\n",
              "      <td>32162</td>\n",
              "    </tr>\n",
              "    <tr>\n",
              "      <th>unknown</th>\n",
              "      <td>8554</td>\n",
              "    </tr>\n",
              "    <tr>\n",
              "      <th>yes</th>\n",
              "      <td>3</td>\n",
              "    </tr>\n",
              "  </tbody>\n",
              "</table>\n",
              "</div><br><label><b>dtype:</b> int64</label>"
            ]
          },
          "metadata": {},
          "execution_count": 30
        }
      ]
    },
    {
      "cell_type": "code",
      "source": [
        "# Drop the 'default' column if it doesn't provide useful information\n",
        "data = data.drop('default', axis=1)\n",
        "\n",
        "# Check the remaining columns\n",
        "print(data.columns)\n"
      ],
      "metadata": {
        "colab": {
          "base_uri": "https://localhost:8080/"
        },
        "id": "ngCSOClycpE9",
        "outputId": "1b0a25fd-6502-46e9-dd3e-12e36af7ac99"
      },
      "id": "ngCSOClycpE9",
      "execution_count": 31,
      "outputs": [
        {
          "output_type": "stream",
          "name": "stdout",
          "text": [
            "Index(['age', 'housing', 'loan', 'contact', 'month', 'day_of_week', 'duration',\n",
            "       'campaign', 'pdays', 'previous', 'poutcome', 'emp.var.rate',\n",
            "       'cons.price.idx', 'cons.conf.idx', 'euribor3m', 'nr.employed', 'y',\n",
            "       'job_admin.', 'job_blue-collar', 'job_entrepreneur', 'job_housemaid',\n",
            "       'job_management', 'job_retired', 'job_self-employed', 'job_services',\n",
            "       'job_student', 'job_technician', 'job_unemployed', 'job_unknown',\n",
            "       'marital_divorced', 'marital_married', 'marital_single',\n",
            "       'education_basic.4y', 'education_basic.6y', 'education_basic.9y',\n",
            "       'education_high.school', 'education_professional.course',\n",
            "       'education_university.degree', 'education_unknown'],\n",
            "      dtype='object')\n"
          ]
        }
      ]
    },
    {
      "cell_type": "markdown",
      "source": [
        "## **housing**"
      ],
      "metadata": {
        "id": "ndAcQb_EtNjp"
      },
      "id": "ndAcQb_EtNjp"
    },
    {
      "cell_type": "code",
      "source": [
        "\n",
        "data[\"housing\"].value_counts()"
      ],
      "metadata": {
        "colab": {
          "base_uri": "https://localhost:8080/",
          "height": 0
        },
        "id": "CHqchYbvQt_I",
        "outputId": "3b47a41b-00e1-4afa-c527-db71d376e841"
      },
      "id": "CHqchYbvQt_I",
      "execution_count": 32,
      "outputs": [
        {
          "output_type": "execute_result",
          "data": {
            "text/plain": [
              "housing\n",
              "yes        21319\n",
              "no         18419\n",
              "unknown      981\n",
              "Name: count, dtype: int64"
            ],
            "text/html": [
              "<div>\n",
              "<style scoped>\n",
              "    .dataframe tbody tr th:only-of-type {\n",
              "        vertical-align: middle;\n",
              "    }\n",
              "\n",
              "    .dataframe tbody tr th {\n",
              "        vertical-align: top;\n",
              "    }\n",
              "\n",
              "    .dataframe thead th {\n",
              "        text-align: right;\n",
              "    }\n",
              "</style>\n",
              "<table border=\"1\" class=\"dataframe\">\n",
              "  <thead>\n",
              "    <tr style=\"text-align: right;\">\n",
              "      <th></th>\n",
              "      <th>count</th>\n",
              "    </tr>\n",
              "    <tr>\n",
              "      <th>housing</th>\n",
              "      <th></th>\n",
              "    </tr>\n",
              "  </thead>\n",
              "  <tbody>\n",
              "    <tr>\n",
              "      <th>yes</th>\n",
              "      <td>21319</td>\n",
              "    </tr>\n",
              "    <tr>\n",
              "      <th>no</th>\n",
              "      <td>18419</td>\n",
              "    </tr>\n",
              "    <tr>\n",
              "      <th>unknown</th>\n",
              "      <td>981</td>\n",
              "    </tr>\n",
              "  </tbody>\n",
              "</table>\n",
              "</div><br><label><b>dtype:</b> int64</label>"
            ]
          },
          "metadata": {},
          "execution_count": 32
        }
      ]
    },
    {
      "cell_type": "code",
      "source": [
        "# Replace 'unknown' with the most frequent value ('yes')\n",
        "data['housing'] = data['housing'].replace('unknown', 'yes')\n",
        "\n",
        "# Check the updated value counts\n",
        "print(data['housing'].value_counts())\n"
      ],
      "metadata": {
        "colab": {
          "base_uri": "https://localhost:8080/"
        },
        "id": "tNuf-HlCdV3r",
        "outputId": "2e474bb0-a657-472e-e17f-34d1b0aefe9e"
      },
      "id": "tNuf-HlCdV3r",
      "execution_count": 33,
      "outputs": [
        {
          "output_type": "stream",
          "name": "stdout",
          "text": [
            "housing\n",
            "yes    22300\n",
            "no     18419\n",
            "Name: count, dtype: int64\n"
          ]
        }
      ]
    },
    {
      "cell_type": "code",
      "source": [
        "# One-hot encode the 'housing' column\n",
        "housing_encoded = pd.get_dummies(data['housing'], prefix='housing')\n",
        "\n",
        "# Join the encoded columns back to the original dataframe\n",
        "data = pd.concat([data, housing_encoded], axis=1)\n",
        "\n",
        "# Drop the original 'housing' column if it's no longer needed\n",
        "data = data.drop(columns=['housing'])\n",
        "\n",
        "# Check the updated dataframe\n",
        "print(data.head())\n"
      ],
      "metadata": {
        "colab": {
          "base_uri": "https://localhost:8080/"
        },
        "id": "1sm0sSNjdZmk",
        "outputId": "6904baf5-5635-4041-923e-fd4f9779d94d"
      },
      "id": "1sm0sSNjdZmk",
      "execution_count": 34,
      "outputs": [
        {
          "output_type": "stream",
          "name": "stdout",
          "text": [
            "        age loan    contact month day_of_week  duration  campaign  pdays  \\\n",
            "0  0.750000   no  telephone   may         mon       261         1    999   \n",
            "1  0.769231   no  telephone   may         mon       149         1    999   \n",
            "2  0.384615   no  telephone   may         mon       226         1    999   \n",
            "3  0.442308   no  telephone   may         mon       151         1    999   \n",
            "4  0.750000  yes  telephone   may         mon       307         1    999   \n",
            "\n",
            "   previous     poutcome  ...  marital_single  education_basic.4y  \\\n",
            "0         0  nonexistent  ...           False                True   \n",
            "1         0  nonexistent  ...           False               False   \n",
            "2         0  nonexistent  ...           False               False   \n",
            "3         0  nonexistent  ...           False               False   \n",
            "4         0  nonexistent  ...           False               False   \n",
            "\n",
            "   education_basic.6y  education_basic.9y  education_high.school  \\\n",
            "0               False               False                  False   \n",
            "1               False               False                   True   \n",
            "2               False               False                   True   \n",
            "3                True               False                  False   \n",
            "4               False               False                   True   \n",
            "\n",
            "  education_professional.course  education_university.degree  \\\n",
            "0                         False                        False   \n",
            "1                         False                        False   \n",
            "2                         False                        False   \n",
            "3                         False                        False   \n",
            "4                         False                        False   \n",
            "\n",
            "   education_unknown  housing_no  housing_yes  \n",
            "0              False        True        False  \n",
            "1              False        True        False  \n",
            "2              False       False         True  \n",
            "3              False        True        False  \n",
            "4              False        True        False  \n",
            "\n",
            "[5 rows x 40 columns]\n"
          ]
        }
      ]
    },
    {
      "cell_type": "markdown",
      "source": [
        "## **loan**"
      ],
      "metadata": {
        "id": "bZNoOjEhtNyK"
      },
      "id": "bZNoOjEhtNyK"
    },
    {
      "cell_type": "code",
      "source": [
        "\n",
        "data[\"loan\"].value_counts()"
      ],
      "metadata": {
        "colab": {
          "base_uri": "https://localhost:8080/",
          "height": 0
        },
        "id": "zP8fSOZcQvCK",
        "outputId": "7661e949-cf22-4b32-d36a-e42b20f277b5"
      },
      "id": "zP8fSOZcQvCK",
      "execution_count": 35,
      "outputs": [
        {
          "output_type": "execute_result",
          "data": {
            "text/plain": [
              "loan\n",
              "no         33560\n",
              "yes         6178\n",
              "unknown      981\n",
              "Name: count, dtype: int64"
            ],
            "text/html": [
              "<div>\n",
              "<style scoped>\n",
              "    .dataframe tbody tr th:only-of-type {\n",
              "        vertical-align: middle;\n",
              "    }\n",
              "\n",
              "    .dataframe tbody tr th {\n",
              "        vertical-align: top;\n",
              "    }\n",
              "\n",
              "    .dataframe thead th {\n",
              "        text-align: right;\n",
              "    }\n",
              "</style>\n",
              "<table border=\"1\" class=\"dataframe\">\n",
              "  <thead>\n",
              "    <tr style=\"text-align: right;\">\n",
              "      <th></th>\n",
              "      <th>count</th>\n",
              "    </tr>\n",
              "    <tr>\n",
              "      <th>loan</th>\n",
              "      <th></th>\n",
              "    </tr>\n",
              "  </thead>\n",
              "  <tbody>\n",
              "    <tr>\n",
              "      <th>no</th>\n",
              "      <td>33560</td>\n",
              "    </tr>\n",
              "    <tr>\n",
              "      <th>yes</th>\n",
              "      <td>6178</td>\n",
              "    </tr>\n",
              "    <tr>\n",
              "      <th>unknown</th>\n",
              "      <td>981</td>\n",
              "    </tr>\n",
              "  </tbody>\n",
              "</table>\n",
              "</div><br><label><b>dtype:</b> int64</label>"
            ]
          },
          "metadata": {},
          "execution_count": 35
        }
      ]
    },
    {
      "cell_type": "code",
      "source": [
        "# Replace 'unknown' with the most frequent value ('yes')\n",
        "data['loan'] = data['loan'].replace('unknown', 'yes')\n",
        "\n",
        "# Check the updated value counts\n",
        "print(data['loan'].value_counts())\n"
      ],
      "metadata": {
        "colab": {
          "base_uri": "https://localhost:8080/"
        },
        "id": "zj7FvrVqdvMf",
        "outputId": "ef77afe2-6226-4ee3-fc25-45cb5eb11720"
      },
      "id": "zj7FvrVqdvMf",
      "execution_count": 36,
      "outputs": [
        {
          "output_type": "stream",
          "name": "stdout",
          "text": [
            "loan\n",
            "no     33560\n",
            "yes     7159\n",
            "Name: count, dtype: int64\n"
          ]
        }
      ]
    },
    {
      "cell_type": "code",
      "source": [
        "# One-hot encode the 'loan' column\n",
        "loan_encoded = pd.get_dummies(data['loan'], prefix='loan')\n",
        "\n",
        "# Join the encoded columns back to the original dataframe\n",
        "data = pd.concat([data, loan_encoded], axis=1)\n",
        "\n",
        "# Drop the original 'loan' column if it's no longer needed\n",
        "data = data.drop(columns=['loan'])\n",
        "\n",
        "# Check the updated dataframe\n",
        "print(data.head())\n"
      ],
      "metadata": {
        "colab": {
          "base_uri": "https://localhost:8080/"
        },
        "id": "jKnommj4eCto",
        "outputId": "3e41a014-f753-498c-a0ff-d0937fbf1d34"
      },
      "id": "jKnommj4eCto",
      "execution_count": 37,
      "outputs": [
        {
          "output_type": "stream",
          "name": "stdout",
          "text": [
            "        age    contact month day_of_week  duration  campaign  pdays  previous  \\\n",
            "0  0.750000  telephone   may         mon       261         1    999         0   \n",
            "1  0.769231  telephone   may         mon       149         1    999         0   \n",
            "2  0.384615  telephone   may         mon       226         1    999         0   \n",
            "3  0.442308  telephone   may         mon       151         1    999         0   \n",
            "4  0.750000  telephone   may         mon       307         1    999         0   \n",
            "\n",
            "      poutcome  emp.var.rate  ...  education_basic.6y  education_basic.9y  \\\n",
            "0  nonexistent           1.1  ...               False               False   \n",
            "1  nonexistent           1.1  ...               False               False   \n",
            "2  nonexistent           1.1  ...               False               False   \n",
            "3  nonexistent           1.1  ...                True               False   \n",
            "4  nonexistent           1.1  ...               False               False   \n",
            "\n",
            "   education_high.school  education_professional.course  \\\n",
            "0                  False                          False   \n",
            "1                   True                          False   \n",
            "2                   True                          False   \n",
            "3                  False                          False   \n",
            "4                   True                          False   \n",
            "\n",
            "  education_university.degree  education_unknown  housing_no  housing_yes  \\\n",
            "0                       False              False        True        False   \n",
            "1                       False              False        True        False   \n",
            "2                       False              False       False         True   \n",
            "3                       False              False        True        False   \n",
            "4                       False              False        True        False   \n",
            "\n",
            "   loan_no  loan_yes  \n",
            "0     True     False  \n",
            "1     True     False  \n",
            "2     True     False  \n",
            "3     True     False  \n",
            "4    False      True  \n",
            "\n",
            "[5 rows x 41 columns]\n"
          ]
        }
      ]
    },
    {
      "cell_type": "markdown",
      "source": [
        "## **contact**"
      ],
      "metadata": {
        "id": "GhEGYwg2tN_0"
      },
      "id": "GhEGYwg2tN_0"
    },
    {
      "cell_type": "code",
      "source": [
        "\n",
        "data[\"contact\"].value_counts()"
      ],
      "metadata": {
        "colab": {
          "base_uri": "https://localhost:8080/",
          "height": 0
        },
        "id": "d2q-NZoWQv_a",
        "outputId": "5915d0da-aed6-4a2a-d4d6-0a76266b53be"
      },
      "id": "d2q-NZoWQv_a",
      "execution_count": 38,
      "outputs": [
        {
          "output_type": "execute_result",
          "data": {
            "text/plain": [
              "contact\n",
              "cellular     25724\n",
              "telephone    14995\n",
              "Name: count, dtype: int64"
            ],
            "text/html": [
              "<div>\n",
              "<style scoped>\n",
              "    .dataframe tbody tr th:only-of-type {\n",
              "        vertical-align: middle;\n",
              "    }\n",
              "\n",
              "    .dataframe tbody tr th {\n",
              "        vertical-align: top;\n",
              "    }\n",
              "\n",
              "    .dataframe thead th {\n",
              "        text-align: right;\n",
              "    }\n",
              "</style>\n",
              "<table border=\"1\" class=\"dataframe\">\n",
              "  <thead>\n",
              "    <tr style=\"text-align: right;\">\n",
              "      <th></th>\n",
              "      <th>count</th>\n",
              "    </tr>\n",
              "    <tr>\n",
              "      <th>contact</th>\n",
              "      <th></th>\n",
              "    </tr>\n",
              "  </thead>\n",
              "  <tbody>\n",
              "    <tr>\n",
              "      <th>cellular</th>\n",
              "      <td>25724</td>\n",
              "    </tr>\n",
              "    <tr>\n",
              "      <th>telephone</th>\n",
              "      <td>14995</td>\n",
              "    </tr>\n",
              "  </tbody>\n",
              "</table>\n",
              "</div><br><label><b>dtype:</b> int64</label>"
            ]
          },
          "metadata": {},
          "execution_count": 38
        }
      ]
    },
    {
      "cell_type": "code",
      "source": [
        "# Drop the 'contact' column\n",
        "data = data.drop(columns=['contact'])\n",
        "\n",
        "# Check the updated dataframe\n",
        "print(data.head())\n"
      ],
      "metadata": {
        "colab": {
          "base_uri": "https://localhost:8080/"
        },
        "id": "H1LMJzKreWti",
        "outputId": "be5ebf34-4c4a-43ea-ea93-f0462fe54fa1"
      },
      "id": "H1LMJzKreWti",
      "execution_count": 39,
      "outputs": [
        {
          "output_type": "stream",
          "name": "stdout",
          "text": [
            "        age month day_of_week  duration  campaign  pdays  previous  \\\n",
            "0  0.750000   may         mon       261         1    999         0   \n",
            "1  0.769231   may         mon       149         1    999         0   \n",
            "2  0.384615   may         mon       226         1    999         0   \n",
            "3  0.442308   may         mon       151         1    999         0   \n",
            "4  0.750000   may         mon       307         1    999         0   \n",
            "\n",
            "      poutcome  emp.var.rate  cons.price.idx  ...  education_basic.6y  \\\n",
            "0  nonexistent           1.1          93.994  ...               False   \n",
            "1  nonexistent           1.1          93.994  ...               False   \n",
            "2  nonexistent           1.1          93.994  ...               False   \n",
            "3  nonexistent           1.1          93.994  ...                True   \n",
            "4  nonexistent           1.1          93.994  ...               False   \n",
            "\n",
            "   education_basic.9y  education_high.school education_professional.course  \\\n",
            "0               False                  False                         False   \n",
            "1               False                   True                         False   \n",
            "2               False                   True                         False   \n",
            "3               False                  False                         False   \n",
            "4               False                   True                         False   \n",
            "\n",
            "   education_university.degree  education_unknown  housing_no  housing_yes  \\\n",
            "0                        False              False        True        False   \n",
            "1                        False              False        True        False   \n",
            "2                        False              False       False         True   \n",
            "3                        False              False        True        False   \n",
            "4                        False              False        True        False   \n",
            "\n",
            "   loan_no  loan_yes  \n",
            "0     True     False  \n",
            "1     True     False  \n",
            "2     True     False  \n",
            "3     True     False  \n",
            "4    False      True  \n",
            "\n",
            "[5 rows x 40 columns]\n"
          ]
        }
      ]
    },
    {
      "cell_type": "markdown",
      "source": [
        "## **month**"
      ],
      "metadata": {
        "id": "2SEbsCAFtONy"
      },
      "id": "2SEbsCAFtONy"
    },
    {
      "cell_type": "code",
      "source": [
        "\n",
        "data[\"month\"].value_counts()"
      ],
      "metadata": {
        "colab": {
          "base_uri": "https://localhost:8080/",
          "height": 0
        },
        "id": "NxYQbubPQ6BO",
        "outputId": "b0f01578-f376-42e4-bbbd-4255a122a362"
      },
      "id": "NxYQbubPQ6BO",
      "execution_count": 40,
      "outputs": [
        {
          "output_type": "execute_result",
          "data": {
            "text/plain": [
              "month\n",
              "may    13736\n",
              "jul     7141\n",
              "aug     6091\n",
              "jun     5301\n",
              "nov     4064\n",
              "apr     2562\n",
              "oct      648\n",
              "sep      513\n",
              "mar      503\n",
              "dec      160\n",
              "Name: count, dtype: int64"
            ],
            "text/html": [
              "<div>\n",
              "<style scoped>\n",
              "    .dataframe tbody tr th:only-of-type {\n",
              "        vertical-align: middle;\n",
              "    }\n",
              "\n",
              "    .dataframe tbody tr th {\n",
              "        vertical-align: top;\n",
              "    }\n",
              "\n",
              "    .dataframe thead th {\n",
              "        text-align: right;\n",
              "    }\n",
              "</style>\n",
              "<table border=\"1\" class=\"dataframe\">\n",
              "  <thead>\n",
              "    <tr style=\"text-align: right;\">\n",
              "      <th></th>\n",
              "      <th>count</th>\n",
              "    </tr>\n",
              "    <tr>\n",
              "      <th>month</th>\n",
              "      <th></th>\n",
              "    </tr>\n",
              "  </thead>\n",
              "  <tbody>\n",
              "    <tr>\n",
              "      <th>may</th>\n",
              "      <td>13736</td>\n",
              "    </tr>\n",
              "    <tr>\n",
              "      <th>jul</th>\n",
              "      <td>7141</td>\n",
              "    </tr>\n",
              "    <tr>\n",
              "      <th>aug</th>\n",
              "      <td>6091</td>\n",
              "    </tr>\n",
              "    <tr>\n",
              "      <th>jun</th>\n",
              "      <td>5301</td>\n",
              "    </tr>\n",
              "    <tr>\n",
              "      <th>nov</th>\n",
              "      <td>4064</td>\n",
              "    </tr>\n",
              "    <tr>\n",
              "      <th>apr</th>\n",
              "      <td>2562</td>\n",
              "    </tr>\n",
              "    <tr>\n",
              "      <th>oct</th>\n",
              "      <td>648</td>\n",
              "    </tr>\n",
              "    <tr>\n",
              "      <th>sep</th>\n",
              "      <td>513</td>\n",
              "    </tr>\n",
              "    <tr>\n",
              "      <th>mar</th>\n",
              "      <td>503</td>\n",
              "    </tr>\n",
              "    <tr>\n",
              "      <th>dec</th>\n",
              "      <td>160</td>\n",
              "    </tr>\n",
              "  </tbody>\n",
              "</table>\n",
              "</div><br><label><b>dtype:</b> int64</label>"
            ]
          },
          "metadata": {},
          "execution_count": 40
        }
      ]
    },
    {
      "cell_type": "code",
      "source": [
        "import matplotlib.pyplot as plt\n",
        "\n",
        "# Plot the value counts of the 'month' column\n",
        "data['month'].value_counts().plot(kind='bar', color='skyblue')\n",
        "\n",
        "# Set labels and title\n",
        "plt.title('Distribution of Month Values')\n",
        "plt.xlabel('Month')\n",
        "plt.ylabel('Frequency')\n",
        "\n",
        "# Show the plot\n",
        "plt.xticks(rotation=45)\n",
        "plt.show()\n"
      ],
      "metadata": {
        "colab": {
          "base_uri": "https://localhost:8080/",
          "height": 0
        },
        "id": "vcp80AaRe2ym",
        "outputId": "a70c5f14-0913-457c-85cb-c35211f6b3a6"
      },
      "id": "vcp80AaRe2ym",
      "execution_count": 41,
      "outputs": [
        {
          "output_type": "display_data",
          "data": {
            "text/plain": [
              "<Figure size 640x480 with 1 Axes>"
            ],
            "image/png": "[encoded data removed]"
          },
          "metadata": {}
        }
      ]
    },
    {
      "cell_type": "code",
      "source": [
        "import pandas as pd\n",
        "\n",
        "# Assuming 'data' is your DataFrame\n",
        "data = pd.get_dummies(data, columns=['month'], drop_first=False)\n",
        "\n",
        "# Display the transformed data to check the result\n",
        "print(data.head())\n"
      ],
      "metadata": {
        "colab": {
          "base_uri": "https://localhost:8080/"
        },
        "id": "dnRMoP0Bfgz0",
        "outputId": "063d8edc-abc5-4c33-9739-9e86bbbd762c"
      },
      "id": "dnRMoP0Bfgz0",
      "execution_count": 42,
      "outputs": [
        {
          "output_type": "stream",
          "name": "stdout",
          "text": [
            "        age day_of_week  duration  campaign  pdays  previous     poutcome  \\\n",
            "0  0.750000         mon       261         1    999         0  nonexistent   \n",
            "1  0.769231         mon       149         1    999         0  nonexistent   \n",
            "2  0.384615         mon       226         1    999         0  nonexistent   \n",
            "3  0.442308         mon       151         1    999         0  nonexistent   \n",
            "4  0.750000         mon       307         1    999         0  nonexistent   \n",
            "\n",
            "   emp.var.rate  cons.price.idx  cons.conf.idx  ...  month_apr  month_aug  \\\n",
            "0           1.1          93.994          -36.4  ...      False      False   \n",
            "1           1.1          93.994          -36.4  ...      False      False   \n",
            "2           1.1          93.994          -36.4  ...      False      False   \n",
            "3           1.1          93.994          -36.4  ...      False      False   \n",
            "4           1.1          93.994          -36.4  ...      False      False   \n",
            "\n",
            "  month_dec  month_jul  month_jun  month_mar  month_may  month_nov  month_oct  \\\n",
            "0     False      False      False      False       True      False      False   \n",
            "1     False      False      False      False       True      False      False   \n",
            "2     False      False      False      False       True      False      False   \n",
            "3     False      False      False      False       True      False      False   \n",
            "4     False      False      False      False       True      False      False   \n",
            "\n",
            "   month_sep  \n",
            "0      False  \n",
            "1      False  \n",
            "2      False  \n",
            "3      False  \n",
            "4      False  \n",
            "\n",
            "[5 rows x 49 columns]\n"
          ]
        }
      ]
    },
    {
      "cell_type": "markdown",
      "source": [
        "## **day_of_week**"
      ],
      "metadata": {
        "id": "drybQXXxtOea"
      },
      "id": "drybQXXxtOea"
    },
    {
      "cell_type": "code",
      "source": [
        "\n",
        "data[\"day_of_week\"].value_counts()"
      ],
      "metadata": {
        "colab": {
          "base_uri": "https://localhost:8080/",
          "height": 0
        },
        "id": "JzYN5_fMQ5VR",
        "outputId": "c1e0726a-b2cc-4bc4-a23f-f29863668a10"
      },
      "id": "JzYN5_fMQ5VR",
      "execution_count": 43,
      "outputs": [
        {
          "output_type": "execute_result",
          "data": {
            "text/plain": [
              "day_of_week\n",
              "thu    8522\n",
              "mon    8426\n",
              "wed    8052\n",
              "tue    7980\n",
              "fri    7739\n",
              "Name: count, dtype: int64"
            ],
            "text/html": [
              "<div>\n",
              "<style scoped>\n",
              "    .dataframe tbody tr th:only-of-type {\n",
              "        vertical-align: middle;\n",
              "    }\n",
              "\n",
              "    .dataframe tbody tr th {\n",
              "        vertical-align: top;\n",
              "    }\n",
              "\n",
              "    .dataframe thead th {\n",
              "        text-align: right;\n",
              "    }\n",
              "</style>\n",
              "<table border=\"1\" class=\"dataframe\">\n",
              "  <thead>\n",
              "    <tr style=\"text-align: right;\">\n",
              "      <th></th>\n",
              "      <th>count</th>\n",
              "    </tr>\n",
              "    <tr>\n",
              "      <th>day_of_week</th>\n",
              "      <th></th>\n",
              "    </tr>\n",
              "  </thead>\n",
              "  <tbody>\n",
              "    <tr>\n",
              "      <th>thu</th>\n",
              "      <td>8522</td>\n",
              "    </tr>\n",
              "    <tr>\n",
              "      <th>mon</th>\n",
              "      <td>8426</td>\n",
              "    </tr>\n",
              "    <tr>\n",
              "      <th>wed</th>\n",
              "      <td>8052</td>\n",
              "    </tr>\n",
              "    <tr>\n",
              "      <th>tue</th>\n",
              "      <td>7980</td>\n",
              "    </tr>\n",
              "    <tr>\n",
              "      <th>fri</th>\n",
              "      <td>7739</td>\n",
              "    </tr>\n",
              "  </tbody>\n",
              "</table>\n",
              "</div><br><label><b>dtype:</b> int64</label>"
            ]
          },
          "metadata": {},
          "execution_count": 43
        }
      ]
    },
    {
      "cell_type": "code",
      "source": [
        "import matplotlib.pyplot as plt\n",
        "\n",
        "# Plot the value counts of the 'day_of_week' column\n",
        "data['day_of_week'].value_counts().plot(kind='bar', color='skyblue')\n",
        "\n",
        "# Set labels and title\n",
        "plt.title('Distribution of Days')\n",
        "plt.xlabel('Day')\n",
        "plt.ylabel('Frequency')\n",
        "\n",
        "# Show the plot\n",
        "plt.xticks(rotation=45)\n",
        "plt.show()\n"
      ],
      "metadata": {
        "colab": {
          "base_uri": "https://localhost:8080/",
          "height": 0
        },
        "id": "xo9BgHcBfwsC",
        "outputId": "026bf1b9-8bb6-4bd5-8df1-ff94bae6e327"
      },
      "id": "xo9BgHcBfwsC",
      "execution_count": 44,
      "outputs": [
        {
          "output_type": "display_data",
          "data": {
            "text/plain": [
              "<Figure size 640x480 with 1 Axes>"
            ],
            "image/png": "[encoded data removed]"
          },
          "metadata": {}
        }
      ]
    },
    {
      "cell_type": "code",
      "source": [
        "# Drop the 'day_of_week' column in-place\n",
        "data.drop(columns=['day_of_week'], inplace=True)\n",
        "\n",
        "# Verify if the column is removed\n",
        "print(data.head())\n"
      ],
      "metadata": {
        "colab": {
          "base_uri": "https://localhost:8080/"
        },
        "id": "EDroX9AEgIEL",
        "outputId": "d88ee49f-a14d-4f63-d73b-d31a6de0509d"
      },
      "id": "EDroX9AEgIEL",
      "execution_count": 45,
      "outputs": [
        {
          "output_type": "stream",
          "name": "stdout",
          "text": [
            "        age  duration  campaign  pdays  previous     poutcome  emp.var.rate  \\\n",
            "0  0.750000       261         1    999         0  nonexistent           1.1   \n",
            "1  0.769231       149         1    999         0  nonexistent           1.1   \n",
            "2  0.384615       226         1    999         0  nonexistent           1.1   \n",
            "3  0.442308       151         1    999         0  nonexistent           1.1   \n",
            "4  0.750000       307         1    999         0  nonexistent           1.1   \n",
            "\n",
            "   cons.price.idx  cons.conf.idx  euribor3m  ...  month_apr month_aug  \\\n",
            "0          93.994          -36.4      4.857  ...      False     False   \n",
            "1          93.994          -36.4      4.857  ...      False     False   \n",
            "2          93.994          -36.4      4.857  ...      False     False   \n",
            "3          93.994          -36.4      4.857  ...      False     False   \n",
            "4          93.994          -36.4      4.857  ...      False     False   \n",
            "\n",
            "   month_dec  month_jul  month_jun  month_mar  month_may  month_nov  \\\n",
            "0      False      False      False      False       True      False   \n",
            "1      False      False      False      False       True      False   \n",
            "2      False      False      False      False       True      False   \n",
            "3      False      False      False      False       True      False   \n",
            "4      False      False      False      False       True      False   \n",
            "\n",
            "   month_oct  month_sep  \n",
            "0      False      False  \n",
            "1      False      False  \n",
            "2      False      False  \n",
            "3      False      False  \n",
            "4      False      False  \n",
            "\n",
            "[5 rows x 48 columns]\n"
          ]
        }
      ]
    },
    {
      "cell_type": "markdown",
      "source": [
        "## **duration**"
      ],
      "metadata": {
        "id": "geqiSWLFtOtB"
      },
      "id": "geqiSWLFtOtB"
    },
    {
      "cell_type": "code",
      "source": [
        "\n",
        "data[\"duration\"].value_counts()"
      ],
      "metadata": {
        "colab": {
          "base_uri": "https://localhost:8080/",
          "height": 0
        },
        "id": "O7OkIReJQ4qy",
        "outputId": "afd42730-be63-41f2-ff32-ef9eaf1a59d7"
      },
      "id": "O7OkIReJQ4qy",
      "execution_count": 46,
      "outputs": [
        {
          "output_type": "execute_result",
          "data": {
            "text/plain": [
              "duration\n",
              "85      168\n",
              "136     167\n",
              "90      167\n",
              "73      166\n",
              "124     163\n",
              "       ... \n",
              "1275      1\n",
              "1473      1\n",
              "1432      1\n",
              "1412      1\n",
              "1868      1\n",
              "Name: count, Length: 1542, dtype: int64"
            ],
            "text/html": [
              "<div>\n",
              "<style scoped>\n",
              "    .dataframe tbody tr th:only-of-type {\n",
              "        vertical-align: middle;\n",
              "    }\n",
              "\n",
              "    .dataframe tbody tr th {\n",
              "        vertical-align: top;\n",
              "    }\n",
              "\n",
              "    .dataframe thead th {\n",
              "        text-align: right;\n",
              "    }\n",
              "</style>\n",
              "<table border=\"1\" class=\"dataframe\">\n",
              "  <thead>\n",
              "    <tr style=\"text-align: right;\">\n",
              "      <th></th>\n",
              "      <th>count</th>\n",
              "    </tr>\n",
              "    <tr>\n",
              "      <th>duration</th>\n",
              "      <th></th>\n",
              "    </tr>\n",
              "  </thead>\n",
              "  <tbody>\n",
              "    <tr>\n",
              "      <th>85</th>\n",
              "      <td>168</td>\n",
              "    </tr>\n",
              "    <tr>\n",
              "      <th>136</th>\n",
              "      <td>167</td>\n",
              "    </tr>\n",
              "    <tr>\n",
              "      <th>90</th>\n",
              "      <td>167</td>\n",
              "    </tr>\n",
              "    <tr>\n",
              "      <th>73</th>\n",
              "      <td>166</td>\n",
              "    </tr>\n",
              "    <tr>\n",
              "      <th>124</th>\n",
              "      <td>163</td>\n",
              "    </tr>\n",
              "    <tr>\n",
              "      <th>...</th>\n",
              "      <td>...</td>\n",
              "    </tr>\n",
              "    <tr>\n",
              "      <th>1275</th>\n",
              "      <td>1</td>\n",
              "    </tr>\n",
              "    <tr>\n",
              "      <th>1473</th>\n",
              "      <td>1</td>\n",
              "    </tr>\n",
              "    <tr>\n",
              "      <th>1432</th>\n",
              "      <td>1</td>\n",
              "    </tr>\n",
              "    <tr>\n",
              "      <th>1412</th>\n",
              "      <td>1</td>\n",
              "    </tr>\n",
              "    <tr>\n",
              "      <th>1868</th>\n",
              "      <td>1</td>\n",
              "    </tr>\n",
              "  </tbody>\n",
              "</table>\n",
              "<p>1542 rows × 1 columns</p>\n",
              "</div><br><label><b>dtype:</b> int64</label>"
            ]
          },
          "metadata": {},
          "execution_count": 46
        }
      ]
    },
    {
      "cell_type": "code",
      "source": [
        "import matplotlib.pyplot as plt\n",
        "\n",
        "# Plot the distribution of the 'duration' column\n",
        "plt.figure(figsize=(10, 6))\n",
        "plt.hist(data['duration'], bins=30, color='skyblue', edgecolor='black')\n",
        "plt.title('Distribution of Duration')\n",
        "plt.xlabel('Duration')\n",
        "plt.ylabel('Frequency')\n",
        "plt.show()\n"
      ],
      "metadata": {
        "colab": {
          "base_uri": "https://localhost:8080/",
          "height": 0
        },
        "id": "Z8zqXZaLhXW1",
        "outputId": "81b23c93-6548-4114-d96b-c0e1eaa34bcc"
      },
      "id": "Z8zqXZaLhXW1",
      "execution_count": 47,
      "outputs": [
        {
          "output_type": "display_data",
          "data": {
            "text/plain": [
              "<Figure size 1000x600 with 1 Axes>"
            ],
            "image/png": "[encoded data removed]"
          },
          "metadata": {}
        }
      ]
    },
    {
      "cell_type": "code",
      "source": [
        "from sklearn.preprocessing import MinMaxScaler\n",
        "\n",
        "# Reshape the data as it is a single column\n",
        "scaler = MinMaxScaler()\n",
        "data['duration'] = scaler.fit_transform(data[['duration']])\n",
        "\n",
        "# Check the result\n",
        "print(data[['duration']].head())\n"
      ],
      "metadata": {
        "colab": {
          "base_uri": "https://localhost:8080/"
        },
        "id": "XdOSkmYMhuQw",
        "outputId": "1fc4c85b-7edb-47c4-9032-46a53ae6da39"
      },
      "id": "XdOSkmYMhuQw",
      "execution_count": 48,
      "outputs": [
        {
          "output_type": "stream",
          "name": "stdout",
          "text": [
            "   duration\n",
            "0  0.053070\n",
            "1  0.030297\n",
            "2  0.045954\n",
            "3  0.030704\n",
            "4  0.062424\n"
          ]
        }
      ]
    },
    {
      "cell_type": "markdown",
      "source": [
        "## **campaign**"
      ],
      "metadata": {
        "id": "3QNlm1sbtO7W"
      },
      "id": "3QNlm1sbtO7W"
    },
    {
      "cell_type": "code",
      "source": [
        "\n",
        "data[\"campaign\"].value_counts()"
      ],
      "metadata": {
        "colab": {
          "base_uri": "https://localhost:8080/",
          "height": 0
        },
        "id": "OdJ8KosDQ3ie",
        "outputId": "1e5befcb-5a47-45c5-ae1b-22fb48a64881"
      },
      "id": "OdJ8KosDQ3ie",
      "execution_count": 49,
      "outputs": [
        {
          "output_type": "execute_result",
          "data": {
            "text/plain": [
              "campaign\n",
              "1     17388\n",
              "2     10444\n",
              "3      5300\n",
              "4      2631\n",
              "5      1594\n",
              "6       970\n",
              "7       624\n",
              "8       396\n",
              "9       280\n",
              "10      225\n",
              "11      177\n",
              "12      124\n",
              "13       92\n",
              "14       69\n",
              "17       58\n",
              "15       51\n",
              "16       50\n",
              "18       33\n",
              "20       30\n",
              "19       26\n",
              "21       24\n",
              "22       17\n",
              "23       16\n",
              "24       15\n",
              "27       11\n",
              "29       10\n",
              "25        8\n",
              "28        8\n",
              "26        8\n",
              "30        7\n",
              "31        7\n",
              "35        5\n",
              "32        4\n",
              "33        4\n",
              "34        3\n",
              "42        2\n",
              "40        2\n",
              "43        2\n",
              "56        1\n",
              "39        1\n",
              "41        1\n",
              "37        1\n",
              "Name: count, dtype: int64"
            ],
            "text/html": [
              "<div>\n",
              "<style scoped>\n",
              "    .dataframe tbody tr th:only-of-type {\n",
              "        vertical-align: middle;\n",
              "    }\n",
              "\n",
              "    .dataframe tbody tr th {\n",
              "        vertical-align: top;\n",
              "    }\n",
              "\n",
              "    .dataframe thead th {\n",
              "        text-align: right;\n",
              "    }\n",
              "</style>\n",
              "<table border=\"1\" class=\"dataframe\">\n",
              "  <thead>\n",
              "    <tr style=\"text-align: right;\">\n",
              "      <th></th>\n",
              "      <th>count</th>\n",
              "    </tr>\n",
              "    <tr>\n",
              "      <th>campaign</th>\n",
              "      <th></th>\n",
              "    </tr>\n",
              "  </thead>\n",
              "  <tbody>\n",
              "    <tr>\n",
              "      <th>1</th>\n",
              "      <td>17388</td>\n",
              "    </tr>\n",
              "    <tr>\n",
              "      <th>2</th>\n",
              "      <td>10444</td>\n",
              "    </tr>\n",
              "    <tr>\n",
              "      <th>3</th>\n",
              "      <td>5300</td>\n",
              "    </tr>\n",
              "    <tr>\n",
              "      <th>4</th>\n",
              "      <td>2631</td>\n",
              "    </tr>\n",
              "    <tr>\n",
              "      <th>5</th>\n",
              "      <td>1594</td>\n",
              "    </tr>\n",
              "    <tr>\n",
              "      <th>6</th>\n",
              "      <td>970</td>\n",
              "    </tr>\n",
              "    <tr>\n",
              "      <th>7</th>\n",
              "      <td>624</td>\n",
              "    </tr>\n",
              "    <tr>\n",
              "      <th>8</th>\n",
              "      <td>396</td>\n",
              "    </tr>\n",
              "    <tr>\n",
              "      <th>9</th>\n",
              "      <td>280</td>\n",
              "    </tr>\n",
              "    <tr>\n",
              "      <th>10</th>\n",
              "      <td>225</td>\n",
              "    </tr>\n",
              "    <tr>\n",
              "      <th>11</th>\n",
              "      <td>177</td>\n",
              "    </tr>\n",
              "    <tr>\n",
              "      <th>12</th>\n",
              "      <td>124</td>\n",
              "    </tr>\n",
              "    <tr>\n",
              "      <th>13</th>\n",
              "      <td>92</td>\n",
              "    </tr>\n",
              "    <tr>\n",
              "      <th>14</th>\n",
              "      <td>69</td>\n",
              "    </tr>\n",
              "    <tr>\n",
              "      <th>17</th>\n",
              "      <td>58</td>\n",
              "    </tr>\n",
              "    <tr>\n",
              "      <th>15</th>\n",
              "      <td>51</td>\n",
              "    </tr>\n",
              "    <tr>\n",
              "      <th>16</th>\n",
              "      <td>50</td>\n",
              "    </tr>\n",
              "    <tr>\n",
              "      <th>18</th>\n",
              "      <td>33</td>\n",
              "    </tr>\n",
              "    <tr>\n",
              "      <th>20</th>\n",
              "      <td>30</td>\n",
              "    </tr>\n",
              "    <tr>\n",
              "      <th>19</th>\n",
              "      <td>26</td>\n",
              "    </tr>\n",
              "    <tr>\n",
              "      <th>21</th>\n",
              "      <td>24</td>\n",
              "    </tr>\n",
              "    <tr>\n",
              "      <th>22</th>\n",
              "      <td>17</td>\n",
              "    </tr>\n",
              "    <tr>\n",
              "      <th>23</th>\n",
              "      <td>16</td>\n",
              "    </tr>\n",
              "    <tr>\n",
              "      <th>24</th>\n",
              "      <td>15</td>\n",
              "    </tr>\n",
              "    <tr>\n",
              "      <th>27</th>\n",
              "      <td>11</td>\n",
              "    </tr>\n",
              "    <tr>\n",
              "      <th>29</th>\n",
              "      <td>10</td>\n",
              "    </tr>\n",
              "    <tr>\n",
              "      <th>25</th>\n",
              "      <td>8</td>\n",
              "    </tr>\n",
              "    <tr>\n",
              "      <th>28</th>\n",
              "      <td>8</td>\n",
              "    </tr>\n",
              "    <tr>\n",
              "      <th>26</th>\n",
              "      <td>8</td>\n",
              "    </tr>\n",
              "    <tr>\n",
              "      <th>30</th>\n",
              "      <td>7</td>\n",
              "    </tr>\n",
              "    <tr>\n",
              "      <th>31</th>\n",
              "      <td>7</td>\n",
              "    </tr>\n",
              "    <tr>\n",
              "      <th>35</th>\n",
              "      <td>5</td>\n",
              "    </tr>\n",
              "    <tr>\n",
              "      <th>32</th>\n",
              "      <td>4</td>\n",
              "    </tr>\n",
              "    <tr>\n",
              "      <th>33</th>\n",
              "      <td>4</td>\n",
              "    </tr>\n",
              "    <tr>\n",
              "      <th>34</th>\n",
              "      <td>3</td>\n",
              "    </tr>\n",
              "    <tr>\n",
              "      <th>42</th>\n",
              "      <td>2</td>\n",
              "    </tr>\n",
              "    <tr>\n",
              "      <th>40</th>\n",
              "      <td>2</td>\n",
              "    </tr>\n",
              "    <tr>\n",
              "      <th>43</th>\n",
              "      <td>2</td>\n",
              "    </tr>\n",
              "    <tr>\n",
              "      <th>56</th>\n",
              "      <td>1</td>\n",
              "    </tr>\n",
              "    <tr>\n",
              "      <th>39</th>\n",
              "      <td>1</td>\n",
              "    </tr>\n",
              "    <tr>\n",
              "      <th>41</th>\n",
              "      <td>1</td>\n",
              "    </tr>\n",
              "    <tr>\n",
              "      <th>37</th>\n",
              "      <td>1</td>\n",
              "    </tr>\n",
              "  </tbody>\n",
              "</table>\n",
              "</div><br><label><b>dtype:</b> int64</label>"
            ]
          },
          "metadata": {},
          "execution_count": 49
        }
      ]
    },
    {
      "cell_type": "code",
      "source": [
        "from sklearn.preprocessing import MinMaxScaler\n",
        "\n",
        "# Reshape the data as it is a single column\n",
        "scaler = MinMaxScaler()\n",
        "data['campaign'] = scaler.fit_transform(data[['campaign']])\n",
        "\n",
        "# Check the result\n",
        "print(data[['campaign']].head())\n"
      ],
      "metadata": {
        "colab": {
          "base_uri": "https://localhost:8080/"
        },
        "id": "duGjsTrLieug",
        "outputId": "7d0114c2-c5f7-40c5-d2c1-68460929f7de"
      },
      "id": "duGjsTrLieug",
      "execution_count": 50,
      "outputs": [
        {
          "output_type": "stream",
          "name": "stdout",
          "text": [
            "   campaign\n",
            "0       0.0\n",
            "1       0.0\n",
            "2       0.0\n",
            "3       0.0\n",
            "4       0.0\n"
          ]
        }
      ]
    },
    {
      "cell_type": "code",
      "source": [
        "\n",
        "data[\"campaign\"].value_counts()"
      ],
      "metadata": {
        "colab": {
          "base_uri": "https://localhost:8080/",
          "height": 0
        },
        "id": "DOAuFHFMpstQ",
        "outputId": "ac467f97-1401-469f-e138-ba9bcdade509"
      },
      "id": "DOAuFHFMpstQ",
      "execution_count": 51,
      "outputs": [
        {
          "output_type": "execute_result",
          "data": {
            "text/plain": [
              "campaign\n",
              "0.000000    17388\n",
              "0.018182    10444\n",
              "0.036364     5300\n",
              "0.054545     2631\n",
              "0.072727     1594\n",
              "0.090909      970\n",
              "0.109091      624\n",
              "0.127273      396\n",
              "0.145455      280\n",
              "0.163636      225\n",
              "0.181818      177\n",
              "0.200000      124\n",
              "0.218182       92\n",
              "0.236364       69\n",
              "0.290909       58\n",
              "0.254545       51\n",
              "0.272727       50\n",
              "0.309091       33\n",
              "0.345455       30\n",
              "0.327273       26\n",
              "0.363636       24\n",
              "0.381818       17\n",
              "0.400000       16\n",
              "0.418182       15\n",
              "0.472727       11\n",
              "0.509091       10\n",
              "0.436364        8\n",
              "0.490909        8\n",
              "0.454545        8\n",
              "0.527273        7\n",
              "0.545455        7\n",
              "0.618182        5\n",
              "0.563636        4\n",
              "0.581818        4\n",
              "0.600000        3\n",
              "0.745455        2\n",
              "0.709091        2\n",
              "0.763636        2\n",
              "1.000000        1\n",
              "0.690909        1\n",
              "0.727273        1\n",
              "0.654545        1\n",
              "Name: count, dtype: int64"
            ],
            "text/html": [
              "<div>\n",
              "<style scoped>\n",
              "    .dataframe tbody tr th:only-of-type {\n",
              "        vertical-align: middle;\n",
              "    }\n",
              "\n",
              "    .dataframe tbody tr th {\n",
              "        vertical-align: top;\n",
              "    }\n",
              "\n",
              "    .dataframe thead th {\n",
              "        text-align: right;\n",
              "    }\n",
              "</style>\n",
              "<table border=\"1\" class=\"dataframe\">\n",
              "  <thead>\n",
              "    <tr style=\"text-align: right;\">\n",
              "      <th></th>\n",
              "      <th>count</th>\n",
              "    </tr>\n",
              "    <tr>\n",
              "      <th>campaign</th>\n",
              "      <th></th>\n",
              "    </tr>\n",
              "  </thead>\n",
              "  <tbody>\n",
              "    <tr>\n",
              "      <th>0.000000</th>\n",
              "      <td>17388</td>\n",
              "    </tr>\n",
              "    <tr>\n",
              "      <th>0.018182</th>\n",
              "      <td>10444</td>\n",
              "    </tr>\n",
              "    <tr>\n",
              "      <th>0.036364</th>\n",
              "      <td>5300</td>\n",
              "    </tr>\n",
              "    <tr>\n",
              "      <th>0.054545</th>\n",
              "      <td>2631</td>\n",
              "    </tr>\n",
              "    <tr>\n",
              "      <th>0.072727</th>\n",
              "      <td>1594</td>\n",
              "    </tr>\n",
              "    <tr>\n",
              "      <th>0.090909</th>\n",
              "      <td>970</td>\n",
              "    </tr>\n",
              "    <tr>\n",
              "      <th>0.109091</th>\n",
              "      <td>624</td>\n",
              "    </tr>\n",
              "    <tr>\n",
              "      <th>0.127273</th>\n",
              "      <td>396</td>\n",
              "    </tr>\n",
              "    <tr>\n",
              "      <th>0.145455</th>\n",
              "      <td>280</td>\n",
              "    </tr>\n",
              "    <tr>\n",
              "      <th>0.163636</th>\n",
              "      <td>225</td>\n",
              "    </tr>\n",
              "    <tr>\n",
              "      <th>0.181818</th>\n",
              "      <td>177</td>\n",
              "    </tr>\n",
              "    <tr>\n",
              "      <th>0.200000</th>\n",
              "      <td>124</td>\n",
              "    </tr>\n",
              "    <tr>\n",
              "      <th>0.218182</th>\n",
              "      <td>92</td>\n",
              "    </tr>\n",
              "    <tr>\n",
              "      <th>0.236364</th>\n",
              "      <td>69</td>\n",
              "    </tr>\n",
              "    <tr>\n",
              "      <th>0.290909</th>\n",
              "      <td>58</td>\n",
              "    </tr>\n",
              "    <tr>\n",
              "      <th>0.254545</th>\n",
              "      <td>51</td>\n",
              "    </tr>\n",
              "    <tr>\n",
              "      <th>0.272727</th>\n",
              "      <td>50</td>\n",
              "    </tr>\n",
              "    <tr>\n",
              "      <th>0.309091</th>\n",
              "      <td>33</td>\n",
              "    </tr>\n",
              "    <tr>\n",
              "      <th>0.345455</th>\n",
              "      <td>30</td>\n",
              "    </tr>\n",
              "    <tr>\n",
              "      <th>0.327273</th>\n",
              "      <td>26</td>\n",
              "    </tr>\n",
              "    <tr>\n",
              "      <th>0.363636</th>\n",
              "      <td>24</td>\n",
              "    </tr>\n",
              "    <tr>\n",
              "      <th>0.381818</th>\n",
              "      <td>17</td>\n",
              "    </tr>\n",
              "    <tr>\n",
              "      <th>0.400000</th>\n",
              "      <td>16</td>\n",
              "    </tr>\n",
              "    <tr>\n",
              "      <th>0.418182</th>\n",
              "      <td>15</td>\n",
              "    </tr>\n",
              "    <tr>\n",
              "      <th>0.472727</th>\n",
              "      <td>11</td>\n",
              "    </tr>\n",
              "    <tr>\n",
              "      <th>0.509091</th>\n",
              "      <td>10</td>\n",
              "    </tr>\n",
              "    <tr>\n",
              "      <th>0.436364</th>\n",
              "      <td>8</td>\n",
              "    </tr>\n",
              "    <tr>\n",
              "      <th>0.490909</th>\n",
              "      <td>8</td>\n",
              "    </tr>\n",
              "    <tr>\n",
              "      <th>0.454545</th>\n",
              "      <td>8</td>\n",
              "    </tr>\n",
              "    <tr>\n",
              "      <th>0.527273</th>\n",
              "      <td>7</td>\n",
              "    </tr>\n",
              "    <tr>\n",
              "      <th>0.545455</th>\n",
              "      <td>7</td>\n",
              "    </tr>\n",
              "    <tr>\n",
              "      <th>0.618182</th>\n",
              "      <td>5</td>\n",
              "    </tr>\n",
              "    <tr>\n",
              "      <th>0.563636</th>\n",
              "      <td>4</td>\n",
              "    </tr>\n",
              "    <tr>\n",
              "      <th>0.581818</th>\n",
              "      <td>4</td>\n",
              "    </tr>\n",
              "    <tr>\n",
              "      <th>0.600000</th>\n",
              "      <td>3</td>\n",
              "    </tr>\n",
              "    <tr>\n",
              "      <th>0.745455</th>\n",
              "      <td>2</td>\n",
              "    </tr>\n",
              "    <tr>\n",
              "      <th>0.709091</th>\n",
              "      <td>2</td>\n",
              "    </tr>\n",
              "    <tr>\n",
              "      <th>0.763636</th>\n",
              "      <td>2</td>\n",
              "    </tr>\n",
              "    <tr>\n",
              "      <th>1.000000</th>\n",
              "      <td>1</td>\n",
              "    </tr>\n",
              "    <tr>\n",
              "      <th>0.690909</th>\n",
              "      <td>1</td>\n",
              "    </tr>\n",
              "    <tr>\n",
              "      <th>0.727273</th>\n",
              "      <td>1</td>\n",
              "    </tr>\n",
              "    <tr>\n",
              "      <th>0.654545</th>\n",
              "      <td>1</td>\n",
              "    </tr>\n",
              "  </tbody>\n",
              "</table>\n",
              "</div><br><label><b>dtype:</b> int64</label>"
            ]
          },
          "metadata": {},
          "execution_count": 51
        }
      ]
    },
    {
      "cell_type": "markdown",
      "source": [
        "## **pdays**"
      ],
      "metadata": {
        "id": "sbeuhMU5tPLM"
      },
      "id": "sbeuhMU5tPLM"
    },
    {
      "cell_type": "code",
      "source": [
        "\n",
        "data[\"pdays\"].value_counts()"
      ],
      "metadata": {
        "colab": {
          "base_uri": "https://localhost:8080/",
          "height": 0
        },
        "id": "VpABvvV6Q2kK",
        "outputId": "5c7cdafe-5f05-4741-8ca3-f3a2aee1d6a3"
      },
      "id": "VpABvvV6Q2kK",
      "execution_count": 52,
      "outputs": [
        {
          "output_type": "execute_result",
          "data": {
            "text/plain": [
              "pdays\n",
              "999    39302\n",
              "3        399\n",
              "6        382\n",
              "4        111\n",
              "9         60\n",
              "2         60\n",
              "12        56\n",
              "7         55\n",
              "10        51\n",
              "5         45\n",
              "13        34\n",
              "11        28\n",
              "1         26\n",
              "15        22\n",
              "14        18\n",
              "8         17\n",
              "0         15\n",
              "16        11\n",
              "17         8\n",
              "18         7\n",
              "22         3\n",
              "19         3\n",
              "21         2\n",
              "25         1\n",
              "26         1\n",
              "27         1\n",
              "20         1\n",
              "Name: count, dtype: int64"
            ],
            "text/html": [
              "<div>\n",
              "<style scoped>\n",
              "    .dataframe tbody tr th:only-of-type {\n",
              "        vertical-align: middle;\n",
              "    }\n",
              "\n",
              "    .dataframe tbody tr th {\n",
              "        vertical-align: top;\n",
              "    }\n",
              "\n",
              "    .dataframe thead th {\n",
              "        text-align: right;\n",
              "    }\n",
              "</style>\n",
              "<table border=\"1\" class=\"dataframe\">\n",
              "  <thead>\n",
              "    <tr style=\"text-align: right;\">\n",
              "      <th></th>\n",
              "      <th>count</th>\n",
              "    </tr>\n",
              "    <tr>\n",
              "      <th>pdays</th>\n",
              "      <th></th>\n",
              "    </tr>\n",
              "  </thead>\n",
              "  <tbody>\n",
              "    <tr>\n",
              "      <th>999</th>\n",
              "      <td>39302</td>\n",
              "    </tr>\n",
              "    <tr>\n",
              "      <th>3</th>\n",
              "      <td>399</td>\n",
              "    </tr>\n",
              "    <tr>\n",
              "      <th>6</th>\n",
              "      <td>382</td>\n",
              "    </tr>\n",
              "    <tr>\n",
              "      <th>4</th>\n",
              "      <td>111</td>\n",
              "    </tr>\n",
              "    <tr>\n",
              "      <th>9</th>\n",
              "      <td>60</td>\n",
              "    </tr>\n",
              "    <tr>\n",
              "      <th>2</th>\n",
              "      <td>60</td>\n",
              "    </tr>\n",
              "    <tr>\n",
              "      <th>12</th>\n",
              "      <td>56</td>\n",
              "    </tr>\n",
              "    <tr>\n",
              "      <th>7</th>\n",
              "      <td>55</td>\n",
              "    </tr>\n",
              "    <tr>\n",
              "      <th>10</th>\n",
              "      <td>51</td>\n",
              "    </tr>\n",
              "    <tr>\n",
              "      <th>5</th>\n",
              "      <td>45</td>\n",
              "    </tr>\n",
              "    <tr>\n",
              "      <th>13</th>\n",
              "      <td>34</td>\n",
              "    </tr>\n",
              "    <tr>\n",
              "      <th>11</th>\n",
              "      <td>28</td>\n",
              "    </tr>\n",
              "    <tr>\n",
              "      <th>1</th>\n",
              "      <td>26</td>\n",
              "    </tr>\n",
              "    <tr>\n",
              "      <th>15</th>\n",
              "      <td>22</td>\n",
              "    </tr>\n",
              "    <tr>\n",
              "      <th>14</th>\n",
              "      <td>18</td>\n",
              "    </tr>\n",
              "    <tr>\n",
              "      <th>8</th>\n",
              "      <td>17</td>\n",
              "    </tr>\n",
              "    <tr>\n",
              "      <th>0</th>\n",
              "      <td>15</td>\n",
              "    </tr>\n",
              "    <tr>\n",
              "      <th>16</th>\n",
              "      <td>11</td>\n",
              "    </tr>\n",
              "    <tr>\n",
              "      <th>17</th>\n",
              "      <td>8</td>\n",
              "    </tr>\n",
              "    <tr>\n",
              "      <th>18</th>\n",
              "      <td>7</td>\n",
              "    </tr>\n",
              "    <tr>\n",
              "      <th>22</th>\n",
              "      <td>3</td>\n",
              "    </tr>\n",
              "    <tr>\n",
              "      <th>19</th>\n",
              "      <td>3</td>\n",
              "    </tr>\n",
              "    <tr>\n",
              "      <th>21</th>\n",
              "      <td>2</td>\n",
              "    </tr>\n",
              "    <tr>\n",
              "      <th>25</th>\n",
              "      <td>1</td>\n",
              "    </tr>\n",
              "    <tr>\n",
              "      <th>26</th>\n",
              "      <td>1</td>\n",
              "    </tr>\n",
              "    <tr>\n",
              "      <th>27</th>\n",
              "      <td>1</td>\n",
              "    </tr>\n",
              "    <tr>\n",
              "      <th>20</th>\n",
              "      <td>1</td>\n",
              "    </tr>\n",
              "  </tbody>\n",
              "</table>\n",
              "</div><br><label><b>dtype:</b> int64</label>"
            ]
          },
          "metadata": {},
          "execution_count": 52
        }
      ]
    },
    {
      "cell_type": "code",
      "source": [
        "import matplotlib.pyplot as plt\n",
        "\n",
        "# Get the value counts of the 'pdays' column\n",
        "pdays_counts = data[\"pdays\"].value_counts()\n",
        "\n",
        "# Plot the result\n",
        "pdays_counts.plot(kind='bar', figsize=(10,6), color='skyblue')\n",
        "\n",
        "# Adding labels and title\n",
        "plt.xlabel('pdays Values')\n",
        "plt.ylabel('Frequency')\n",
        "plt.title('Value Counts of pdays')\n",
        "plt.xticks(rotation=45)\n",
        "plt.show()\n"
      ],
      "metadata": {
        "colab": {
          "base_uri": "https://localhost:8080/",
          "height": 0
        },
        "id": "RXrpqYyIkJzd",
        "outputId": "8edc3c6a-1255-4761-a2b2-b1777ee896d3"
      },
      "id": "RXrpqYyIkJzd",
      "execution_count": 53,
      "outputs": [
        {
          "output_type": "display_data",
          "data": {
            "text/plain": [
              "<Figure size 1000x600 with 1 Axes>"
            ],
            "image/png": "[encoded data removed]"
          },
          "metadata": {}
        }
      ]
    },
    {
      "cell_type": "code",
      "source": [
        "# Drop the 'pdays' column\n",
        "data = data.drop(columns=['pdays'])\n",
        "print(data.head())"
      ],
      "metadata": {
        "colab": {
          "base_uri": "https://localhost:8080/"
        },
        "id": "cZg5JUIHkN1t",
        "outputId": "c56dcb14-2d6d-4e63-ce04-974b9a190120"
      },
      "id": "cZg5JUIHkN1t",
      "execution_count": 54,
      "outputs": [
        {
          "output_type": "stream",
          "name": "stdout",
          "text": [
            "        age  duration  campaign  previous     poutcome  emp.var.rate  \\\n",
            "0  0.750000  0.053070       0.0         0  nonexistent           1.1   \n",
            "1  0.769231  0.030297       0.0         0  nonexistent           1.1   \n",
            "2  0.384615  0.045954       0.0         0  nonexistent           1.1   \n",
            "3  0.442308  0.030704       0.0         0  nonexistent           1.1   \n",
            "4  0.750000  0.062424       0.0         0  nonexistent           1.1   \n",
            "\n",
            "   cons.price.idx  cons.conf.idx  euribor3m  nr.employed  ... month_apr  \\\n",
            "0          93.994          -36.4      4.857       5191.0  ...     False   \n",
            "1          93.994          -36.4      4.857       5191.0  ...     False   \n",
            "2          93.994          -36.4      4.857       5191.0  ...     False   \n",
            "3          93.994          -36.4      4.857       5191.0  ...     False   \n",
            "4          93.994          -36.4      4.857       5191.0  ...     False   \n",
            "\n",
            "   month_aug  month_dec  month_jul  month_jun  month_mar  month_may  \\\n",
            "0      False      False      False      False      False       True   \n",
            "1      False      False      False      False      False       True   \n",
            "2      False      False      False      False      False       True   \n",
            "3      False      False      False      False      False       True   \n",
            "4      False      False      False      False      False       True   \n",
            "\n",
            "   month_nov  month_oct  month_sep  \n",
            "0      False      False      False  \n",
            "1      False      False      False  \n",
            "2      False      False      False  \n",
            "3      False      False      False  \n",
            "4      False      False      False  \n",
            "\n",
            "[5 rows x 47 columns]\n"
          ]
        }
      ]
    },
    {
      "cell_type": "markdown",
      "source": [
        "## **previous**"
      ],
      "metadata": {
        "id": "0LogaybPtPYd"
      },
      "id": "0LogaybPtPYd"
    },
    {
      "cell_type": "code",
      "source": [
        "\n",
        "data[\"previous\"].value_counts()"
      ],
      "metadata": {
        "colab": {
          "base_uri": "https://localhost:8080/",
          "height": 0
        },
        "id": "Q3Cq0TqUQ197",
        "outputId": "df0ceaa0-e293-4d6f-a2f6-c5f54f89e878"
      },
      "id": "Q3Cq0TqUQ197",
      "execution_count": 55,
      "outputs": [
        {
          "output_type": "execute_result",
          "data": {
            "text/plain": [
              "previous\n",
              "0    35296\n",
              "1     4439\n",
              "2      700\n",
              "3      200\n",
              "4       61\n",
              "5       18\n",
              "6        4\n",
              "7        1\n",
              "Name: count, dtype: int64"
            ],
            "text/html": [
              "<div>\n",
              "<style scoped>\n",
              "    .dataframe tbody tr th:only-of-type {\n",
              "        vertical-align: middle;\n",
              "    }\n",
              "\n",
              "    .dataframe tbody tr th {\n",
              "        vertical-align: top;\n",
              "    }\n",
              "\n",
              "    .dataframe thead th {\n",
              "        text-align: right;\n",
              "    }\n",
              "</style>\n",
              "<table border=\"1\" class=\"dataframe\">\n",
              "  <thead>\n",
              "    <tr style=\"text-align: right;\">\n",
              "      <th></th>\n",
              "      <th>count</th>\n",
              "    </tr>\n",
              "    <tr>\n",
              "      <th>previous</th>\n",
              "      <th></th>\n",
              "    </tr>\n",
              "  </thead>\n",
              "  <tbody>\n",
              "    <tr>\n",
              "      <th>0</th>\n",
              "      <td>35296</td>\n",
              "    </tr>\n",
              "    <tr>\n",
              "      <th>1</th>\n",
              "      <td>4439</td>\n",
              "    </tr>\n",
              "    <tr>\n",
              "      <th>2</th>\n",
              "      <td>700</td>\n",
              "    </tr>\n",
              "    <tr>\n",
              "      <th>3</th>\n",
              "      <td>200</td>\n",
              "    </tr>\n",
              "    <tr>\n",
              "      <th>4</th>\n",
              "      <td>61</td>\n",
              "    </tr>\n",
              "    <tr>\n",
              "      <th>5</th>\n",
              "      <td>18</td>\n",
              "    </tr>\n",
              "    <tr>\n",
              "      <th>6</th>\n",
              "      <td>4</td>\n",
              "    </tr>\n",
              "    <tr>\n",
              "      <th>7</th>\n",
              "      <td>1</td>\n",
              "    </tr>\n",
              "  </tbody>\n",
              "</table>\n",
              "</div><br><label><b>dtype:</b> int64</label>"
            ]
          },
          "metadata": {},
          "execution_count": 55
        }
      ]
    },
    {
      "cell_type": "code",
      "source": [
        "import matplotlib.pyplot as plt\n",
        "\n",
        "# Plot the value counts for the 'previous' column\n",
        "data['previous'].value_counts().sort_index().plot(kind='bar')\n",
        "\n",
        "# Adding labels and title\n",
        "plt.xlabel('Previous')\n",
        "plt.ylabel('Count')\n",
        "plt.title('Distribution of Previous Column')\n",
        "\n",
        "# Show the plot\n",
        "plt.show()\n"
      ],
      "metadata": {
        "colab": {
          "base_uri": "https://localhost:8080/",
          "height": 0
        },
        "id": "rI0AFtnSk4UZ",
        "outputId": "e77615df-26e3-49cb-b261-b2a7f78bea6f"
      },
      "id": "rI0AFtnSk4UZ",
      "execution_count": 56,
      "outputs": [
        {
          "output_type": "display_data",
          "data": {
            "text/plain": [
              "<Figure size 640x480 with 1 Axes>"
            ],
            "image/png": "[encoded data removed]"
          },
          "metadata": {}
        }
      ]
    },
    {
      "cell_type": "code",
      "source": [
        "# Drop the 'pdays' column\n",
        "data = data.drop(columns=['previous'])\n",
        "print(data.head())"
      ],
      "metadata": {
        "colab": {
          "base_uri": "https://localhost:8080/"
        },
        "id": "bHWY_FrCk_SQ",
        "outputId": "d2b0d007-099d-43c8-fdc3-e956a0041bb2"
      },
      "id": "bHWY_FrCk_SQ",
      "execution_count": 57,
      "outputs": [
        {
          "output_type": "stream",
          "name": "stdout",
          "text": [
            "        age  duration  campaign     poutcome  emp.var.rate  cons.price.idx  \\\n",
            "0  0.750000  0.053070       0.0  nonexistent           1.1          93.994   \n",
            "1  0.769231  0.030297       0.0  nonexistent           1.1          93.994   \n",
            "2  0.384615  0.045954       0.0  nonexistent           1.1          93.994   \n",
            "3  0.442308  0.030704       0.0  nonexistent           1.1          93.994   \n",
            "4  0.750000  0.062424       0.0  nonexistent           1.1          93.994   \n",
            "\n",
            "   cons.conf.idx  euribor3m  nr.employed   y  ...  month_apr  month_aug  \\\n",
            "0          -36.4      4.857       5191.0  no  ...      False      False   \n",
            "1          -36.4      4.857       5191.0  no  ...      False      False   \n",
            "2          -36.4      4.857       5191.0  no  ...      False      False   \n",
            "3          -36.4      4.857       5191.0  no  ...      False      False   \n",
            "4          -36.4      4.857       5191.0  no  ...      False      False   \n",
            "\n",
            "   month_dec  month_jul  month_jun  month_mar  month_may  month_nov  \\\n",
            "0      False      False      False      False       True      False   \n",
            "1      False      False      False      False       True      False   \n",
            "2      False      False      False      False       True      False   \n",
            "3      False      False      False      False       True      False   \n",
            "4      False      False      False      False       True      False   \n",
            "\n",
            "   month_oct  month_sep  \n",
            "0      False      False  \n",
            "1      False      False  \n",
            "2      False      False  \n",
            "3      False      False  \n",
            "4      False      False  \n",
            "\n",
            "[5 rows x 46 columns]\n"
          ]
        }
      ]
    },
    {
      "cell_type": "markdown",
      "source": [
        "## **poutcome**"
      ],
      "metadata": {
        "id": "kTPg3vl1tPlB"
      },
      "id": "kTPg3vl1tPlB"
    },
    {
      "cell_type": "code",
      "source": [
        "\n",
        "data[\"poutcome\"].value_counts()"
      ],
      "metadata": {
        "colab": {
          "base_uri": "https://localhost:8080/",
          "height": 0
        },
        "id": "n324Tz3jQ1SY",
        "outputId": "65cc4a8e-af0b-496b-df10-3942580eb503"
      },
      "id": "n324Tz3jQ1SY",
      "execution_count": 58,
      "outputs": [
        {
          "output_type": "execute_result",
          "data": {
            "text/plain": [
              "poutcome\n",
              "nonexistent    35296\n",
              "failure         4141\n",
              "success         1282\n",
              "Name: count, dtype: int64"
            ],
            "text/html": [
              "<div>\n",
              "<style scoped>\n",
              "    .dataframe tbody tr th:only-of-type {\n",
              "        vertical-align: middle;\n",
              "    }\n",
              "\n",
              "    .dataframe tbody tr th {\n",
              "        vertical-align: top;\n",
              "    }\n",
              "\n",
              "    .dataframe thead th {\n",
              "        text-align: right;\n",
              "    }\n",
              "</style>\n",
              "<table border=\"1\" class=\"dataframe\">\n",
              "  <thead>\n",
              "    <tr style=\"text-align: right;\">\n",
              "      <th></th>\n",
              "      <th>count</th>\n",
              "    </tr>\n",
              "    <tr>\n",
              "      <th>poutcome</th>\n",
              "      <th></th>\n",
              "    </tr>\n",
              "  </thead>\n",
              "  <tbody>\n",
              "    <tr>\n",
              "      <th>nonexistent</th>\n",
              "      <td>35296</td>\n",
              "    </tr>\n",
              "    <tr>\n",
              "      <th>failure</th>\n",
              "      <td>4141</td>\n",
              "    </tr>\n",
              "    <tr>\n",
              "      <th>success</th>\n",
              "      <td>1282</td>\n",
              "    </tr>\n",
              "  </tbody>\n",
              "</table>\n",
              "</div><br><label><b>dtype:</b> int64</label>"
            ]
          },
          "metadata": {},
          "execution_count": 58
        }
      ]
    },
    {
      "cell_type": "code",
      "source": [
        "# Drop the 'pdays' column\n",
        "data = data.drop(columns=['poutcome'])\n",
        "print(data.head())"
      ],
      "metadata": {
        "colab": {
          "base_uri": "https://localhost:8080/"
        },
        "id": "Wbxm4n3Vl3pD",
        "outputId": "768a4bed-b551-4e71-a872-70efcd499fc8"
      },
      "id": "Wbxm4n3Vl3pD",
      "execution_count": 59,
      "outputs": [
        {
          "output_type": "stream",
          "name": "stdout",
          "text": [
            "        age  duration  campaign  emp.var.rate  cons.price.idx  cons.conf.idx  \\\n",
            "0  0.750000  0.053070       0.0           1.1          93.994          -36.4   \n",
            "1  0.769231  0.030297       0.0           1.1          93.994          -36.4   \n",
            "2  0.384615  0.045954       0.0           1.1          93.994          -36.4   \n",
            "3  0.442308  0.030704       0.0           1.1          93.994          -36.4   \n",
            "4  0.750000  0.062424       0.0           1.1          93.994          -36.4   \n",
            "\n",
            "   euribor3m  nr.employed   y  job_admin.  ...  month_apr  month_aug  \\\n",
            "0      4.857       5191.0  no       False  ...      False      False   \n",
            "1      4.857       5191.0  no       False  ...      False      False   \n",
            "2      4.857       5191.0  no       False  ...      False      False   \n",
            "3      4.857       5191.0  no        True  ...      False      False   \n",
            "4      4.857       5191.0  no       False  ...      False      False   \n",
            "\n",
            "   month_dec  month_jul  month_jun  month_mar  month_may  month_nov  \\\n",
            "0      False      False      False      False       True      False   \n",
            "1      False      False      False      False       True      False   \n",
            "2      False      False      False      False       True      False   \n",
            "3      False      False      False      False       True      False   \n",
            "4      False      False      False      False       True      False   \n",
            "\n",
            "   month_oct  month_sep  \n",
            "0      False      False  \n",
            "1      False      False  \n",
            "2      False      False  \n",
            "3      False      False  \n",
            "4      False      False  \n",
            "\n",
            "[5 rows x 45 columns]\n"
          ]
        }
      ]
    },
    {
      "cell_type": "markdown",
      "source": [
        "## **emp.var.rate**"
      ],
      "metadata": {
        "id": "jR4ftpdPtPyv"
      },
      "id": "jR4ftpdPtPyv"
    },
    {
      "cell_type": "code",
      "source": [
        "\n",
        "data[\"emp.var.rate\"].value_counts()"
      ],
      "metadata": {
        "colab": {
          "base_uri": "https://localhost:8080/",
          "height": 0
        },
        "id": "KZld2TpMQ0Lp",
        "outputId": "d119121c-4b17-485d-c94d-e983cf402ea0"
      },
      "id": "KZld2TpMQ0Lp",
      "execution_count": 60,
      "outputs": [
        {
          "output_type": "execute_result",
          "data": {
            "text/plain": [
              "emp.var.rate\n",
              " 1.4    16234\n",
              "-1.8     9038\n",
              " 1.1     7763\n",
              "-0.1     3683\n",
              "-2.9     1591\n",
              "-3.4      949\n",
              "-1.7      708\n",
              "-1.1      593\n",
              "-3.0      150\n",
              "-0.2       10\n",
              "Name: count, dtype: int64"
            ],
            "text/html": [
              "<div>\n",
              "<style scoped>\n",
              "    .dataframe tbody tr th:only-of-type {\n",
              "        vertical-align: middle;\n",
              "    }\n",
              "\n",
              "    .dataframe tbody tr th {\n",
              "        vertical-align: top;\n",
              "    }\n",
              "\n",
              "    .dataframe thead th {\n",
              "        text-align: right;\n",
              "    }\n",
              "</style>\n",
              "<table border=\"1\" class=\"dataframe\">\n",
              "  <thead>\n",
              "    <tr style=\"text-align: right;\">\n",
              "      <th></th>\n",
              "      <th>count</th>\n",
              "    </tr>\n",
              "    <tr>\n",
              "      <th>emp.var.rate</th>\n",
              "      <th></th>\n",
              "    </tr>\n",
              "  </thead>\n",
              "  <tbody>\n",
              "    <tr>\n",
              "      <th>1.4</th>\n",
              "      <td>16234</td>\n",
              "    </tr>\n",
              "    <tr>\n",
              "      <th>-1.8</th>\n",
              "      <td>9038</td>\n",
              "    </tr>\n",
              "    <tr>\n",
              "      <th>1.1</th>\n",
              "      <td>7763</td>\n",
              "    </tr>\n",
              "    <tr>\n",
              "      <th>-0.1</th>\n",
              "      <td>3683</td>\n",
              "    </tr>\n",
              "    <tr>\n",
              "      <th>-2.9</th>\n",
              "      <td>1591</td>\n",
              "    </tr>\n",
              "    <tr>\n",
              "      <th>-3.4</th>\n",
              "      <td>949</td>\n",
              "    </tr>\n",
              "    <tr>\n",
              "      <th>-1.7</th>\n",
              "      <td>708</td>\n",
              "    </tr>\n",
              "    <tr>\n",
              "      <th>-1.1</th>\n",
              "      <td>593</td>\n",
              "    </tr>\n",
              "    <tr>\n",
              "      <th>-3.0</th>\n",
              "      <td>150</td>\n",
              "    </tr>\n",
              "    <tr>\n",
              "      <th>-0.2</th>\n",
              "      <td>10</td>\n",
              "    </tr>\n",
              "  </tbody>\n",
              "</table>\n",
              "</div><br><label><b>dtype:</b> int64</label>"
            ]
          },
          "metadata": {},
          "execution_count": 60
        }
      ]
    },
    {
      "cell_type": "code",
      "source": [
        "plt.figure(figsize=(8, 6))\n",
        "sns.histplot(data['emp.var.rate'], kde=True, bins=30)  # kde=True adds a Kernel Density Estimate\n",
        "plt.title('Histogram of Employment Variation Rate with Outliers')\n",
        "plt.xlabel('Employment Variation Rate')\n",
        "plt.ylabel('Frequency')\n",
        "plt.show()\n"
      ],
      "metadata": {
        "colab": {
          "base_uri": "https://localhost:8080/",
          "height": 0
        },
        "id": "5J90aDRsnkZs",
        "outputId": "81b3e462-1c4d-4504-9a98-b4c2a8f48762"
      },
      "id": "5J90aDRsnkZs",
      "execution_count": 61,
      "outputs": [
        {
          "output_type": "display_data",
          "data": {
            "text/plain": [
              "<Figure size 800x600 with 1 Axes>"
            ],
            "image/png": "[encoded data removed]"
          },
          "metadata": {}
        }
      ]
    },
    {
      "cell_type": "code",
      "source": [
        "from sklearn.preprocessing import StandardScaler\n",
        "\n",
        "# Normalize the 'emp.var.rate' column using StandardScaler\n",
        "scaler = StandardScaler()\n",
        "data['emp.var.rate'] = scaler.fit_transform(data[['emp.var.rate']])\n"
      ],
      "metadata": {
        "id": "uK2WZQVxmXry"
      },
      "id": "uK2WZQVxmXry",
      "execution_count": 62,
      "outputs": []
    },
    {
      "cell_type": "code",
      "source": [
        "\n",
        "data[\"emp.var.rate\"].value_counts()"
      ],
      "metadata": {
        "colab": {
          "base_uri": "https://localhost:8080/",
          "height": 0
        },
        "id": "A7GWo9wzmcoz",
        "outputId": "fab517e4-0fce-49b6-d148-5624089e8f32"
      },
      "id": "A7GWo9wzmcoz",
      "execution_count": 63,
      "outputs": [
        {
          "output_type": "execute_result",
          "data": {
            "text/plain": [
              "emp.var.rate\n",
              " 0.829355    16234\n",
              "-1.228066     9038\n",
              " 0.636472     7763\n",
              "-0.135061     3683\n",
              "-1.935304     1591\n",
              "-2.256776      949\n",
              "-1.163771      708\n",
              "-0.778005      593\n",
              "-1.999598      150\n",
              "-0.199355       10\n",
              "Name: count, dtype: int64"
            ],
            "text/html": [
              "<div>\n",
              "<style scoped>\n",
              "    .dataframe tbody tr th:only-of-type {\n",
              "        vertical-align: middle;\n",
              "    }\n",
              "\n",
              "    .dataframe tbody tr th {\n",
              "        vertical-align: top;\n",
              "    }\n",
              "\n",
              "    .dataframe thead th {\n",
              "        text-align: right;\n",
              "    }\n",
              "</style>\n",
              "<table border=\"1\" class=\"dataframe\">\n",
              "  <thead>\n",
              "    <tr style=\"text-align: right;\">\n",
              "      <th></th>\n",
              "      <th>count</th>\n",
              "    </tr>\n",
              "    <tr>\n",
              "      <th>emp.var.rate</th>\n",
              "      <th></th>\n",
              "    </tr>\n",
              "  </thead>\n",
              "  <tbody>\n",
              "    <tr>\n",
              "      <th>0.829355</th>\n",
              "      <td>16234</td>\n",
              "    </tr>\n",
              "    <tr>\n",
              "      <th>-1.228066</th>\n",
              "      <td>9038</td>\n",
              "    </tr>\n",
              "    <tr>\n",
              "      <th>0.636472</th>\n",
              "      <td>7763</td>\n",
              "    </tr>\n",
              "    <tr>\n",
              "      <th>-0.135061</th>\n",
              "      <td>3683</td>\n",
              "    </tr>\n",
              "    <tr>\n",
              "      <th>-1.935304</th>\n",
              "      <td>1591</td>\n",
              "    </tr>\n",
              "    <tr>\n",
              "      <th>-2.256776</th>\n",
              "      <td>949</td>\n",
              "    </tr>\n",
              "    <tr>\n",
              "      <th>-1.163771</th>\n",
              "      <td>708</td>\n",
              "    </tr>\n",
              "    <tr>\n",
              "      <th>-0.778005</th>\n",
              "      <td>593</td>\n",
              "    </tr>\n",
              "    <tr>\n",
              "      <th>-1.999598</th>\n",
              "      <td>150</td>\n",
              "    </tr>\n",
              "    <tr>\n",
              "      <th>-0.199355</th>\n",
              "      <td>10</td>\n",
              "    </tr>\n",
              "  </tbody>\n",
              "</table>\n",
              "</div><br><label><b>dtype:</b> int64</label>"
            ]
          },
          "metadata": {},
          "execution_count": 63
        }
      ]
    },
    {
      "cell_type": "code",
      "source": [
        "plt.figure(figsize=(8, 6))\n",
        "sns.histplot(data['emp.var.rate'], kde=True, bins=30)  # kde=True adds a Kernel Density Estimate\n",
        "plt.title('Histogram of Employment Variation Rate with Outliers')\n",
        "plt.xlabel('Employment Variation Rate')\n",
        "plt.ylabel('Frequency')\n",
        "plt.show()\n"
      ],
      "metadata": {
        "colab": {
          "base_uri": "https://localhost:8080/",
          "height": 0
        },
        "id": "6XBZAw4Jm8gl",
        "outputId": "e9d65ae1-8a6b-4885-8e0b-6636b80c82b2"
      },
      "id": "6XBZAw4Jm8gl",
      "execution_count": 64,
      "outputs": [
        {
          "output_type": "display_data",
          "data": {
            "text/plain": [
              "<Figure size 800x600 with 1 Axes>"
            ],
            "image/png": "[encoded data removed]"
          },
          "metadata": {}
        }
      ]
    },
    {
      "cell_type": "markdown",
      "source": [
        "## **cons.price.idx**"
      ],
      "metadata": {
        "id": "KE8DKYmutQBa"
      },
      "id": "KE8DKYmutQBa"
    },
    {
      "cell_type": "code",
      "source": [
        "\n",
        "data[\"cons.price.idx\"].value_counts()"
      ],
      "metadata": {
        "colab": {
          "base_uri": "https://localhost:8080/",
          "height": 0
        },
        "id": "mqDmFgAJQzmC",
        "outputId": "ba31e577-7903-44f9-adb8-59089b81a978"
      },
      "id": "mqDmFgAJQzmC",
      "execution_count": 65,
      "outputs": [
        {
          "output_type": "execute_result",
          "data": {
            "text/plain": [
              "cons.price.idx\n",
              "93.994    7763\n",
              "93.918    6685\n",
              "92.893    5785\n",
              "93.444    5175\n",
              "94.465    4374\n",
              "93.200    3616\n",
              "93.075    2418\n",
              "92.963     710\n",
              "92.201     704\n",
              "92.431     392\n",
              "92.649     322\n",
              "94.215     279\n",
              "94.199     278\n",
              "92.843     254\n",
              "93.369     249\n",
              "92.379     235\n",
              "94.055     217\n",
              "94.027     212\n",
              "94.601     189\n",
              "93.876     188\n",
              "92.469     177\n",
              "92.713     150\n",
              "93.749     144\n",
              "94.767     126\n",
              "93.798      67\n",
              "92.756      10\n",
              "Name: count, dtype: int64"
            ],
            "text/html": [
              "<div>\n",
              "<style scoped>\n",
              "    .dataframe tbody tr th:only-of-type {\n",
              "        vertical-align: middle;\n",
              "    }\n",
              "\n",
              "    .dataframe tbody tr th {\n",
              "        vertical-align: top;\n",
              "    }\n",
              "\n",
              "    .dataframe thead th {\n",
              "        text-align: right;\n",
              "    }\n",
              "</style>\n",
              "<table border=\"1\" class=\"dataframe\">\n",
              "  <thead>\n",
              "    <tr style=\"text-align: right;\">\n",
              "      <th></th>\n",
              "      <th>count</th>\n",
              "    </tr>\n",
              "    <tr>\n",
              "      <th>cons.price.idx</th>\n",
              "      <th></th>\n",
              "    </tr>\n",
              "  </thead>\n",
              "  <tbody>\n",
              "    <tr>\n",
              "      <th>93.994</th>\n",
              "      <td>7763</td>\n",
              "    </tr>\n",
              "    <tr>\n",
              "      <th>93.918</th>\n",
              "      <td>6685</td>\n",
              "    </tr>\n",
              "    <tr>\n",
              "      <th>92.893</th>\n",
              "      <td>5785</td>\n",
              "    </tr>\n",
              "    <tr>\n",
              "      <th>93.444</th>\n",
              "      <td>5175</td>\n",
              "    </tr>\n",
              "    <tr>\n",
              "      <th>94.465</th>\n",
              "      <td>4374</td>\n",
              "    </tr>\n",
              "    <tr>\n",
              "      <th>93.200</th>\n",
              "      <td>3616</td>\n",
              "    </tr>\n",
              "    <tr>\n",
              "      <th>93.075</th>\n",
              "      <td>2418</td>\n",
              "    </tr>\n",
              "    <tr>\n",
              "      <th>92.963</th>\n",
              "      <td>710</td>\n",
              "    </tr>\n",
              "    <tr>\n",
              "      <th>92.201</th>\n",
              "      <td>704</td>\n",
              "    </tr>\n",
              "    <tr>\n",
              "      <th>92.431</th>\n",
              "      <td>392</td>\n",
              "    </tr>\n",
              "    <tr>\n",
              "      <th>92.649</th>\n",
              "      <td>322</td>\n",
              "    </tr>\n",
              "    <tr>\n",
              "      <th>94.215</th>\n",
              "      <td>279</td>\n",
              "    </tr>\n",
              "    <tr>\n",
              "      <th>94.199</th>\n",
              "      <td>278</td>\n",
              "    </tr>\n",
              "    <tr>\n",
              "      <th>92.843</th>\n",
              "      <td>254</td>\n",
              "    </tr>\n",
              "    <tr>\n",
              "      <th>93.369</th>\n",
              "      <td>249</td>\n",
              "    </tr>\n",
              "    <tr>\n",
              "      <th>92.379</th>\n",
              "      <td>235</td>\n",
              "    </tr>\n",
              "    <tr>\n",
              "      <th>94.055</th>\n",
              "      <td>217</td>\n",
              "    </tr>\n",
              "    <tr>\n",
              "      <th>94.027</th>\n",
              "      <td>212</td>\n",
              "    </tr>\n",
              "    <tr>\n",
              "      <th>94.601</th>\n",
              "      <td>189</td>\n",
              "    </tr>\n",
              "    <tr>\n",
              "      <th>93.876</th>\n",
              "      <td>188</td>\n",
              "    </tr>\n",
              "    <tr>\n",
              "      <th>92.469</th>\n",
              "      <td>177</td>\n",
              "    </tr>\n",
              "    <tr>\n",
              "      <th>92.713</th>\n",
              "      <td>150</td>\n",
              "    </tr>\n",
              "    <tr>\n",
              "      <th>93.749</th>\n",
              "      <td>144</td>\n",
              "    </tr>\n",
              "    <tr>\n",
              "      <th>94.767</th>\n",
              "      <td>126</td>\n",
              "    </tr>\n",
              "    <tr>\n",
              "      <th>93.798</th>\n",
              "      <td>67</td>\n",
              "    </tr>\n",
              "    <tr>\n",
              "      <th>92.756</th>\n",
              "      <td>10</td>\n",
              "    </tr>\n",
              "  </tbody>\n",
              "</table>\n",
              "</div><br><label><b>dtype:</b> int64</label>"
            ]
          },
          "metadata": {},
          "execution_count": 65
        }
      ]
    },
    {
      "cell_type": "code",
      "source": [
        "import matplotlib.pyplot as plt\n",
        "import seaborn as sns\n",
        "\n",
        "# Plot histogram\n",
        "plt.figure(figsize=(10,6))\n",
        "sns.histplot(data['cons.price.idx'], kde=True, bins=30)\n",
        "plt.title('Distribution of cons.price.idx')\n",
        "plt.xlabel('cons.price.idx')\n",
        "plt.ylabel('Frequency')\n",
        "plt.show()\n"
      ],
      "metadata": {
        "colab": {
          "base_uri": "https://localhost:8080/",
          "height": 0
        },
        "id": "Gttl8-pnq9Jt",
        "outputId": "ce3065ff-b87b-4c31-c19b-f2da9c05a380"
      },
      "id": "Gttl8-pnq9Jt",
      "execution_count": 66,
      "outputs": [
        {
          "output_type": "display_data",
          "data": {
            "text/plain": [
              "<Figure size 1000x600 with 1 Axes>"
            ],
            "image/png": "[encoded data removed]"
          },
          "metadata": {}
        }
      ]
    },
    {
      "cell_type": "code",
      "source": [
        "Q1 = data['cons.price.idx'].quantile(0.25)\n",
        "Q3 = data['cons.price.idx'].quantile(0.75)\n",
        "IQR = Q3 - Q1\n",
        "\n",
        "# Identify outliers\n",
        "outliers = data[(data['cons.price.idx'] < (Q1 - 1.5 * IQR)) | (data['cons.price.idx'] > (Q3 + 1.5 * IQR))]\n",
        "\n",
        "# Print the outliers\n",
        "print(outliers)\n"
      ],
      "metadata": {
        "colab": {
          "base_uri": "https://localhost:8080/"
        },
        "id": "9MWVPgY6rU1F",
        "outputId": "14aa0fb6-d8ff-44b7-949d-b09d8f03511f"
      },
      "id": "9MWVPgY6rU1F",
      "execution_count": 67,
      "outputs": [
        {
          "output_type": "stream",
          "name": "stdout",
          "text": [
            "Empty DataFrame\n",
            "Columns: [age, duration, campaign, emp.var.rate, cons.price.idx, cons.conf.idx, euribor3m, nr.employed, y, job_admin., job_blue-collar, job_entrepreneur, job_housemaid, job_management, job_retired, job_self-employed, job_services, job_student, job_technician, job_unemployed, job_unknown, marital_divorced, marital_married, marital_single, education_basic.4y, education_basic.6y, education_basic.9y, education_high.school, education_professional.course, education_university.degree, education_unknown, housing_no, housing_yes, loan_no, loan_yes, month_apr, month_aug, month_dec, month_jul, month_jun, month_mar, month_may, month_nov, month_oct, month_sep]\n",
            "Index: []\n",
            "\n",
            "[0 rows x 45 columns]\n"
          ]
        }
      ]
    },
    {
      "cell_type": "code",
      "source": [
        "# Remove outliers\n",
        "data_no_outliers = data[(data['cons.price.idx'] >= (Q1 - 1.5 * IQR)) & (data['cons.price.idx'] <= (Q3 + 1.5 * IQR))]\n",
        "\n",
        "# Verify the data without outliers\n",
        "print(data_no_outliers.head())\n"
      ],
      "metadata": {
        "colab": {
          "base_uri": "https://localhost:8080/"
        },
        "id": "NdzhbfQBreBl",
        "outputId": "0c7c12e4-6dbe-4d5e-992f-6d36be036840"
      },
      "id": "NdzhbfQBreBl",
      "execution_count": 68,
      "outputs": [
        {
          "output_type": "stream",
          "name": "stdout",
          "text": [
            "        age  duration  campaign  emp.var.rate  cons.price.idx  cons.conf.idx  \\\n",
            "0  0.750000  0.053070       0.0      0.636472          93.994          -36.4   \n",
            "1  0.769231  0.030297       0.0      0.636472          93.994          -36.4   \n",
            "2  0.384615  0.045954       0.0      0.636472          93.994          -36.4   \n",
            "3  0.442308  0.030704       0.0      0.636472          93.994          -36.4   \n",
            "4  0.750000  0.062424       0.0      0.636472          93.994          -36.4   \n",
            "\n",
            "   euribor3m  nr.employed   y  job_admin.  ...  month_apr  month_aug  \\\n",
            "0      4.857       5191.0  no       False  ...      False      False   \n",
            "1      4.857       5191.0  no       False  ...      False      False   \n",
            "2      4.857       5191.0  no       False  ...      False      False   \n",
            "3      4.857       5191.0  no        True  ...      False      False   \n",
            "4      4.857       5191.0  no       False  ...      False      False   \n",
            "\n",
            "   month_dec  month_jul  month_jun  month_mar  month_may  month_nov  \\\n",
            "0      False      False      False      False       True      False   \n",
            "1      False      False      False      False       True      False   \n",
            "2      False      False      False      False       True      False   \n",
            "3      False      False      False      False       True      False   \n",
            "4      False      False      False      False       True      False   \n",
            "\n",
            "   month_oct  month_sep  \n",
            "0      False      False  \n",
            "1      False      False  \n",
            "2      False      False  \n",
            "3      False      False  \n",
            "4      False      False  \n",
            "\n",
            "[5 rows x 45 columns]\n"
          ]
        }
      ]
    },
    {
      "cell_type": "code",
      "source": [
        "# Value counts for cons.price.idx\n",
        "print(data['cons.price.idx'].value_counts())\n"
      ],
      "metadata": {
        "colab": {
          "base_uri": "https://localhost:8080/"
        },
        "id": "7dk7aPF4rj0D",
        "outputId": "a0f84b9c-9e1b-4301-817d-a675b00f2231"
      },
      "id": "7dk7aPF4rj0D",
      "execution_count": 69,
      "outputs": [
        {
          "output_type": "stream",
          "name": "stdout",
          "text": [
            "cons.price.idx\n",
            "93.994    7763\n",
            "93.918    6685\n",
            "92.893    5785\n",
            "93.444    5175\n",
            "94.465    4374\n",
            "93.200    3616\n",
            "93.075    2418\n",
            "92.963     710\n",
            "92.201     704\n",
            "92.431     392\n",
            "92.649     322\n",
            "94.215     279\n",
            "94.199     278\n",
            "92.843     254\n",
            "93.369     249\n",
            "92.379     235\n",
            "94.055     217\n",
            "94.027     212\n",
            "94.601     189\n",
            "93.876     188\n",
            "92.469     177\n",
            "92.713     150\n",
            "93.749     144\n",
            "94.767     126\n",
            "93.798      67\n",
            "92.756      10\n",
            "Name: count, dtype: int64\n"
          ]
        }
      ]
    },
    {
      "cell_type": "code",
      "source": [
        "from sklearn.preprocessing import MinMaxScaler\n",
        "\n",
        "# Initialize the MinMaxScaler\n",
        "scaler = MinMaxScaler()\n",
        "\n",
        "# Reshape the data (as it should be a 2D array for scaling)\n",
        "data['cons.price.idx'] = scaler.fit_transform(data[['cons.price.idx']])\n",
        "\n",
        "# Check the normalized values\n",
        "print(data[['cons.price.idx']].head())\n"
      ],
      "metadata": {
        "colab": {
          "base_uri": "https://localhost:8080/"
        },
        "id": "yrZ81QkorvcJ",
        "outputId": "47ce0e65-cf6c-4761-aa36-c1e67bfb5b86"
      },
      "id": "yrZ81QkorvcJ",
      "execution_count": 70,
      "outputs": [
        {
          "output_type": "stream",
          "name": "stdout",
          "text": [
            "   cons.price.idx\n",
            "0        0.698753\n",
            "1        0.698753\n",
            "2        0.698753\n",
            "3        0.698753\n",
            "4        0.698753\n"
          ]
        }
      ]
    },
    {
      "cell_type": "markdown",
      "source": [
        "## **cons.conf.idx**"
      ],
      "metadata": {
        "id": "JS22y4rLtQPY"
      },
      "id": "JS22y4rLtQPY"
    },
    {
      "cell_type": "code",
      "source": [
        "\n",
        "data[\"cons.conf.idx\"].value_counts()"
      ],
      "metadata": {
        "colab": {
          "base_uri": "https://localhost:8080/",
          "height": 0
        },
        "id": "UJVpKduPQy1c",
        "outputId": "4be848cd-6e6a-4dd6-8d40-5feb722edf92"
      },
      "id": "UJVpKduPQy1c",
      "execution_count": 71,
      "outputs": [
        {
          "output_type": "execute_result",
          "data": {
            "text/plain": [
              "cons.conf.idx\n",
              "-36.4    7763\n",
              "-42.7    6685\n",
              "-46.2    5785\n",
              "-36.1    5175\n",
              "-41.8    4374\n",
              "-42.0    3616\n",
              "-47.1    2418\n",
              "-40.8     710\n",
              "-31.4     704\n",
              "-26.9     392\n",
              "-30.1     322\n",
              "-40.3     279\n",
              "-37.5     278\n",
              "-50.0     254\n",
              "-34.8     249\n",
              "-29.8     235\n",
              "-39.8     217\n",
              "-38.3     212\n",
              "-49.5     189\n",
              "-40.0     188\n",
              "-33.6     177\n",
              "-33.0     150\n",
              "-34.6     144\n",
              "-50.8     126\n",
              "-40.4      67\n",
              "-45.9      10\n",
              "Name: count, dtype: int64"
            ],
            "text/html": [
              "<div>\n",
              "<style scoped>\n",
              "    .dataframe tbody tr th:only-of-type {\n",
              "        vertical-align: middle;\n",
              "    }\n",
              "\n",
              "    .dataframe tbody tr th {\n",
              "        vertical-align: top;\n",
              "    }\n",
              "\n",
              "    .dataframe thead th {\n",
              "        text-align: right;\n",
              "    }\n",
              "</style>\n",
              "<table border=\"1\" class=\"dataframe\">\n",
              "  <thead>\n",
              "    <tr style=\"text-align: right;\">\n",
              "      <th></th>\n",
              "      <th>count</th>\n",
              "    </tr>\n",
              "    <tr>\n",
              "      <th>cons.conf.idx</th>\n",
              "      <th></th>\n",
              "    </tr>\n",
              "  </thead>\n",
              "  <tbody>\n",
              "    <tr>\n",
              "      <th>-36.4</th>\n",
              "      <td>7763</td>\n",
              "    </tr>\n",
              "    <tr>\n",
              "      <th>-42.7</th>\n",
              "      <td>6685</td>\n",
              "    </tr>\n",
              "    <tr>\n",
              "      <th>-46.2</th>\n",
              "      <td>5785</td>\n",
              "    </tr>\n",
              "    <tr>\n",
              "      <th>-36.1</th>\n",
              "      <td>5175</td>\n",
              "    </tr>\n",
              "    <tr>\n",
              "      <th>-41.8</th>\n",
              "      <td>4374</td>\n",
              "    </tr>\n",
              "    <tr>\n",
              "      <th>-42.0</th>\n",
              "      <td>3616</td>\n",
              "    </tr>\n",
              "    <tr>\n",
              "      <th>-47.1</th>\n",
              "      <td>2418</td>\n",
              "    </tr>\n",
              "    <tr>\n",
              "      <th>-40.8</th>\n",
              "      <td>710</td>\n",
              "    </tr>\n",
              "    <tr>\n",
              "      <th>-31.4</th>\n",
              "      <td>704</td>\n",
              "    </tr>\n",
              "    <tr>\n",
              "      <th>-26.9</th>\n",
              "      <td>392</td>\n",
              "    </tr>\n",
              "    <tr>\n",
              "      <th>-30.1</th>\n",
              "      <td>322</td>\n",
              "    </tr>\n",
              "    <tr>\n",
              "      <th>-40.3</th>\n",
              "      <td>279</td>\n",
              "    </tr>\n",
              "    <tr>\n",
              "      <th>-37.5</th>\n",
              "      <td>278</td>\n",
              "    </tr>\n",
              "    <tr>\n",
              "      <th>-50.0</th>\n",
              "      <td>254</td>\n",
              "    </tr>\n",
              "    <tr>\n",
              "      <th>-34.8</th>\n",
              "      <td>249</td>\n",
              "    </tr>\n",
              "    <tr>\n",
              "      <th>-29.8</th>\n",
              "      <td>235</td>\n",
              "    </tr>\n",
              "    <tr>\n",
              "      <th>-39.8</th>\n",
              "      <td>217</td>\n",
              "    </tr>\n",
              "    <tr>\n",
              "      <th>-38.3</th>\n",
              "      <td>212</td>\n",
              "    </tr>\n",
              "    <tr>\n",
              "      <th>-49.5</th>\n",
              "      <td>189</td>\n",
              "    </tr>\n",
              "    <tr>\n",
              "      <th>-40.0</th>\n",
              "      <td>188</td>\n",
              "    </tr>\n",
              "    <tr>\n",
              "      <th>-33.6</th>\n",
              "      <td>177</td>\n",
              "    </tr>\n",
              "    <tr>\n",
              "      <th>-33.0</th>\n",
              "      <td>150</td>\n",
              "    </tr>\n",
              "    <tr>\n",
              "      <th>-34.6</th>\n",
              "      <td>144</td>\n",
              "    </tr>\n",
              "    <tr>\n",
              "      <th>-50.8</th>\n",
              "      <td>126</td>\n",
              "    </tr>\n",
              "    <tr>\n",
              "      <th>-40.4</th>\n",
              "      <td>67</td>\n",
              "    </tr>\n",
              "    <tr>\n",
              "      <th>-45.9</th>\n",
              "      <td>10</td>\n",
              "    </tr>\n",
              "  </tbody>\n",
              "</table>\n",
              "</div><br><label><b>dtype:</b> int64</label>"
            ]
          },
          "metadata": {},
          "execution_count": 71
        }
      ]
    },
    {
      "cell_type": "code",
      "source": [
        "from sklearn.preprocessing import MinMaxScaler\n",
        "\n",
        "# Initialize the MinMaxScaler\n",
        "scaler = MinMaxScaler()\n",
        "\n",
        "# Reshape the data (as it should be a 2D array for scaling)\n",
        "data['cons.conf.idx_normalized'] = scaler.fit_transform(data[['cons.conf.idx']])\n",
        "\n",
        "# Check the normalized values\n",
        "print(data[['cons.conf.idx', 'cons.conf.idx_normalized']].head())\n"
      ],
      "metadata": {
        "colab": {
          "base_uri": "https://localhost:8080/"
        },
        "id": "AkwqY3AMsTQB",
        "outputId": "8dff3a7c-a259-4db9-ea37-9f8843a4fccf"
      },
      "id": "AkwqY3AMsTQB",
      "execution_count": 72,
      "outputs": [
        {
          "output_type": "stream",
          "name": "stdout",
          "text": [
            "   cons.conf.idx  cons.conf.idx_normalized\n",
            "0          -36.4                   0.60251\n",
            "1          -36.4                   0.60251\n",
            "2          -36.4                   0.60251\n",
            "3          -36.4                   0.60251\n",
            "4          -36.4                   0.60251\n"
          ]
        }
      ]
    },
    {
      "cell_type": "code",
      "source": [
        "# Drop the 'cons.conf.idx' column\n",
        "data = data.drop(columns=['cons.conf.idx'])\n",
        "print(data.head())"
      ],
      "metadata": {
        "colab": {
          "base_uri": "https://localhost:8080/"
        },
        "id": "eHtEd9_MsX6L",
        "outputId": "52dfc328-d650-4ce2-92e9-afa0168d2555"
      },
      "id": "eHtEd9_MsX6L",
      "execution_count": 73,
      "outputs": [
        {
          "output_type": "stream",
          "name": "stdout",
          "text": [
            "        age  duration  campaign  emp.var.rate  cons.price.idx  euribor3m  \\\n",
            "0  0.750000  0.053070       0.0      0.636472        0.698753      4.857   \n",
            "1  0.769231  0.030297       0.0      0.636472        0.698753      4.857   \n",
            "2  0.384615  0.045954       0.0      0.636472        0.698753      4.857   \n",
            "3  0.442308  0.030704       0.0      0.636472        0.698753      4.857   \n",
            "4  0.750000  0.062424       0.0      0.636472        0.698753      4.857   \n",
            "\n",
            "   nr.employed   y  job_admin.  job_blue-collar  ...  month_aug  month_dec  \\\n",
            "0       5191.0  no       False            False  ...      False      False   \n",
            "1       5191.0  no       False            False  ...      False      False   \n",
            "2       5191.0  no       False            False  ...      False      False   \n",
            "3       5191.0  no        True            False  ...      False      False   \n",
            "4       5191.0  no       False            False  ...      False      False   \n",
            "\n",
            "   month_jul  month_jun  month_mar  month_may  month_nov  month_oct  \\\n",
            "0      False      False      False       True      False      False   \n",
            "1      False      False      False       True      False      False   \n",
            "2      False      False      False       True      False      False   \n",
            "3      False      False      False       True      False      False   \n",
            "4      False      False      False       True      False      False   \n",
            "\n",
            "   month_sep  cons.conf.idx_normalized  \n",
            "0      False                   0.60251  \n",
            "1      False                   0.60251  \n",
            "2      False                   0.60251  \n",
            "3      False                   0.60251  \n",
            "4      False                   0.60251  \n",
            "\n",
            "[5 rows x 45 columns]\n"
          ]
        }
      ]
    },
    {
      "cell_type": "markdown",
      "source": [
        "## **euribor3m**"
      ],
      "metadata": {
        "id": "_XRKTvivtQeh"
      },
      "id": "_XRKTvivtQeh"
    },
    {
      "cell_type": "code",
      "source": [
        "\n",
        "data[\"euribor3m\"].value_counts()"
      ],
      "metadata": {
        "colab": {
          "base_uri": "https://localhost:8080/",
          "height": 0
        },
        "id": "kEEcn3ApQyO7",
        "outputId": "ee8dc8ac-8672-4088-a289-5f2ed58d7707"
      },
      "id": "kEEcn3ApQyO7",
      "execution_count": 74,
      "outputs": [
        {
          "output_type": "execute_result",
          "data": {
            "text/plain": [
              "euribor3m\n",
              "4.857    2868\n",
              "4.962    2613\n",
              "4.963    2487\n",
              "4.961    1902\n",
              "4.856    1210\n",
              "         ... \n",
              "3.743       1\n",
              "3.282       1\n",
              "3.669       1\n",
              "3.488       1\n",
              "0.956       1\n",
              "Name: count, Length: 316, dtype: int64"
            ],
            "text/html": [
              "<div>\n",
              "<style scoped>\n",
              "    .dataframe tbody tr th:only-of-type {\n",
              "        vertical-align: middle;\n",
              "    }\n",
              "\n",
              "    .dataframe tbody tr th {\n",
              "        vertical-align: top;\n",
              "    }\n",
              "\n",
              "    .dataframe thead th {\n",
              "        text-align: right;\n",
              "    }\n",
              "</style>\n",
              "<table border=\"1\" class=\"dataframe\">\n",
              "  <thead>\n",
              "    <tr style=\"text-align: right;\">\n",
              "      <th></th>\n",
              "      <th>count</th>\n",
              "    </tr>\n",
              "    <tr>\n",
              "      <th>euribor3m</th>\n",
              "      <th></th>\n",
              "    </tr>\n",
              "  </thead>\n",
              "  <tbody>\n",
              "    <tr>\n",
              "      <th>4.857</th>\n",
              "      <td>2868</td>\n",
              "    </tr>\n",
              "    <tr>\n",
              "      <th>4.962</th>\n",
              "      <td>2613</td>\n",
              "    </tr>\n",
              "    <tr>\n",
              "      <th>4.963</th>\n",
              "      <td>2487</td>\n",
              "    </tr>\n",
              "    <tr>\n",
              "      <th>4.961</th>\n",
              "      <td>1902</td>\n",
              "    </tr>\n",
              "    <tr>\n",
              "      <th>4.856</th>\n",
              "      <td>1210</td>\n",
              "    </tr>\n",
              "    <tr>\n",
              "      <th>...</th>\n",
              "      <td>...</td>\n",
              "    </tr>\n",
              "    <tr>\n",
              "      <th>3.743</th>\n",
              "      <td>1</td>\n",
              "    </tr>\n",
              "    <tr>\n",
              "      <th>3.282</th>\n",
              "      <td>1</td>\n",
              "    </tr>\n",
              "    <tr>\n",
              "      <th>3.669</th>\n",
              "      <td>1</td>\n",
              "    </tr>\n",
              "    <tr>\n",
              "      <th>3.488</th>\n",
              "      <td>1</td>\n",
              "    </tr>\n",
              "    <tr>\n",
              "      <th>0.956</th>\n",
              "      <td>1</td>\n",
              "    </tr>\n",
              "  </tbody>\n",
              "</table>\n",
              "<p>316 rows × 1 columns</p>\n",
              "</div><br><label><b>dtype:</b> int64</label>"
            ]
          },
          "metadata": {},
          "execution_count": 74
        }
      ]
    },
    {
      "cell_type": "code",
      "source": [
        "from sklearn.preprocessing import MinMaxScaler\n",
        "\n",
        "# Initialize the MinMaxScaler\n",
        "scaler = MinMaxScaler()\n",
        "\n",
        "# Reshape the data (since MinMaxScaler expects 2D data)\n",
        "data['euribor3m_normalized'] = scaler.fit_transform(data[['euribor3m']])\n",
        "\n",
        "# Check the normalized values\n",
        "print(data[['euribor3m', 'euribor3m_normalized']].head())\n"
      ],
      "metadata": {
        "colab": {
          "base_uri": "https://localhost:8080/"
        },
        "id": "q8SQqHuns2AQ",
        "outputId": "e7267762-626a-437c-cbc7-f24018226562"
      },
      "id": "q8SQqHuns2AQ",
      "execution_count": 75,
      "outputs": [
        {
          "output_type": "stream",
          "name": "stdout",
          "text": [
            "   euribor3m  euribor3m_normalized\n",
            "0      4.857              0.957379\n",
            "1      4.857              0.957379\n",
            "2      4.857              0.957379\n",
            "3      4.857              0.957379\n",
            "4      4.857              0.957379\n"
          ]
        }
      ]
    },
    {
      "cell_type": "code",
      "source": [
        "# Drop the 'euribor3m' column\n",
        "data = data.drop(columns=['euribor3m'])\n",
        "print(data.head())"
      ],
      "metadata": {
        "colab": {
          "base_uri": "https://localhost:8080/"
        },
        "id": "-o9Kys8ItI1H",
        "outputId": "ca3b718f-533c-4de2-b154-1a7722e7061d"
      },
      "id": "-o9Kys8ItI1H",
      "execution_count": 76,
      "outputs": [
        {
          "output_type": "stream",
          "name": "stdout",
          "text": [
            "        age  duration  campaign  emp.var.rate  cons.price.idx  nr.employed  \\\n",
            "0  0.750000  0.053070       0.0      0.636472        0.698753       5191.0   \n",
            "1  0.769231  0.030297       0.0      0.636472        0.698753       5191.0   \n",
            "2  0.384615  0.045954       0.0      0.636472        0.698753       5191.0   \n",
            "3  0.442308  0.030704       0.0      0.636472        0.698753       5191.0   \n",
            "4  0.750000  0.062424       0.0      0.636472        0.698753       5191.0   \n",
            "\n",
            "    y  job_admin.  job_blue-collar  job_entrepreneur  ...  month_dec  \\\n",
            "0  no       False            False             False  ...      False   \n",
            "1  no       False            False             False  ...      False   \n",
            "2  no       False            False             False  ...      False   \n",
            "3  no        True            False             False  ...      False   \n",
            "4  no       False            False             False  ...      False   \n",
            "\n",
            "   month_jul  month_jun  month_mar  month_may  month_nov  month_oct  \\\n",
            "0      False      False      False       True      False      False   \n",
            "1      False      False      False       True      False      False   \n",
            "2      False      False      False       True      False      False   \n",
            "3      False      False      False       True      False      False   \n",
            "4      False      False      False       True      False      False   \n",
            "\n",
            "   month_sep  cons.conf.idx_normalized  euribor3m_normalized  \n",
            "0      False                   0.60251              0.957379  \n",
            "1      False                   0.60251              0.957379  \n",
            "2      False                   0.60251              0.957379  \n",
            "3      False                   0.60251              0.957379  \n",
            "4      False                   0.60251              0.957379  \n",
            "\n",
            "[5 rows x 45 columns]\n"
          ]
        }
      ]
    },
    {
      "cell_type": "markdown",
      "source": [
        "## **nr.employed**"
      ],
      "metadata": {
        "id": "OHZAXLtguISd"
      },
      "id": "OHZAXLtguISd"
    },
    {
      "cell_type": "code",
      "source": [
        "\n",
        "data[\"nr.employed\"].value_counts()"
      ],
      "metadata": {
        "colab": {
          "base_uri": "https://localhost:8080/",
          "height": 0
        },
        "id": "6by_DflYQxkC",
        "outputId": "cb0d6573-9fda-4b0c-8d48-6e37aebb8096"
      },
      "id": "6by_DflYQxkC",
      "execution_count": 77,
      "outputs": [
        {
          "output_type": "execute_result",
          "data": {
            "text/plain": [
              "nr.employed\n",
              "5228.1    16234\n",
              "5099.1     8457\n",
              "5191.0     7763\n",
              "5195.8     3683\n",
              "5076.2     1591\n",
              "5017.5      949\n",
              "4991.6      708\n",
              "4963.6      593\n",
              "5008.7      581\n",
              "5023.5      150\n",
              "5176.3       10\n",
              "Name: count, dtype: int64"
            ],
            "text/html": [
              "<div>\n",
              "<style scoped>\n",
              "    .dataframe tbody tr th:only-of-type {\n",
              "        vertical-align: middle;\n",
              "    }\n",
              "\n",
              "    .dataframe tbody tr th {\n",
              "        vertical-align: top;\n",
              "    }\n",
              "\n",
              "    .dataframe thead th {\n",
              "        text-align: right;\n",
              "    }\n",
              "</style>\n",
              "<table border=\"1\" class=\"dataframe\">\n",
              "  <thead>\n",
              "    <tr style=\"text-align: right;\">\n",
              "      <th></th>\n",
              "      <th>count</th>\n",
              "    </tr>\n",
              "    <tr>\n",
              "      <th>nr.employed</th>\n",
              "      <th></th>\n",
              "    </tr>\n",
              "  </thead>\n",
              "  <tbody>\n",
              "    <tr>\n",
              "      <th>5228.1</th>\n",
              "      <td>16234</td>\n",
              "    </tr>\n",
              "    <tr>\n",
              "      <th>5099.1</th>\n",
              "      <td>8457</td>\n",
              "    </tr>\n",
              "    <tr>\n",
              "      <th>5191.0</th>\n",
              "      <td>7763</td>\n",
              "    </tr>\n",
              "    <tr>\n",
              "      <th>5195.8</th>\n",
              "      <td>3683</td>\n",
              "    </tr>\n",
              "    <tr>\n",
              "      <th>5076.2</th>\n",
              "      <td>1591</td>\n",
              "    </tr>\n",
              "    <tr>\n",
              "      <th>5017.5</th>\n",
              "      <td>949</td>\n",
              "    </tr>\n",
              "    <tr>\n",
              "      <th>4991.6</th>\n",
              "      <td>708</td>\n",
              "    </tr>\n",
              "    <tr>\n",
              "      <th>4963.6</th>\n",
              "      <td>593</td>\n",
              "    </tr>\n",
              "    <tr>\n",
              "      <th>5008.7</th>\n",
              "      <td>581</td>\n",
              "    </tr>\n",
              "    <tr>\n",
              "      <th>5023.5</th>\n",
              "      <td>150</td>\n",
              "    </tr>\n",
              "    <tr>\n",
              "      <th>5176.3</th>\n",
              "      <td>10</td>\n",
              "    </tr>\n",
              "  </tbody>\n",
              "</table>\n",
              "</div><br><label><b>dtype:</b> int64</label>"
            ]
          },
          "metadata": {},
          "execution_count": 77
        }
      ]
    },
    {
      "cell_type": "code",
      "source": [
        "from sklearn.preprocessing import MinMaxScaler\n",
        "\n",
        "# Initialize the MinMaxScaler\n",
        "scaler = MinMaxScaler()\n",
        "\n",
        "# Reshape the data (since MinMaxScaler expects 2D data)\n",
        "data['nr.employed_normalized'] = scaler.fit_transform(data[['nr.employed']])\n",
        "\n",
        "# Check the normalized values\n",
        "print(data[['nr.employed', 'nr.employed_normalized']].head())\n"
      ],
      "metadata": {
        "colab": {
          "base_uri": "https://localhost:8080/"
        },
        "id": "Huj0xvcatp4D",
        "outputId": "2f2d8c24-a3e3-4b6e-c26a-be37eb3290bd"
      },
      "id": "Huj0xvcatp4D",
      "execution_count": 78,
      "outputs": [
        {
          "output_type": "stream",
          "name": "stdout",
          "text": [
            "   nr.employed  nr.employed_normalized\n",
            "0       5191.0                0.859735\n",
            "1       5191.0                0.859735\n",
            "2       5191.0                0.859735\n",
            "3       5191.0                0.859735\n",
            "4       5191.0                0.859735\n"
          ]
        }
      ]
    },
    {
      "cell_type": "code",
      "source": [
        "# Drop the 'nr.employed' column\n",
        "data = data.drop(columns=['nr.employed'])\n",
        "print(data.head())"
      ],
      "metadata": {
        "colab": {
          "base_uri": "https://localhost:8080/"
        },
        "id": "CVXVNzLwtuPW",
        "outputId": "bdbf31ff-6500-4df0-9b59-366e22f11880"
      },
      "id": "CVXVNzLwtuPW",
      "execution_count": 79,
      "outputs": [
        {
          "output_type": "stream",
          "name": "stdout",
          "text": [
            "        age  duration  campaign  emp.var.rate  cons.price.idx   y  job_admin.  \\\n",
            "0  0.750000  0.053070       0.0      0.636472        0.698753  no       False   \n",
            "1  0.769231  0.030297       0.0      0.636472        0.698753  no       False   \n",
            "2  0.384615  0.045954       0.0      0.636472        0.698753  no       False   \n",
            "3  0.442308  0.030704       0.0      0.636472        0.698753  no        True   \n",
            "4  0.750000  0.062424       0.0      0.636472        0.698753  no       False   \n",
            "\n",
            "   job_blue-collar  job_entrepreneur  job_housemaid  ...  month_jul  \\\n",
            "0            False             False           True  ...      False   \n",
            "1            False             False          False  ...      False   \n",
            "2            False             False          False  ...      False   \n",
            "3            False             False          False  ...      False   \n",
            "4            False             False          False  ...      False   \n",
            "\n",
            "   month_jun  month_mar  month_may  month_nov  month_oct  month_sep  \\\n",
            "0      False      False       True      False      False      False   \n",
            "1      False      False       True      False      False      False   \n",
            "2      False      False       True      False      False      False   \n",
            "3      False      False       True      False      False      False   \n",
            "4      False      False       True      False      False      False   \n",
            "\n",
            "   cons.conf.idx_normalized  euribor3m_normalized  nr.employed_normalized  \n",
            "0                   0.60251              0.957379                0.859735  \n",
            "1                   0.60251              0.957379                0.859735  \n",
            "2                   0.60251              0.957379                0.859735  \n",
            "3                   0.60251              0.957379                0.859735  \n",
            "4                   0.60251              0.957379                0.859735  \n",
            "\n",
            "[5 rows x 45 columns]\n"
          ]
        }
      ]
    },
    {
      "cell_type": "markdown",
      "source": [
        "## **Y**"
      ],
      "metadata": {
        "id": "0dgU_GLH7FgL"
      },
      "id": "0dgU_GLH7FgL"
    },
    {
      "cell_type": "code",
      "source": [
        "# Encode the 'y' column\n",
        "data['y'] = data['y'].map({'yes': 1, 'no': 0})\n",
        "\n",
        "# Verify the encoding\n",
        "print(data['y'].value_counts())\n"
      ],
      "metadata": {
        "id": "KGJNZ73r7EcS",
        "outputId": "afa00d9e-24ec-47ce-da2b-fd062aa85452",
        "colab": {
          "base_uri": "https://localhost:8080/"
        }
      },
      "id": "KGJNZ73r7EcS",
      "execution_count": 80,
      "outputs": [
        {
          "output_type": "stream",
          "name": "stdout",
          "text": [
            "y\n",
            "0    36300\n",
            "1     4419\n",
            "Name: count, dtype: int64\n"
          ]
        }
      ]
    },
    {
      "cell_type": "markdown",
      "source": [
        "## **After Colum wised prepoesed**"
      ],
      "metadata": {
        "id": "NY9D26gV4EY8"
      },
      "id": "NY9D26gV4EY8"
    },
    {
      "cell_type": "code",
      "source": [
        "data"
      ],
      "metadata": {
        "colab": {
          "base_uri": "https://localhost:8080/",
          "height": 0
        },
        "id": "YTZN_9HDt0_p",
        "outputId": "1c8aab27-890f-431d-d06d-f7ac73d8ef02"
      },
      "id": "YTZN_9HDt0_p",
      "execution_count": 81,
      "outputs": [
        {
          "output_type": "execute_result",
          "data": {
            "text/plain": [
              "            age  duration  campaign  emp.var.rate  cons.price.idx  y  \\\n",
              "0      0.750000  0.053070  0.000000      0.636472        0.698753  0   \n",
              "1      0.769231  0.030297  0.000000      0.636472        0.698753  0   \n",
              "2      0.384615  0.045954  0.000000      0.636472        0.698753  0   \n",
              "3      0.442308  0.030704  0.000000      0.636472        0.698753  0   \n",
              "4      0.750000  0.062424  0.000000      0.636472        0.698753  0   \n",
              "...         ...       ...       ...           ...             ... ..   \n",
              "41181  0.384615  0.057137  0.000000     -0.778005        1.000000  1   \n",
              "41182  0.230769  0.022773  0.000000     -0.778005        1.000000  0   \n",
              "41184  0.557692  0.077877  0.000000     -0.778005        1.000000  0   \n",
              "41185  0.750000  0.038430  0.018182     -0.778005        1.000000  0   \n",
              "41186  0.519231  0.089874  0.000000     -0.778005        1.000000  1   \n",
              "\n",
              "       job_admin.  job_blue-collar  job_entrepreneur  job_housemaid  ...  \\\n",
              "0           False            False             False           True  ...   \n",
              "1           False            False             False          False  ...   \n",
              "2           False            False             False          False  ...   \n",
              "3            True            False             False          False  ...   \n",
              "4           False            False             False          False  ...   \n",
              "...           ...              ...               ...            ...  ...   \n",
              "41181        True            False             False          False  ...   \n",
              "41182       False            False             False          False  ...   \n",
              "41184       False             True             False          False  ...   \n",
              "41185       False            False             False          False  ...   \n",
              "41186       False            False             False          False  ...   \n",
              "\n",
              "       month_jul  month_jun  month_mar  month_may  month_nov  month_oct  \\\n",
              "0          False      False      False       True      False      False   \n",
              "1          False      False      False       True      False      False   \n",
              "2          False      False      False       True      False      False   \n",
              "3          False      False      False       True      False      False   \n",
              "4          False      False      False       True      False      False   \n",
              "...          ...        ...        ...        ...        ...        ...   \n",
              "41181      False      False      False      False       True      False   \n",
              "41182      False      False      False      False       True      False   \n",
              "41184      False      False      False      False       True      False   \n",
              "41185      False      False      False      False       True      False   \n",
              "41186      False      False      False      False       True      False   \n",
              "\n",
              "       month_sep  cons.conf.idx_normalized  euribor3m_normalized  \\\n",
              "0          False                   0.60251              0.957379   \n",
              "1          False                   0.60251              0.957379   \n",
              "2          False                   0.60251              0.957379   \n",
              "3          False                   0.60251              0.957379   \n",
              "4          False                   0.60251              0.957379   \n",
              "...          ...                       ...                   ...   \n",
              "41181      False                   0.00000              0.089322   \n",
              "41182      False                   0.00000              0.089322   \n",
              "41184      False                   0.00000              0.089322   \n",
              "41185      False                   0.00000              0.089322   \n",
              "41186      False                   0.00000              0.089322   \n",
              "\n",
              "       nr.employed_normalized  \n",
              "0                    0.859735  \n",
              "1                    0.859735  \n",
              "2                    0.859735  \n",
              "3                    0.859735  \n",
              "4                    0.859735  \n",
              "...                       ...  \n",
              "41181                0.000000  \n",
              "41182                0.000000  \n",
              "41184                0.000000  \n",
              "41185                0.000000  \n",
              "41186                0.000000  \n",
              "\n",
              "[40719 rows x 45 columns]"
            ],
            "text/html": [
              "\n",
              "  <div id=\"df-3712f92d-2fc7-4e2b-9fca-dbf40003a26d\" class=\"colab-df-container\">\n",
              "    <div>\n",
              "<style scoped>\n",
              "    .dataframe tbody tr th:only-of-type {\n",
              "        vertical-align: middle;\n",
              "    }\n",
              "\n",
              "    .dataframe tbody tr th {\n",
              "        vertical-align: top;\n",
              "    }\n",
              "\n",
              "    .dataframe thead th {\n",
              "        text-align: right;\n",
              "    }\n",
              "</style>\n",
              "<table border=\"1\" class=\"dataframe\">\n",
              "  <thead>\n",
              "    <tr style=\"text-align: right;\">\n",
              "      <th></th>\n",
              "      <th>age</th>\n",
              "      <th>duration</th>\n",
              "      <th>campaign</th>\n",
              "      <th>emp.var.rate</th>\n",
              "      <th>cons.price.idx</th>\n",
              "      <th>y</th>\n",
              "      <th>job_admin.</th>\n",
              "      <th>job_blue-collar</th>\n",
              "      <th>job_entrepreneur</th>\n",
              "      <th>job_housemaid</th>\n",
              "      <th>...</th>\n",
              "      <th>month_jul</th>\n",
              "      <th>month_jun</th>\n",
              "      <th>month_mar</th>\n",
              "      <th>month_may</th>\n",
              "      <th>month_nov</th>\n",
              "      <th>month_oct</th>\n",
              "      <th>month_sep</th>\n",
              "      <th>cons.conf.idx_normalized</th>\n",
              "      <th>euribor3m_normalized</th>\n",
              "      <th>nr.employed_normalized</th>\n",
              "    </tr>\n",
              "  </thead>\n",
              "  <tbody>\n",
              "    <tr>\n",
              "      <th>0</th>\n",
              "      <td>0.750000</td>\n",
              "      <td>0.053070</td>\n",
              "      <td>0.000000</td>\n",
              "      <td>0.636472</td>\n",
              "      <td>0.698753</td>\n",
              "      <td>0</td>\n",
              "      <td>False</td>\n",
              "      <td>False</td>\n",
              "      <td>False</td>\n",
              "      <td>True</td>\n",
              "      <td>...</td>\n",
              "      <td>False</td>\n",
              "      <td>False</td>\n",
              "      <td>False</td>\n",
              "      <td>True</td>\n",
              "      <td>False</td>\n",
              "      <td>False</td>\n",
              "      <td>False</td>\n",
              "      <td>0.60251</td>\n",
              "      <td>0.957379</td>\n",
              "      <td>0.859735</td>\n",
              "    </tr>\n",
              "    <tr>\n",
              "      <th>1</th>\n",
              "      <td>0.769231</td>\n",
              "      <td>0.030297</td>\n",
              "      <td>0.000000</td>\n",
              "      <td>0.636472</td>\n",
              "      <td>0.698753</td>\n",
              "      <td>0</td>\n",
              "      <td>False</td>\n",
              "      <td>False</td>\n",
              "      <td>False</td>\n",
              "      <td>False</td>\n",
              "      <td>...</td>\n",
              "      <td>False</td>\n",
              "      <td>False</td>\n",
              "      <td>False</td>\n",
              "      <td>True</td>\n",
              "      <td>False</td>\n",
              "      <td>False</td>\n",
              "      <td>False</td>\n",
              "      <td>0.60251</td>\n",
              "      <td>0.957379</td>\n",
              "      <td>0.859735</td>\n",
              "    </tr>\n",
              "    <tr>\n",
              "      <th>2</th>\n",
              "      <td>0.384615</td>\n",
              "      <td>0.045954</td>\n",
              "      <td>0.000000</td>\n",
              "      <td>0.636472</td>\n",
              "      <td>0.698753</td>\n",
              "      <td>0</td>\n",
              "      <td>False</td>\n",
              "      <td>False</td>\n",
              "      <td>False</td>\n",
              "      <td>False</td>\n",
              "      <td>...</td>\n",
              "      <td>False</td>\n",
              "      <td>False</td>\n",
              "      <td>False</td>\n",
              "      <td>True</td>\n",
              "      <td>False</td>\n",
              "      <td>False</td>\n",
              "      <td>False</td>\n",
              "      <td>0.60251</td>\n",
              "      <td>0.957379</td>\n",
              "      <td>0.859735</td>\n",
              "    </tr>\n",
              "    <tr>\n",
              "      <th>3</th>\n",
              "      <td>0.442308</td>\n",
              "      <td>0.030704</td>\n",
              "      <td>0.000000</td>\n",
              "      <td>0.636472</td>\n",
              "      <td>0.698753</td>\n",
              "      <td>0</td>\n",
              "      <td>True</td>\n",
              "      <td>False</td>\n",
              "      <td>False</td>\n",
              "      <td>False</td>\n",
              "      <td>...</td>\n",
              "      <td>False</td>\n",
              "      <td>False</td>\n",
              "      <td>False</td>\n",
              "      <td>True</td>\n",
              "      <td>False</td>\n",
              "      <td>False</td>\n",
              "      <td>False</td>\n",
              "      <td>0.60251</td>\n",
              "      <td>0.957379</td>\n",
              "      <td>0.859735</td>\n",
              "    </tr>\n",
              "    <tr>\n",
              "      <th>4</th>\n",
              "      <td>0.750000</td>\n",
              "      <td>0.062424</td>\n",
              "      <td>0.000000</td>\n",
              "      <td>0.636472</td>\n",
              "      <td>0.698753</td>\n",
              "      <td>0</td>\n",
              "      <td>False</td>\n",
              "      <td>False</td>\n",
              "      <td>False</td>\n",
              "      <td>False</td>\n",
              "      <td>...</td>\n",
              "      <td>False</td>\n",
              "      <td>False</td>\n",
              "      <td>False</td>\n",
              "      <td>True</td>\n",
              "      <td>False</td>\n",
              "      <td>False</td>\n",
              "      <td>False</td>\n",
              "      <td>0.60251</td>\n",
              "      <td>0.957379</td>\n",
              "      <td>0.859735</td>\n",
              "    </tr>\n",
              "    <tr>\n",
              "      <th>...</th>\n",
              "      <td>...</td>\n",
              "      <td>...</td>\n",
              "      <td>...</td>\n",
              "      <td>...</td>\n",
              "      <td>...</td>\n",
              "      <td>...</td>\n",
              "      <td>...</td>\n",
              "      <td>...</td>\n",
              "      <td>...</td>\n",
              "      <td>...</td>\n",
              "      <td>...</td>\n",
              "      <td>...</td>\n",
              "      <td>...</td>\n",
              "      <td>...</td>\n",
              "      <td>...</td>\n",
              "      <td>...</td>\n",
              "      <td>...</td>\n",
              "      <td>...</td>\n",
              "      <td>...</td>\n",
              "      <td>...</td>\n",
              "      <td>...</td>\n",
              "    </tr>\n",
              "    <tr>\n",
              "      <th>41181</th>\n",
              "      <td>0.384615</td>\n",
              "      <td>0.057137</td>\n",
              "      <td>0.000000</td>\n",
              "      <td>-0.778005</td>\n",
              "      <td>1.000000</td>\n",
              "      <td>1</td>\n",
              "      <td>True</td>\n",
              "      <td>False</td>\n",
              "      <td>False</td>\n",
              "      <td>False</td>\n",
              "      <td>...</td>\n",
              "      <td>False</td>\n",
              "      <td>False</td>\n",
              "      <td>False</td>\n",
              "      <td>False</td>\n",
              "      <td>True</td>\n",
              "      <td>False</td>\n",
              "      <td>False</td>\n",
              "      <td>0.00000</td>\n",
              "      <td>0.089322</td>\n",
              "      <td>0.000000</td>\n",
              "    </tr>\n",
              "    <tr>\n",
              "      <th>41182</th>\n",
              "      <td>0.230769</td>\n",
              "      <td>0.022773</td>\n",
              "      <td>0.000000</td>\n",
              "      <td>-0.778005</td>\n",
              "      <td>1.000000</td>\n",
              "      <td>0</td>\n",
              "      <td>False</td>\n",
              "      <td>False</td>\n",
              "      <td>False</td>\n",
              "      <td>False</td>\n",
              "      <td>...</td>\n",
              "      <td>False</td>\n",
              "      <td>False</td>\n",
              "      <td>False</td>\n",
              "      <td>False</td>\n",
              "      <td>True</td>\n",
              "      <td>False</td>\n",
              "      <td>False</td>\n",
              "      <td>0.00000</td>\n",
              "      <td>0.089322</td>\n",
              "      <td>0.000000</td>\n",
              "    </tr>\n",
              "    <tr>\n",
              "      <th>41184</th>\n",
              "      <td>0.557692</td>\n",
              "      <td>0.077877</td>\n",
              "      <td>0.000000</td>\n",
              "      <td>-0.778005</td>\n",
              "      <td>1.000000</td>\n",
              "      <td>0</td>\n",
              "      <td>False</td>\n",
              "      <td>True</td>\n",
              "      <td>False</td>\n",
              "      <td>False</td>\n",
              "      <td>...</td>\n",
              "      <td>False</td>\n",
              "      <td>False</td>\n",
              "      <td>False</td>\n",
              "      <td>False</td>\n",
              "      <td>True</td>\n",
              "      <td>False</td>\n",
              "      <td>False</td>\n",
              "      <td>0.00000</td>\n",
              "      <td>0.089322</td>\n",
              "      <td>0.000000</td>\n",
              "    </tr>\n",
              "    <tr>\n",
              "      <th>41185</th>\n",
              "      <td>0.750000</td>\n",
              "      <td>0.038430</td>\n",
              "      <td>0.018182</td>\n",
              "      <td>-0.778005</td>\n",
              "      <td>1.000000</td>\n",
              "      <td>0</td>\n",
              "      <td>False</td>\n",
              "      <td>False</td>\n",
              "      <td>False</td>\n",
              "      <td>False</td>\n",
              "      <td>...</td>\n",
              "      <td>False</td>\n",
              "      <td>False</td>\n",
              "      <td>False</td>\n",
              "      <td>False</td>\n",
              "      <td>True</td>\n",
              "      <td>False</td>\n",
              "      <td>False</td>\n",
              "      <td>0.00000</td>\n",
              "      <td>0.089322</td>\n",
              "      <td>0.000000</td>\n",
              "    </tr>\n",
              "    <tr>\n",
              "      <th>41186</th>\n",
              "      <td>0.519231</td>\n",
              "      <td>0.089874</td>\n",
              "      <td>0.000000</td>\n",
              "      <td>-0.778005</td>\n",
              "      <td>1.000000</td>\n",
              "      <td>1</td>\n",
              "      <td>False</td>\n",
              "      <td>False</td>\n",
              "      <td>False</td>\n",
              "      <td>False</td>\n",
              "      <td>...</td>\n",
              "      <td>False</td>\n",
              "      <td>False</td>\n",
              "      <td>False</td>\n",
              "      <td>False</td>\n",
              "      <td>True</td>\n",
              "      <td>False</td>\n",
              "      <td>False</td>\n",
              "      <td>0.00000</td>\n",
              "      <td>0.089322</td>\n",
              "      <td>0.000000</td>\n",
              "    </tr>\n",
              "  </tbody>\n",
              "</table>\n",
              "<p>40719 rows × 45 columns</p>\n",
              "</div>\n",
              "    <div class=\"colab-df-buttons\">\n",
              "\n",
              "  <div class=\"colab-df-container\">\n",
              "    <button class=\"colab-df-convert\" onclick=\"convertToInteractive('df-3712f92d-2fc7-4e2b-9fca-dbf40003a26d')\"\n",
              "            title=\"Convert this dataframe to an interactive table.\"\n",
              "            style=\"display:none;\">\n",
              "\n",
              "  <svg xmlns=\"http://www.w3.org/2000/svg\" height=\"24px\" viewBox=\"0 -960 960 960\">\n",
              "    <path d=\"M120-120v-720h720v720H120Zm60-500h600v-160H180v160Zm220 220h160v-160H400v160Zm0 220h160v-160H400v160ZM180-400h160v-160H180v160Zm440 0h160v-160H620v160ZM180-180h160v-160H180v160Zm440 0h160v-160H620v160Z\"/>\n",
              "  </svg>\n",
              "    </button>\n",
              "\n",
              "  <style>\n",
              "    .colab-df-container {\n",
              "      display:flex;\n",
              "      gap: 12px;\n",
              "    }\n",
              "\n",
              "    .colab-df-convert {\n",
              "      background-color: #E8F0FE;\n",
              "      border: none;\n",
              "      border-radius: 50%;\n",
              "      cursor: pointer;\n",
              "      display: none;\n",
              "      fill: #1967D2;\n",
              "      height: 32px;\n",
              "      padding: 0 0 0 0;\n",
              "      width: 32px;\n",
              "    }\n",
              "\n",
              "    .colab-df-convert:hover {\n",
              "      background-color: #E2EBFA;\n",
              "      box-shadow: 0px 1px 2px rgba(60, 64, 67, 0.3), 0px 1px 3px 1px rgba(60, 64, 67, 0.15);\n",
              "      fill: #174EA6;\n",
              "    }\n",
              "\n",
              "    .colab-df-buttons div {\n",
              "      margin-bottom: 4px;\n",
              "    }\n",
              "\n",
              "    [theme=dark] .colab-df-convert {\n",
              "      background-color: #3B4455;\n",
              "      fill: #D2E3FC;\n",
              "    }\n",
              "\n",
              "    [theme=dark] .colab-df-convert:hover {\n",
              "      background-color: #434B5C;\n",
              "      box-shadow: 0px 1px 3px 1px rgba(0, 0, 0, 0.15);\n",
              "      filter: drop-shadow(0px 1px 2px rgba(0, 0, 0, 0.3));\n",
              "      fill: #FFFFFF;\n",
              "    }\n",
              "  </style>\n",
              "\n",
              "    <script>\n",
              "      const buttonEl =\n",
              "        document.querySelector('#df-3712f92d-2fc7-4e2b-9fca-dbf40003a26d button.colab-df-convert');\n",
              "      buttonEl.style.display =\n",
              "        google.colab.kernel.accessAllowed ? 'block' : 'none';\n",
              "\n",
              "      async function convertToInteractive(key) {\n",
              "        const element = document.querySelector('#df-3712f92d-2fc7-4e2b-9fca-dbf40003a26d');\n",
              "        const dataTable =\n",
              "          await google.colab.kernel.invokeFunction('convertToInteractive',\n",
              "                                                    [key], {});\n",
              "        if (!dataTable) return;\n",
              "\n",
              "        const docLinkHtml = 'Like what you see? Visit the ' +\n",
              "          '<a target=\"_blank\" href=https://colab.research.google.com/notebooks/data_table.ipynb>data table notebook</a>'\n",
              "          + ' to learn more about interactive tables.';\n",
              "        element.innerHTML = '';\n",
              "        dataTable['output_type'] = 'display_data';\n",
              "        await google.colab.output.renderOutput(dataTable, element);\n",
              "        const docLink = document.createElement('div');\n",
              "        docLink.innerHTML = docLinkHtml;\n",
              "        element.appendChild(docLink);\n",
              "      }\n",
              "    </script>\n",
              "  </div>\n",
              "\n",
              "\n",
              "<div id=\"df-cbdf70c3-f168-42a8-bf92-6ac235be2174\">\n",
              "  <button class=\"colab-df-quickchart\" onclick=\"quickchart('df-cbdf70c3-f168-42a8-bf92-6ac235be2174')\"\n",
              "            title=\"Suggest charts\"\n",
              "            style=\"display:none;\">\n",
              "\n",
              "<svg xmlns=\"http://www.w3.org/2000/svg\" height=\"24px\"viewBox=\"0 0 24 24\"\n",
              "     width=\"24px\">\n",
              "    <g>\n",
              "        <path d=\"M19 3H5c-1.1 0-2 .9-2 2v14c0 1.1.9 2 2 2h14c1.1 0 2-.9 2-2V5c0-1.1-.9-2-2-2zM9 17H7v-7h2v7zm4 0h-2V7h2v10zm4 0h-2v-4h2v4z\"/>\n",
              "    </g>\n",
              "</svg>\n",
              "  </button>\n",
              "\n",
              "<style>\n",
              "  .colab-df-quickchart {\n",
              "      --bg-color: #E8F0FE;\n",
              "      --fill-color: #1967D2;\n",
              "      --hover-bg-color: #E2EBFA;\n",
              "      --hover-fill-color: #174EA6;\n",
              "      --disabled-fill-color: #AAA;\n",
              "      --disabled-bg-color: #DDD;\n",
              "  }\n",
              "\n",
              "  [theme=dark] .colab-df-quickchart {\n",
              "      --bg-color: #3B4455;\n",
              "      --fill-color: #D2E3FC;\n",
              "      --hover-bg-color: #434B5C;\n",
              "      --hover-fill-color: #FFFFFF;\n",
              "      --disabled-bg-color: #3B4455;\n",
              "      --disabled-fill-color: #666;\n",
              "  }\n",
              "\n",
              "  .colab-df-quickchart {\n",
              "    background-color: var(--bg-color);\n",
              "    border: none;\n",
              "    border-radius: 50%;\n",
              "    cursor: pointer;\n",
              "    display: none;\n",
              "    fill: var(--fill-color);\n",
              "    height: 32px;\n",
              "    padding: 0;\n",
              "    width: 32px;\n",
              "  }\n",
              "\n",
              "  .colab-df-quickchart:hover {\n",
              "    background-color: var(--hover-bg-color);\n",
              "    box-shadow: 0 1px 2px rgba(60, 64, 67, 0.3), 0 1px 3px 1px rgba(60, 64, 67, 0.15);\n",
              "    fill: var(--button-hover-fill-color);\n",
              "  }\n",
              "\n",
              "  .colab-df-quickchart-complete:disabled,\n",
              "  .colab-df-quickchart-complete:disabled:hover {\n",
              "    background-color: var(--disabled-bg-color);\n",
              "    fill: var(--disabled-fill-color);\n",
              "    box-shadow: none;\n",
              "  }\n",
              "\n",
              "  .colab-df-spinner {\n",
              "    border: 2px solid var(--fill-color);\n",
              "    border-color: transparent;\n",
              "    border-bottom-color: var(--fill-color);\n",
              "    animation:\n",
              "      spin 1s steps(1) infinite;\n",
              "  }\n",
              "\n",
              "  @keyframes spin {\n",
              "    0% {\n",
              "      border-color: transparent;\n",
              "      border-bottom-color: var(--fill-color);\n",
              "      border-left-color: var(--fill-color);\n",
              "    }\n",
              "    20% {\n",
              "      border-color: transparent;\n",
              "      border-left-color: var(--fill-color);\n",
              "      border-top-color: var(--fill-color);\n",
              "    }\n",
              "    30% {\n",
              "      border-color: transparent;\n",
              "      border-left-color: var(--fill-color);\n",
              "      border-top-color: var(--fill-color);\n",
              "      border-right-color: var(--fill-color);\n",
              "    }\n",
              "    40% {\n",
              "      border-color: transparent;\n",
              "      border-right-color: var(--fill-color);\n",
              "      border-top-color: var(--fill-color);\n",
              "    }\n",
              "    60% {\n",
              "      border-color: transparent;\n",
              "      border-right-color: var(--fill-color);\n",
              "    }\n",
              "    80% {\n",
              "      border-color: transparent;\n",
              "      border-right-color: var(--fill-color);\n",
              "      border-bottom-color: var(--fill-color);\n",
              "    }\n",
              "    90% {\n",
              "      border-color: transparent;\n",
              "      border-bottom-color: var(--fill-color);\n",
              "    }\n",
              "  }\n",
              "</style>\n",
              "\n",
              "  <script>\n",
              "    async function quickchart(key) {\n",
              "      const quickchartButtonEl =\n",
              "        document.querySelector('#' + key + ' button');\n",
              "      quickchartButtonEl.disabled = true;  // To prevent multiple clicks.\n",
              "      quickchartButtonEl.classList.add('colab-df-spinner');\n",
              "      try {\n",
              "        const charts = await google.colab.kernel.invokeFunction(\n",
              "            'suggestCharts', [key], {});\n",
              "      } catch (error) {\n",
              "        console.error('Error during call to suggestCharts:', error);\n",
              "      }\n",
              "      quickchartButtonEl.classList.remove('colab-df-spinner');\n",
              "      quickchartButtonEl.classList.add('colab-df-quickchart-complete');\n",
              "    }\n",
              "    (() => {\n",
              "      let quickchartButtonEl =\n",
              "        document.querySelector('#df-cbdf70c3-f168-42a8-bf92-6ac235be2174 button');\n",
              "      quickchartButtonEl.style.display =\n",
              "        google.colab.kernel.accessAllowed ? 'block' : 'none';\n",
              "    })();\n",
              "  </script>\n",
              "</div>\n",
              "\n",
              "  <div id=\"id_945d91c8-91b1-46da-b287-c56d609e12ba\">\n",
              "    <style>\n",
              "      .colab-df-generate {\n",
              "        background-color: #E8F0FE;\n",
              "        border: none;\n",
              "        border-radius: 50%;\n",
              "        cursor: pointer;\n",
              "        display: none;\n",
              "        fill: #1967D2;\n",
              "        height: 32px;\n",
              "        padding: 0 0 0 0;\n",
              "        width: 32px;\n",
              "      }\n",
              "\n",
              "      .colab-df-generate:hover {\n",
              "        background-color: #E2EBFA;\n",
              "        box-shadow: 0px 1px 2px rgba(60, 64, 67, 0.3), 0px 1px 3px 1px rgba(60, 64, 67, 0.15);\n",
              "        fill: #174EA6;\n",
              "      }\n",
              "\n",
              "      [theme=dark] .colab-df-generate {\n",
              "        background-color: #3B4455;\n",
              "        fill: #D2E3FC;\n",
              "      }\n",
              "\n",
              "      [theme=dark] .colab-df-generate:hover {\n",
              "        background-color: #434B5C;\n",
              "        box-shadow: 0px 1px 3px 1px rgba(0, 0, 0, 0.15);\n",
              "        filter: drop-shadow(0px 1px 2px rgba(0, 0, 0, 0.3));\n",
              "        fill: #FFFFFF;\n",
              "      }\n",
              "    </style>\n",
              "    <button class=\"colab-df-generate\" onclick=\"generateWithVariable('data')\"\n",
              "            title=\"Generate code using this dataframe.\"\n",
              "            style=\"display:none;\">\n",
              "\n",
              "  <svg xmlns=\"http://www.w3.org/2000/svg\" height=\"24px\"viewBox=\"0 0 24 24\"\n",
              "       width=\"24px\">\n",
              "    <path d=\"M7,19H8.4L18.45,9,17,7.55,7,17.6ZM5,21V16.75L18.45,3.32a2,2,0,0,1,2.83,0l1.4,1.43a1.91,1.91,0,0,1,.58,1.4,1.91,1.91,0,0,1-.58,1.4L9.25,21ZM18.45,9,17,7.55Zm-12,3A5.31,5.31,0,0,0,4.9,8.1,5.31,5.31,0,0,0,1,6.5,5.31,5.31,0,0,0,4.9,4.9,5.31,5.31,0,0,0,6.5,1,5.31,5.31,0,0,0,8.1,4.9,5.31,5.31,0,0,0,12,6.5,5.46,5.46,0,0,0,6.5,12Z\"/>\n",
              "  </svg>\n",
              "    </button>\n",
              "    <script>\n",
              "      (() => {\n",
              "      const buttonEl =\n",
              "        document.querySelector('#id_945d91c8-91b1-46da-b287-c56d609e12ba button.colab-df-generate');\n",
              "      buttonEl.style.display =\n",
              "        google.colab.kernel.accessAllowed ? 'block' : 'none';\n",
              "\n",
              "      buttonEl.onclick = () => {\n",
              "        google.colab.notebook.generateWithVariable('data');\n",
              "      }\n",
              "      })();\n",
              "    </script>\n",
              "  </div>\n",
              "\n",
              "    </div>\n",
              "  </div>\n"
            ],
            "application/vnd.google.colaboratory.intrinsic+json": {
              "type": "dataframe",
              "variable_name": "data"
            }
          },
          "metadata": {},
          "execution_count": 81
        }
      ]
    },
    {
      "cell_type": "code",
      "source": [
        "# Display all columns in the DataFrame\n",
        "pd.set_option('display.max_columns', None)  # Show all columns\n",
        "print(data.head())  # Display the first few rows"
      ],
      "metadata": {
        "id": "x04wMmkV6KH_",
        "outputId": "58b01199-3809-44f7-ff19-c399849a283d",
        "colab": {
          "base_uri": "https://localhost:8080/"
        }
      },
      "id": "x04wMmkV6KH_",
      "execution_count": 82,
      "outputs": [
        {
          "output_type": "stream",
          "name": "stdout",
          "text": [
            "        age  duration  campaign  emp.var.rate  cons.price.idx  y  job_admin.  \\\n",
            "0  0.750000  0.053070       0.0      0.636472        0.698753  0       False   \n",
            "1  0.769231  0.030297       0.0      0.636472        0.698753  0       False   \n",
            "2  0.384615  0.045954       0.0      0.636472        0.698753  0       False   \n",
            "3  0.442308  0.030704       0.0      0.636472        0.698753  0        True   \n",
            "4  0.750000  0.062424       0.0      0.636472        0.698753  0       False   \n",
            "\n",
            "   job_blue-collar  job_entrepreneur  job_housemaid  job_management  \\\n",
            "0            False             False           True           False   \n",
            "1            False             False          False           False   \n",
            "2            False             False          False           False   \n",
            "3            False             False          False           False   \n",
            "4            False             False          False           False   \n",
            "\n",
            "   job_retired  job_self-employed  job_services  job_student  job_technician  \\\n",
            "0        False              False         False        False           False   \n",
            "1        False              False          True        False           False   \n",
            "2        False              False          True        False           False   \n",
            "3        False              False         False        False           False   \n",
            "4        False              False          True        False           False   \n",
            "\n",
            "   job_unemployed  job_unknown  marital_divorced  marital_married  \\\n",
            "0           False        False             False             True   \n",
            "1           False        False             False             True   \n",
            "2           False        False             False             True   \n",
            "3           False        False             False             True   \n",
            "4           False        False             False             True   \n",
            "\n",
            "   marital_single  education_basic.4y  education_basic.6y  education_basic.9y  \\\n",
            "0           False                True               False               False   \n",
            "1           False               False               False               False   \n",
            "2           False               False               False               False   \n",
            "3           False               False                True               False   \n",
            "4           False               False               False               False   \n",
            "\n",
            "   education_high.school  education_professional.course  \\\n",
            "0                  False                          False   \n",
            "1                   True                          False   \n",
            "2                   True                          False   \n",
            "3                  False                          False   \n",
            "4                   True                          False   \n",
            "\n",
            "   education_university.degree  education_unknown  housing_no  housing_yes  \\\n",
            "0                        False              False        True        False   \n",
            "1                        False              False        True        False   \n",
            "2                        False              False       False         True   \n",
            "3                        False              False        True        False   \n",
            "4                        False              False        True        False   \n",
            "\n",
            "   loan_no  loan_yes  month_apr  month_aug  month_dec  month_jul  month_jun  \\\n",
            "0     True     False      False      False      False      False      False   \n",
            "1     True     False      False      False      False      False      False   \n",
            "2     True     False      False      False      False      False      False   \n",
            "3     True     False      False      False      False      False      False   \n",
            "4    False      True      False      False      False      False      False   \n",
            "\n",
            "   month_mar  month_may  month_nov  month_oct  month_sep  \\\n",
            "0      False       True      False      False      False   \n",
            "1      False       True      False      False      False   \n",
            "2      False       True      False      False      False   \n",
            "3      False       True      False      False      False   \n",
            "4      False       True      False      False      False   \n",
            "\n",
            "   cons.conf.idx_normalized  euribor3m_normalized  nr.employed_normalized  \n",
            "0                   0.60251              0.957379                0.859735  \n",
            "1                   0.60251              0.957379                0.859735  \n",
            "2                   0.60251              0.957379                0.859735  \n",
            "3                   0.60251              0.957379                0.859735  \n",
            "4                   0.60251              0.957379                0.859735  \n"
          ]
        }
      ]
    },
    {
      "cell_type": "markdown",
      "source": [
        "## **handle data set imbalance**"
      ],
      "metadata": {
        "id": "fSaOicg37zDp"
      },
      "id": "fSaOicg37zDp"
    },
    {
      "cell_type": "code",
      "source": [
        "# Import libraries\n",
        "from imblearn.over_sampling import SMOTE\n",
        "from sklearn.model_selection import train_test_split\n",
        "\n",
        "# Split data into features (X) and target variable (y)\n",
        "X = data.drop(columns=['y'])\n",
        "y = data['y']\n",
        "\n",
        "# Split into training and testing sets\n",
        "X_train, X_test, y_train, y_test = train_test_split(X, y, test_size=0.2, random_state=42, stratify=y)\n",
        "\n",
        "# Apply SMOTE to the training set\n",
        "smote = SMOTE(random_state=42)\n",
        "X_train_resampled, y_train_resampled = smote.fit_resample(X_train, y_train)\n",
        "\n",
        "# Verify the new class distribution\n",
        "from collections import Counter\n",
        "print(\"Before SMOTE:\", Counter(y_train))\n",
        "print(\"After SMOTE:\", Counter(y_train_resampled))\n"
      ],
      "metadata": {
        "id": "4mAiCjTO74Y4",
        "outputId": "c493a426-21b6-4b2b-8403-92e7135c4474",
        "colab": {
          "base_uri": "https://localhost:8080/"
        }
      },
      "id": "4mAiCjTO74Y4",
      "execution_count": 83,
      "outputs": [
        {
          "output_type": "stream",
          "name": "stderr",
          "text": [
            "/usr/local/lib/python3.10/dist-packages/sklearn/base.py:474: FutureWarning: `BaseEstimator._validate_data` is deprecated in 1.6 and will be removed in 1.7. Use `sklearn.utils.validation.validate_data` instead. This function becomes public and is part of the scikit-learn developer API.\n",
            "  warnings.warn(\n",
            "/usr/local/lib/python3.10/dist-packages/sklearn/utils/_tags.py:354: FutureWarning: The SMOTE or classes from which it inherits use `_get_tags` and `_more_tags`. Please define the `__sklearn_tags__` method, or inherit from `sklearn.base.BaseEstimator` and/or other appropriate mixins such as `sklearn.base.TransformerMixin`, `sklearn.base.ClassifierMixin`, `sklearn.base.RegressorMixin`, and `sklearn.base.OutlierMixin`. From scikit-learn 1.7, not defining `__sklearn_tags__` will raise an error.\n",
            "  warnings.warn(\n"
          ]
        },
        {
          "output_type": "stream",
          "name": "stdout",
          "text": [
            "Before SMOTE: Counter({0: 29040, 1: 3535})\n",
            "After SMOTE: Counter({0: 29040, 1: 29040})\n"
          ]
        }
      ]
    },
    {
      "cell_type": "code",
      "source": [
        "import matplotlib.pyplot as plt\n",
        "import pandas as pd\n",
        "from collections import Counter\n",
        "\n",
        "# Before SMOTE\n",
        "original_counts = Counter(y_train)\n",
        "\n",
        "# After SMOTE\n",
        "resampled_counts = Counter(y_train_resampled)\n",
        "\n",
        "# Create a DataFrame for visualization\n",
        "df = pd.DataFrame({\n",
        "    'Class': ['No', 'Yes'],\n",
        "    'Original': [original_counts[0], original_counts[1]],\n",
        "    'After SMOTE': [resampled_counts[0], resampled_counts[1]]\n",
        "})\n",
        "\n",
        "# Plot the bar chart\n",
        "df.set_index('Class').plot(kind='bar', figsize=(8, 5), color=['skyblue', 'orange'])\n",
        "plt.title('Class Distribution Before and After SMOTE')\n",
        "plt.ylabel('Count')\n",
        "plt.xlabel('Class')\n",
        "plt.xticks(rotation=0)\n",
        "plt.grid(axis='y', linestyle='--', alpha=0.7)\n",
        "plt.legend(title='Dataset')\n",
        "plt.show()\n"
      ],
      "metadata": {
        "id": "77KxQIUN9BI0",
        "outputId": "c9b24b02-982d-49f1-af54-4dbdaa363e08",
        "colab": {
          "base_uri": "https://localhost:8080/",
          "height": 0
        }
      },
      "id": "77KxQIUN9BI0",
      "execution_count": 84,
      "outputs": [
        {
          "output_type": "display_data",
          "data": {
            "text/plain": [
              "<Figure size 800x500 with 1 Axes>"
            ],
            "image/png": "[encoded data removed]"
          },
          "metadata": {}
        }
      ]
    },
    {
      "cell_type": "code",
      "source": [
        "# Display all columns in the DataFrame\n",
        "pd.set_option('display.max_columns', None)  # Show all columns\n",
        "print(data.head())  # Display the first few rows"
      ],
      "metadata": {
        "id": "VjRHSk7i9tRR",
        "outputId": "fc3d5387-642d-4117-ed8a-111938b04874",
        "colab": {
          "base_uri": "https://localhost:8080/"
        }
      },
      "id": "VjRHSk7i9tRR",
      "execution_count": 85,
      "outputs": [
        {
          "output_type": "stream",
          "name": "stdout",
          "text": [
            "        age  duration  campaign  emp.var.rate  cons.price.idx  y  job_admin.  \\\n",
            "0  0.750000  0.053070       0.0      0.636472        0.698753  0       False   \n",
            "1  0.769231  0.030297       0.0      0.636472        0.698753  0       False   \n",
            "2  0.384615  0.045954       0.0      0.636472        0.698753  0       False   \n",
            "3  0.442308  0.030704       0.0      0.636472        0.698753  0        True   \n",
            "4  0.750000  0.062424       0.0      0.636472        0.698753  0       False   \n",
            "\n",
            "   job_blue-collar  job_entrepreneur  job_housemaid  job_management  \\\n",
            "0            False             False           True           False   \n",
            "1            False             False          False           False   \n",
            "2            False             False          False           False   \n",
            "3            False             False          False           False   \n",
            "4            False             False          False           False   \n",
            "\n",
            "   job_retired  job_self-employed  job_services  job_student  job_technician  \\\n",
            "0        False              False         False        False           False   \n",
            "1        False              False          True        False           False   \n",
            "2        False              False          True        False           False   \n",
            "3        False              False         False        False           False   \n",
            "4        False              False          True        False           False   \n",
            "\n",
            "   job_unemployed  job_unknown  marital_divorced  marital_married  \\\n",
            "0           False        False             False             True   \n",
            "1           False        False             False             True   \n",
            "2           False        False             False             True   \n",
            "3           False        False             False             True   \n",
            "4           False        False             False             True   \n",
            "\n",
            "   marital_single  education_basic.4y  education_basic.6y  education_basic.9y  \\\n",
            "0           False                True               False               False   \n",
            "1           False               False               False               False   \n",
            "2           False               False               False               False   \n",
            "3           False               False                True               False   \n",
            "4           False               False               False               False   \n",
            "\n",
            "   education_high.school  education_professional.course  \\\n",
            "0                  False                          False   \n",
            "1                   True                          False   \n",
            "2                   True                          False   \n",
            "3                  False                          False   \n",
            "4                   True                          False   \n",
            "\n",
            "   education_university.degree  education_unknown  housing_no  housing_yes  \\\n",
            "0                        False              False        True        False   \n",
            "1                        False              False        True        False   \n",
            "2                        False              False       False         True   \n",
            "3                        False              False        True        False   \n",
            "4                        False              False        True        False   \n",
            "\n",
            "   loan_no  loan_yes  month_apr  month_aug  month_dec  month_jul  month_jun  \\\n",
            "0     True     False      False      False      False      False      False   \n",
            "1     True     False      False      False      False      False      False   \n",
            "2     True     False      False      False      False      False      False   \n",
            "3     True     False      False      False      False      False      False   \n",
            "4    False      True      False      False      False      False      False   \n",
            "\n",
            "   month_mar  month_may  month_nov  month_oct  month_sep  \\\n",
            "0      False       True      False      False      False   \n",
            "1      False       True      False      False      False   \n",
            "2      False       True      False      False      False   \n",
            "3      False       True      False      False      False   \n",
            "4      False       True      False      False      False   \n",
            "\n",
            "   cons.conf.idx_normalized  euribor3m_normalized  nr.employed_normalized  \n",
            "0                   0.60251              0.957379                0.859735  \n",
            "1                   0.60251              0.957379                0.859735  \n",
            "2                   0.60251              0.957379                0.859735  \n",
            "3                   0.60251              0.957379                0.859735  \n",
            "4                   0.60251              0.957379                0.859735  \n"
          ]
        }
      ]
    },
    {
      "cell_type": "markdown",
      "source": [
        "# **Complete Analysis of Data Set**"
      ],
      "metadata": {
        "id": "tzcCkGi8VBVf"
      },
      "id": "tzcCkGi8VBVf"
    },
    {
      "cell_type": "code",
      "source": [
        "# Import necessary libraries\n",
        "import pandas as pd\n",
        "import seaborn as sns\n",
        "import matplotlib.pyplot as plt\n",
        "from collections import Counter\n"
      ],
      "metadata": {
        "id": "ZsiyNnNH_vib"
      },
      "id": "ZsiyNnNH_vib",
      "execution_count": null,
      "outputs": []
    },
    {
      "cell_type": "markdown",
      "source": [
        "## **1. Summary Statistics**"
      ],
      "metadata": {
        "id": "kHIGWAjHFsqI"
      },
      "id": "kHIGWAjHFsqI"
    },
    {
      "cell_type": "code",
      "source": [
        "# 1. Summary Statistics\n",
        "print(\"Summary Statistics for the Dataset:\")\n",
        "print(data.describe())\n"
      ],
      "metadata": {
        "id": "2_hOFe-NF1nv"
      },
      "id": "2_hOFe-NF1nv",
      "execution_count": null,
      "outputs": []
    },
    {
      "cell_type": "markdown",
      "source": [
        "## **2. Class Distribution (Before SMOTE)**"
      ],
      "metadata": {
        "id": "bSKw1rXpF3ax"
      },
      "id": "bSKw1rXpF3ax"
    },
    {
      "cell_type": "code",
      "source": [
        "# 2. Class Distribution (Before SMOTE)\n",
        "print(\"\\nClass Distribution Before SMOTE:\")\n",
        "print(Counter(y))\n"
      ],
      "metadata": {
        "id": "Fi7IycXMACjo"
      },
      "id": "Fi7IycXMACjo",
      "execution_count": null,
      "outputs": []
    },
    {
      "cell_type": "markdown",
      "source": [
        "## **3. Class Distribution (After SMOTE)**"
      ],
      "metadata": {
        "id": "-bu8RUUmGFVA"
      },
      "id": "-bu8RUUmGFVA"
    },
    {
      "cell_type": "code",
      "source": [
        "# 3. Class Distribution (After SMOTE)\n",
        "print(\"\\nClass Distribution After SMOTE:\")\n",
        "print(Counter(y_train_resampled))\n"
      ],
      "metadata": {
        "id": "DOWrhK_3AK9i"
      },
      "id": "DOWrhK_3AK9i",
      "execution_count": null,
      "outputs": []
    },
    {
      "cell_type": "markdown",
      "source": [
        "## **4. Correlation Matrix for Numeric Features**"
      ],
      "metadata": {
        "id": "OsFerEZqGQkX"
      },
      "id": "OsFerEZqGQkX"
    },
    {
      "cell_type": "code",
      "source": [
        "# 4. Correlation Matrix for Numeric Features\n",
        "correlation_matrix = data.corr()\n",
        "plt.figure(figsize=(12, 8))\n",
        "sns.heatmap(correlation_matrix, annot=True, cmap='coolwarm', fmt='.2f', linewidths=0.5)\n",
        "plt.title(\"Correlation Matrix\")\n",
        "plt.show()\n"
      ],
      "metadata": {
        "id": "qIuecdbOATU5"
      },
      "id": "qIuecdbOATU5",
      "execution_count": null,
      "outputs": []
    },
    {
      "cell_type": "markdown",
      "source": [
        "## **5. Check for Missing Values**"
      ],
      "metadata": {
        "id": "kLwVmj2nGYUa"
      },
      "id": "kLwVmj2nGYUa"
    },
    {
      "cell_type": "code",
      "source": [
        "# 5. Check for Missing Values\n",
        "missing_values = data.isnull().sum()\n",
        "print(\"\\nMissing Values in Each Column:\")\n",
        "print(missing_values[missing_values > 0])\n"
      ],
      "metadata": {
        "id": "3nZCabBeAegI"
      },
      "id": "3nZCabBeAegI",
      "execution_count": null,
      "outputs": []
    },
    {
      "cell_type": "markdown",
      "source": [
        "## **6. Distribution of the Features (Histograms)**"
      ],
      "metadata": {
        "id": "xBJGiOQlGkeD"
      },
      "id": "xBJGiOQlGkeD"
    },
    {
      "cell_type": "code",
      "source": [
        "# 6. Distribution of the Features (Histograms)\n",
        "data.hist(figsize=(14, 10), bins=20, color='skyblue', edgecolor='black')\n",
        "plt.suptitle('Distribution of Features')\n",
        "plt.show()\n"
      ],
      "metadata": {
        "id": "dN3MTB1VAmMr"
      },
      "id": "dN3MTB1VAmMr",
      "execution_count": null,
      "outputs": []
    },
    {
      "cell_type": "markdown",
      "source": [
        "## **7. Pairplot to Visualize Relationships Between Features**"
      ],
      "metadata": {
        "id": "Bwl97T-nGq0r"
      },
      "id": "Bwl97T-nGq0r"
    },
    {
      "cell_type": "code",
      "source": [],
      "metadata": {
        "id": "ilfHjTbFI6L-"
      },
      "id": "ilfHjTbFI6L-",
      "execution_count": null,
      "outputs": []
    },
    {
      "cell_type": "markdown",
      "source": [
        "## **8. Boxplot to Check for Outliers**"
      ],
      "metadata": {
        "id": "6pR3U93XG0a6"
      },
      "id": "6pR3U93XG0a6"
    },
    {
      "cell_type": "code",
      "source": [
        "# 8. Boxplot to Check for Outliers\n",
        "plt.figure(figsize=(12, 8))\n",
        "sns.boxplot(data=data, orient='h', palette='Set2')\n",
        "plt.title(\"Boxplot of All Features\")\n",
        "plt.show()\n"
      ],
      "metadata": {
        "id": "VAmV7KrUAxJa"
      },
      "id": "VAmV7KrUAxJa",
      "execution_count": null,
      "outputs": []
    },
    {
      "cell_type": "markdown",
      "source": [
        "## **9. Class Distribution Plot (Before and After SMOTE)**"
      ],
      "metadata": {
        "id": "2YwWDjBOG5vk"
      },
      "id": "2YwWDjBOG5vk"
    },
    {
      "cell_type": "code",
      "source": [
        "# 9. Class Distribution Plot (Before and After SMOTE)\n",
        "df_class_distribution = pd.DataFrame({\n",
        "    'Class': ['No', 'Yes'],\n",
        "    'Original': [Counter(y)[0], Counter(y)[1]],\n",
        "    'After SMOTE': [Counter(y_train_resampled)[0], Counter(y_train_resampled)[1]]\n",
        "})\n",
        "\n",
        "df_class_distribution.set_index('Class').plot(kind='bar', figsize=(8, 5), color=['skyblue', 'orange'])\n",
        "plt.title('Class Distribution Before and After SMOTE')\n",
        "plt.ylabel('Count')\n",
        "plt.xlabel('Class')\n",
        "plt.xticks(rotation=0)\n",
        "plt.grid(axis='y', linestyle='--', alpha=0.7)\n",
        "plt.legend(title='Dataset')\n",
        "plt.show()\n"
      ],
      "metadata": {
        "id": "EiMtAFsiA9MU"
      },
      "id": "EiMtAFsiA9MU",
      "execution_count": null,
      "outputs": []
    },
    {
      "cell_type": "markdown",
      "source": [
        "## **Corrections and Updates according to Analizsis**"
      ],
      "metadata": {
        "id": "nf7HT2_eIqoc"
      },
      "id": "nf7HT2_eIqoc"
    },
    {
      "cell_type": "code",
      "source": [],
      "metadata": {
        "id": "y_skMol1IpFG"
      },
      "id": "y_skMol1IpFG",
      "execution_count": null,
      "outputs": []
    },
    {
      "cell_type": "markdown",
      "source": [
        "# **Train Model**"
      ],
      "metadata": {
        "id": "PlMFav0CUZMu"
      },
      "id": "PlMFav0CUZMu"
    },
    {
      "cell_type": "markdown",
      "source": [
        "# **Evaluate the Model**"
      ],
      "metadata": {
        "id": "qbv5L_h8UsV-"
      },
      "id": "qbv5L_h8UsV-"
    },
    {
      "cell_type": "markdown",
      "source": [
        "# **Optimize the Model**"
      ],
      "metadata": {
        "id": "__7JTigRUskz"
      },
      "id": "__7JTigRUskz"
    }
  ],
  "metadata": {
    "kernelspec": {
      "display_name": "",
      "name": ""
    },
    "language_info": {
      "name": ""
    },
    "colab": {
      "provenance": []
    }
  },
  "nbformat": 4,
  "nbformat_minor": 5
}